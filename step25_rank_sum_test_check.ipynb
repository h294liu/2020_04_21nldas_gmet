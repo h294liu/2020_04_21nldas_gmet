{
 "cells": [
  {
   "cell_type": "code",
   "execution_count": 42,
   "metadata": {},
   "outputs": [
    {
     "name": "stdout",
     "output_type": "stream",
     "text": [
      "Rank_sum test\n"
     ]
    },
    {
     "name": "stderr",
     "output_type": "stream",
     "text": [
      "100%|██████████| 224/224 [04:20<00:00,  1.16s/it]\n"
     ]
    },
    {
     "name": "stdout",
     "output_type": "stream",
     "text": [
      "Save\n",
      "Done\n"
     ]
    }
   ],
   "source": [
    "#!/usr/bin/env python\n",
    "# coding: utf-8\n",
    "\n",
    "# This script is used to compare ensemble outputs with NLDAS data\n",
    "import argparse\n",
    "import numpy as np\n",
    "import matplotlib as mpl\n",
    "import matplotlib.pyplot as plt\n",
    "import os\n",
    "import pandas as pd\n",
    "import xarray as xr\n",
    "import datetime\n",
    "from scipy.stats import mannwhitneyu\n",
    "import multiprocessing as mp\n",
    "import numpy.matlib\n",
    "from tqdm import tqdm \n",
    "\n",
    "def read_stn_regr(out_forc_name_base, var, start_yr, end_yr):\n",
    "    for yr in range(start_yr, end_yr+1):        \n",
    "        \n",
    "        file = os.path.join(out_forc_name_base + str(yr)+'0101_' + str(yr)+'1231' + '.nc')\n",
    "        f=xr.open_dataset(file)\n",
    "        time = f['time'][:]\n",
    "        error = f.variables[var][:]\n",
    "        \n",
    "        if yr == start_yr:\n",
    "            time_concat = time\n",
    "            error_concat = error\n",
    "        else:\n",
    "            time_concat = np.concatenate((time_concat,time), axis=0) # (time)\n",
    "            error_concat = np.concatenate((error_concat, error), axis=0) # (time,y,x)\n",
    "            \n",
    "    time_concat = pd.DatetimeIndex(time_concat)\n",
    "        \n",
    "    return time_concat, error_concat\n",
    "\n",
    "def read_nldas_regr(out_forc_name_base, var, start_yr, end_yr):\n",
    "    for yr in range(start_yr, end_yr+1):        \n",
    "        \n",
    "        file = os.path.join(out_forc_name_base + '.' + str(yr) + '.nc')\n",
    "        f=xr.open_dataset(file)\n",
    "        time = f['time'][:]\n",
    "        error = f.variables[var][:]\n",
    "        \n",
    "        if yr == start_yr:\n",
    "            time_concat = time\n",
    "            error_concat = error\n",
    "        else:\n",
    "            time_concat = np.concatenate((time_concat,time), axis=0) # (time)\n",
    "            error_concat = np.concatenate((error_concat, error), axis=0) # (time,y,x)\n",
    "            \n",
    "    time_concat = pd.DatetimeIndex(time_concat)\n",
    "        \n",
    "    return time_concat, error_concat\n",
    "\n",
    "def mod_mannwhitneyu(x, y):\n",
    "    # reference: https://machinelearningmastery.com/nonparametric-statistical-significance-tests-in-python/\n",
    "    # reference: https://www.statsdirect.com/help/basics/p_values.htm\n",
    "    alpha1 = 0.05 # statistically significant\n",
    "    alpha2 = 0.01\n",
    "    alpha3 = 0.001 #statistically highly significant\n",
    "    \n",
    "    if all(np.isnan(x)) or all(np.isnan(y)):\n",
    "#         print('all nan')\n",
    "        p,judge1,judge2,judge3 = -999,-999,-999,-999\n",
    "    else:\n",
    "        \n",
    "        stat, p = mannwhitneyu(x, y, use_continuity=True, alternative='two-sided')\n",
    "\n",
    "        if p > alpha1:\n",
    "            judge1,judge2,judge3 = 1,1,1 # Same distribution at alpha1,2,3 (fail to reject H0)\n",
    "        elif p <= alpha1 and p > alpha2:\n",
    "            judge1,judge2,judge3 = 0,1,1 # Different distribution at alpha1 (reject H0)'\n",
    "        elif p <= alpha2 and p > alpha3:\n",
    "            judge1,judge2,judge3 = 0,0,1 # Different distribution at alpha2 (reject H0)'\n",
    "        elif p <= alpha3:\n",
    "            judge1,judge2,judge3 = 0,0,0 # Different distribution at alpha3 (reject H0)'\n",
    "    \n",
    "    return p,judge1,judge2,judge3   \n",
    "\n",
    "def MAE(x,y):\n",
    "    if all(np.isnan(x)) or all(np.isnan(y)):\n",
    "        mae = -999\n",
    "    else:\n",
    "        mae=np.nanmean(np.absolute(x-y)) \n",
    "    return mae\n",
    "\n",
    "def crps_ensemble(x,y):\n",
    "    \n",
    "    if all(np.isnan(x)) or all(np.isnan(y)):\n",
    "#         print('all nan')\n",
    "        crps = -999\n",
    "    else:\n",
    "        \n",
    "        #points\n",
    "        p=np.linspace(0.9*np.minimum(np.amin(x), np.amin(y)),1.1*np.maximum(np.amax(x), np.amax(y)),num=50)\n",
    "        data_num = len(x)\n",
    "\n",
    "        #cumulative probability of p among x       \n",
    "        a_obs=numpy.matlib.repmat(p,data_num,1)\n",
    "        x.sort()\n",
    "        b_obs=np.transpose(numpy.matlib.repmat(x,p.shape[0],1))\n",
    "        F_obs=np.divide(np.sum(a_obs>b_obs,axis=0),data_num*1.0)\n",
    "\n",
    "        #cumulative probability of p among y       \n",
    "        a_sim=numpy.matlib.repmat(p,data_num,1)\n",
    "        y.sort()\n",
    "        b_sim=np.transpose(numpy.matlib.repmat(y,p.shape[0],1))\n",
    "        F_sim=np.divide(np.sum(a_sim>b_sim,axis=0),data_num*1.0)\n",
    "\n",
    "        #CRPS calculation: area between F and H\n",
    "        dif=np.power(F_sim-F_obs,2)\n",
    "        crps=np.trapz(dif,p)\n",
    "\n",
    "    return crps\n",
    "\n",
    "#======================================================================================================\n",
    "def process_command_line():\n",
    "    '''Parse the commandline'''\n",
    "    parser = argparse.ArgumentParser(description='Script to do rank_sum test and calucalte CRPS between samples.')\n",
    "    parser.add_argument('scenarios_id',\n",
    "                        help='path of the HUC12 shapefile.')\n",
    "    parser.add_argument('stn_var', \n",
    "                        help='HUC12 Id of the outlet flow gauge (in string). Obtained by viewing usgs_gauge_conus.shp and Catchment_UCOplus.shp.')\n",
    "    parser.add_argument('nldas_var',\n",
    "                        help='output file directory where basin HUC id will be written.')\n",
    "    args = parser.parse_args()\n",
    "    return(args)\n",
    "\n",
    "\n",
    "# main\n",
    "if __name__ == '__main__':\n",
    "\n",
    "    # an example: python step25_rank_sum_test.py 0 'pcp_error' 'pcp_error_update'\n",
    "    \n",
    "    # process command line\n",
    "    args = process_command_line()    \n",
    "    scenarios_id=int(args.scenarios_id)\n",
    "    stn_var=str(args.stn_var)\n",
    "    nldas_var=str(args.nldas_var)\n",
    "    print(scenarios_id,stn_var,nldas_var)\n",
    "    \n",
    "#     # FOR TEST\n",
    "#     scenarios_id=8\n",
    "#     stn_var='tmean_error' #'pcp_error'\n",
    "#     nldas_var='tmean_error' #'pcp_error_update'\n",
    "\n",
    "    # directories\n",
    "    root_dir = '/glade/u/home/hongli/scratch/2020_04_21nldas_gmet'   \n",
    "    stn_grid_file = os.path.join(root_dir,'data/nldas_topo/conus_ens_grid_eighth.nc')\n",
    "    nldas_grid_file = os.path.join(root_dir,'data/nldas_topo/conus_ens_grid_eighth_deg_v1p1.nc')\n",
    "    stn_regr_dir = os.path.join(root_dir,'data/stn_regr')\n",
    "\n",
    "    result_dir = os.path.join(root_dir,'test_uniform_perturb')\n",
    "    test_folders = [d for d in os.listdir(result_dir)]\n",
    "    test_folders = sorted(test_folders)\n",
    "    test_folder = test_folders[scenarios_id]\n",
    "    nldas_regr_dir = os.path.join(root_dir,'test_uniform_perturb',test_folder,'gmet_regr')\n",
    "\n",
    "    time_format = '%Y-%m-%d'\n",
    "    start_yr = 2013\n",
    "    end_yr = 2016\n",
    "    plot_date_start = '2013-01-01'\n",
    "    plot_date_end = '2016-12-31'\n",
    "    plot_date_start_obj = datetime.datetime.strptime(plot_date_start, time_format)\n",
    "    plot_date_end_obj = datetime.datetime.strptime(plot_date_end, time_format)\n",
    "\n",
    "    output_dir=os.path.join(root_dir, 'scripts/step25_rank_sum_test')\n",
    "    if not os.path.exists(output_dir):\n",
    "        os.makedirs(output_dir)\n",
    "\n",
    "    #======================================================================================================\n",
    "    print('Read gridinfo mask')\n",
    "    # get xy mask from gridinfo.nc\n",
    "    f_stn_grid = xr.open_dataset(stn_grid_file)\n",
    "    stn_mask_xy = f_stn_grid['mask'].values[:] # (y, x). 1 is valid. 0 is invalid.\n",
    "    \n",
    "    f_nldas_grid = xr.open_dataset(nldas_grid_file)\n",
    "    nldas_mask_xy = f_nldas_grid['mask'].values[:] # (y, x). 1 is valid. 0 is invalid.\n",
    "    \n",
    "    # commonly available area\n",
    "    mask_xy = (stn_mask_xy==0) | (nldas_mask_xy==0) \n",
    "    \n",
    "    #======================================================================================================\n",
    "    # read stn regression errors\n",
    "    print('Read stn regression errors')\n",
    "    # read\n",
    "    output_namebase = os.path.join(stn_regr_dir, 'conus_regress_eighth_')\n",
    "    stn_time_regr, stn_error = read_stn_regr(output_namebase, stn_var, start_yr, end_yr)\n",
    "\n",
    "    # define plot mask for stn regr\n",
    "    mask_stn_t = (stn_time_regr>=plot_date_start_obj) & (stn_time_regr<=plot_date_end_obj)\n",
    "    stn_error = stn_error[mask_stn_t,:,:]    \n",
    "\n",
    "    #======================================================================================================\n",
    "    # read scenario regression results \n",
    "    print('Read nldas regression errors')\n",
    "    # read\n",
    "    output_namebase = os.path.join(nldas_regr_dir,'regress_ts')\n",
    "    nldas_time_regr, nldas_error = read_nldas_regr(output_namebase, nldas_var, start_yr, end_yr)\n",
    "\n",
    "    # define plot mask for nldas regr\n",
    "    mask_nldas_t = (nldas_time_regr>=plot_date_start_obj) & (nldas_time_regr<=plot_date_end_obj)\n",
    "    nldas_error = nldas_error[mask_nldas_t,:,:]    \n",
    "\n",
    "    #======================================================================================================\n",
    "    # rank_sum test and CRPS  \n",
    "    print('Rank_sum test')\n",
    "\n",
    "    stn_error[:,mask_xy] = np.nan # fill_value of stn_regr is zero.\n",
    "    nldas_error[:,mask_xy] = np.nan \n",
    "\n",
    "    (ny,nx) = np.shape(mask_xy)\n",
    "    test = np.zeros((ny,nx,4)) # three significance/alpha levels\n",
    "    crps = np.zeros((ny,nx))\n",
    "    mae = np.zeros((ny,nx))\n",
    "   \n",
    "    # step 1: Init multiprocessing.Pool()\n",
    "    pool = mp.Pool(mp.cpu_count())\n",
    "\n",
    "    # step 2: `pool.apply`     \n",
    "    for i in tqdm(range(ny)):\n",
    "        test[i,:,:] = [pool.apply(mod_mannwhitneyu, args=(stn_error[:,i,j], nldas_error[:,i,j])) for j in range(nx)]\n",
    "        crps[i,:] = [pool.apply(crps_ensemble, args=(stn_error[:,i,j], nldas_error[:,i,j])) for j in range(nx)]\n",
    "        mae[i,:] = [pool.apply(MAE, args=(stn_error[:,i,j], nldas_error[:,i,j])) for j in range(nx)]\n",
    "\n",
    "    # step 3: Don't forget to close\n",
    "    pool.close()   \n",
    "    \n",
    "    #======================================================================================================\n",
    "    # Save  \n",
    "    print('Save')\n",
    "    # save results\n",
    "    output_file_namebase = test_folder+'_'+nldas_var\n",
    "\n",
    "    # p value\n",
    "    ofile = os.path.join(output_dir, output_file_namebase+'_HypoTest_p.txt')\n",
    "    np.savetxt(ofile,test[:,:,0],fmt='%f',delimiter=',', \n",
    "               header='Rank_sum test (p-values).')\n",
    "    \n",
    "    # hypothesis test judge\n",
    "    alphas = ['005', '001', '0001']\n",
    "    for i in range(len(alphas)):\n",
    "        alpha = alphas[i]\n",
    "        ofile = os.path.join(output_dir, output_file_namebase+'_HypoTest_'+alpha+'.txt')\n",
    "        np.savetxt(ofile,test[:,:,i+1],fmt='%d',delimiter=',', \n",
    "                   header='Rank_sum test (alpha = '+alpha+'. 1 is different, 0 is the same dist.).')\n",
    "    # crps\n",
    "    ofile = os.path.join(output_dir, output_file_namebase+'_CRPS.txt')\n",
    "    np.savetxt(ofile,crps,fmt='%f',delimiter=',', \n",
    "               header='CRPS between stn_regr and nldas_regr uncertainties at each grid.')\n",
    "\n",
    "    print('Done')\n"
   ]
  },
  {
   "cell_type": "code",
   "execution_count": 52,
   "metadata": {},
   "outputs": [
    {
     "name": "stderr",
     "output_type": "stream",
     "text": [
      "100%|██████████| 224/224 [02:55<00:00,  1.28it/s]\n"
     ]
    }
   ],
   "source": [
    "crps = np.zeros((ny,nx))\n",
    "# step 1: Init multiprocessing.Pool()\n",
    "pool = mp.Pool(mp.cpu_count())\n",
    "\n",
    "# step 2: `pool.apply`     \n",
    "for i in tqdm(range(ny)):\n",
    "    crps[i,:] = [pool.apply(crps_ensemble, args=(stn_error[:,i,j], nldas_error[:,i,j])) for j in range(nx)]\n",
    "\n",
    "# step 3: Don't forget to close\n",
    "pool.close()   \n",
    "\n",
    "ofile = os.path.join(output_dir, output_file_namebase+'_CRPS.txt')\n",
    "np.savetxt(ofile,crps,fmt='%f',delimiter=',', \n",
    "           header='CRPS between stn_regr and nldas_regr uncertainties at each grid.')\n"
   ]
  },
  {
   "cell_type": "code",
   "execution_count": 16,
   "metadata": {},
   "outputs": [
    {
     "name": "stdout",
     "output_type": "stream",
     "text": [
      "Done\n"
     ]
    }
   ],
   "source": [
    "import numpy as np\n",
    "import os\n",
    "import matplotlib.pyplot as plt\n",
    "\n",
    "root_dir = '/glade/u/home/hongli/scratch/2020_04_21nldas_gmet'   \n",
    "output_dir=os.path.join(root_dir, 'scripts/step25_rank_sum_test')\n",
    "test_folder = '00818grids'\n",
    "nldas_var = 'tmean_error_2'\n",
    "output_file_namebase = test_folder+'_'+nldas_var\n",
    "\n",
    "ofile = os.path.join(output_dir, output_file_namebase+'_HypoTest_p.txt')\n",
    "p = np.loadtxt(ofile,delimiter=',')\n",
    "# p=np.where(data==-999,np.nan,data)\n",
    "\n",
    "ofile = os.path.join(output_dir, output_file_namebase+'_HypoTest_005.txt')\n",
    "judge = np.loadtxt(ofile,delimiter=',')\n",
    "# judge=np.where(data==-999,np.nan,data)\n",
    "\n",
    "ofile = os.path.join(output_dir, output_file_namebase+'_MAE.txt')\n",
    "mae = np.loadtxt(ofile,delimiter=',')\n",
    "# mae=np.where(data==-999,np.nan,data)\n",
    "\n",
    "print('Done')\n"
   ]
  },
  {
   "cell_type": "code",
   "execution_count": 8,
   "metadata": {},
   "outputs": [
    {
     "data": {
      "text/plain": [
       "(array([  0,   0,   0, ..., 223, 223, 223]),\n",
       " array([101, 102, 103, ..., 461, 462, 463]))"
      ]
     },
     "execution_count": 8,
     "metadata": {},
     "output_type": "execute_result"
    }
   ],
   "source": [
    "np.where(judge==0)"
   ]
  },
  {
   "cell_type": "code",
   "execution_count": 9,
   "metadata": {},
   "outputs": [
    {
     "data": {
      "text/plain": [
       "(nan, nan, nan)"
      ]
     },
     "execution_count": 9,
     "metadata": {},
     "output_type": "execute_result"
    }
   ],
   "source": [
    "i = 1\n",
    "j = 103\n",
    "judge[i,j],p[i,j],mae[i,j]"
   ]
  },
  {
   "cell_type": "code",
   "execution_count": 17,
   "metadata": {},
   "outputs": [
    {
     "data": {
      "image/png": "[encoded data removed]",
      "text/plain": [
       "<Figure size 432x288 with 1 Axes>"
      ]
     },
     "metadata": {
      "needs_background": "light"
     },
     "output_type": "display_data"
    },
    {
     "data": {
      "image/png": "[encoded data removed]",
      "text/plain": [
       "<Figure size 432x288 with 1 Axes>"
      ]
     },
     "metadata": {
      "needs_background": "light"
     },
     "output_type": "display_data"
    },
    {
     "data": {
      "image/png": "[encoded data removed]",
      "text/plain": [
       "<Figure size 432x288 with 1 Axes>"
      ]
     },
     "metadata": {
      "needs_background": "light"
     },
     "output_type": "display_data"
    }
   ],
   "source": [
    "import matplotlib.pyplot as plt\n",
    "plt.imshow((judge==1),origin='lower')\n",
    "plt.show()\n",
    "plt.imshow((judge==0),origin='lower')\n",
    "plt.show()\n",
    "plt.imshow((judge==-999),origin='lower')\n",
    "plt.show()"
   ]
  },
  {
   "cell_type": "code",
   "execution_count": 45,
   "metadata": {},
   "outputs": [
    {
     "data": {
      "text/plain": [
       "array([[ True,  True,  True, ...,  True,  True,  True],\n",
       "       [ True,  True,  True, ...,  True,  True,  True],\n",
       "       [ True,  True,  True, ...,  True,  True,  True],\n",
       "       ...,\n",
       "       [ True,  True,  True, ...,  True,  True,  True],\n",
       "       [ True,  True,  True, ...,  True,  True,  True],\n",
       "       [ True,  True,  True, ...,  True,  True,  True]])"
      ]
     },
     "execution_count": 45,
     "metadata": {},
     "output_type": "execute_result"
    }
   ],
   "source": [
    "crps"
   ]
  },
  {
   "cell_type": "code",
   "execution_count": null,
   "metadata": {},
   "outputs": [],
   "source": []
  }
 ],
 "metadata": {
  "kernelspec": {
   "display_name": "conda_hongli",
   "language": "python",
   "name": "conda_hongli"
  },
  "language_info": {
   "codemirror_mode": {
    "name": "ipython",
    "version": 3
   },
   "file_extension": ".py",
   "mimetype": "text/x-python",
   "name": "python",
   "nbconvert_exporter": "python",
   "pygments_lexer": "ipython3",
   "version": "3.8.3"
  }
 },
 "nbformat": 4,
 "nbformat_minor": 4
}
