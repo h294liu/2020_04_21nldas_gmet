{
 "cells": [
  {
   "cell_type": "code",
   "execution_count": 9,
   "metadata": {},
   "outputs": [
    {
     "name": "stdout",
     "output_type": "stream",
     "text": [
      "Read gridinfo mask\n",
      "Read ensemble member\n",
      "Read ensemble member (bias corrected)\n",
      "Done\n"
     ]
    }
   ],
   "source": [
    "#!/usr/bin/env python\n",
    "# coding: utf-8\n",
    "\n",
    "# This script is used to compare ensemble outputs with NLDAS data\n",
    "import numpy as np\n",
    "import matplotlib as mpl\n",
    "import matplotlib.pyplot as plt\n",
    "import os\n",
    "import pandas as pd\n",
    "import xarray as xr\n",
    "import datetime\n",
    "from tqdm import tqdm\n",
    "\n",
    "def read_nldas(file_dir, start_yr, end_yr):\n",
    "    for yr in range(start_yr, end_yr+1):\n",
    "\n",
    "        nldas_file = 'NLDAS_'+str(yr)+'.nc'\n",
    "        nldas_path = os.path.join(file_dir, nldas_file)\n",
    "\n",
    "        f_nldas = xr.open_dataset(nldas_path)\n",
    "        if yr == start_yr:\n",
    "            pcp = f_nldas['pcp'].values[:] # (time, y, x). unit: mm/day\n",
    "            time = f_nldas['time'].values[:]\n",
    "        else:\n",
    "            pcp = np.concatenate((pcp, f_nldas['pcp'].values[:]), axis = 0)\n",
    "            time = np.concatenate((time, f_nldas['time'].values[:]), axis = 0)\n",
    "\n",
    "    return time, pcp\n",
    "\n",
    "def read_regress_std(file_dir, start_yr, end_yr):\n",
    "    for yr in range(start_yr, end_yr+1):        \n",
    "        \n",
    "        filename='regress_ts.%d.nc'%(yr)\n",
    "        file = os.path.join(file_dir, filename)\n",
    "        f=xr.open_dataset(file)\n",
    "        time = f['time'].values[:]\n",
    "        pcp_error = f['pcp_error'].values[:] # std\n",
    "        tmean_error_2 = f['tmean_error_2'].values[:]\n",
    "        trange_error_2 = f['trange_error_2'].values[:]\n",
    "        \n",
    "        if yr == start_yr:\n",
    "            time_concat = time\n",
    "            pcp_error_concat = pcp_error\n",
    "            tmean_error_2_concat = tmean_error_2\n",
    "            trange_error_2_concat = trange_error_2\n",
    "        else:\n",
    "            time_concat = np.concatenate((time_concat,time), axis=0) # (time)\n",
    "            pcp_error_concat = np.concatenate((pcp_error_concat, pcp_error), axis=0)\n",
    "            tmean_error_2_concat = np.concatenate((tmean_error_2_concat, tmean_error_2), axis=0)\n",
    "            trange_error_2_concat = np.concatenate((trange_error_2_concat, trange_error_2), axis=0)\n",
    "            \n",
    "    time_concat = pd.to_datetime(time_concat)        \n",
    "    return time_concat, pcp_error_concat, tmean_error_2_concat, trange_error_2_concat\n",
    "\n",
    "#======================================================================================================\n",
    "# main script\n",
    "root_dir = '/glade/u/home/hongli/scratch/2020_04_21nldas_gmet'   \n",
    "stn_ens_dir = os.path.join(root_dir,'data/stn_ens_summary')\n",
    "nldas_ens_dir = os.path.join(root_dir,'test_uniform_perturb/18212grids/gmet_ens')\n",
    "nldas_ens_bc_dir = os.path.join(root_dir,'test_uniform_perturb/18212grids/gmet_ens_bc')\n",
    "nldas_dir = os.path.join(root_dir,'data/nldas_daily_utc_convert')\n",
    "start_yr = 2016 #1979 #2013\n",
    "end_yr = 2016 #2019 #2016\n",
    "mb = 81\n",
    "\n",
    "gridinfo_file = os.path.join(root_dir,'data/nldas_topo/conus_ens_grid_eighth.nc')\n",
    "\n",
    "result_dir = os.path.join(root_dir,'test_uniform_perturb')\n",
    "test_folders = [d for d in os.listdir(result_dir)]\n",
    "test_folders = sorted(test_folders)\n",
    "scenarios_ids = range(0,9) \n",
    "\n",
    "time_format = '%Y-%m-%d'\n",
    "plot_date_start = '2016-01-01'#'1979-01-01' #'2013-01-01'\n",
    "plot_date_end = '2016-12-31'#'2019-12-31' #'2016-12-31'\n",
    "plot_date_start_obj = datetime.datetime.strptime(plot_date_start, time_format)\n",
    "plot_date_end_obj = datetime.datetime.strptime(plot_date_end, time_format)\n",
    "\n",
    "dpi_value = 150\n",
    "output_dir=os.path.join(root_dir, 'scripts/step27_plot_uncertainty_DOY_all')\n",
    "if not os.path.exists(output_dir):\n",
    "    os.makedirs(output_dir)\n",
    "output_filename = 'all.png'\n",
    "   \n",
    "#======================================================================================================\n",
    "print('Read gridinfo mask')\n",
    "# get xy mask from gridinfo.nc\n",
    "f_gridinfo = xr.open_dataset(gridinfo_file)\n",
    "mask_xy = f_gridinfo['mask'].values[:] # (y, x). 1 is valid. 0 is invalid.\n",
    "\n",
    "#======================================================================================================\n",
    "print('Read ensemble member')\n",
    "# read ensemble member\n",
    "for yr in range(start_yr, end_yr+1):        \n",
    "\n",
    "    filename='ens_forc.%d.%03d.nc'%(yr,mb)\n",
    "    file = os.path.join(nldas_ens_dir, filename)\n",
    "    f=xr.open_dataset(file)\n",
    "    time = f['time'].values[:]\n",
    "    pcp = f['pcp'].values[:]\n",
    "    tmean = f['t_mean'].values[:]\n",
    "    trange = f['t_range'].values[:]\n",
    "    tmin = f['t_min'].values[:]\n",
    "    tmax = f['t_max'].values[:]\n",
    "\n",
    "    if yr == start_yr:\n",
    "        time_concat = time\n",
    "        pcp_concat = pcp\n",
    "        tmean_concat = tmean\n",
    "        trange_concat = trange\n",
    "        tmin_concat = tmin\n",
    "        tmax_concat = tmax\n",
    "    else:\n",
    "        time_concat = np.concatenate((time_concat,time), axis=0) # (time)\n",
    "        pcp_concat = np.concatenate((pcp_concat, pcp), axis=0) # (time,y,x)\n",
    "        tmean_concat = np.concatenate((tmean_concat, tmean), axis=0)\n",
    "        trange_concat = np.concatenate((trange_concat, trange), axis=0)            \n",
    "        tmin_concat = np.concatenate((tmin_concat, tmin), axis=0)            \n",
    "        tmax_concat = np.concatenate((tmax_concat, tmax), axis=0)            \n",
    "\n",
    "time_concat = pd.to_datetime(time_concat)        \n",
    "time_mb, pcp_mb, tmean_mb, trange_mb, tmin_mb, tmax_mb = time_concat,pcp_concat,tmean_concat,trange_concat,tmin_concat,tmax_concat\n",
    "\n",
    "#======================================================================================================\n",
    "print('Read ensemble member (bias corrected)')\n",
    "# read ensemble member\n",
    "for yr in range(start_yr, end_yr+1):        \n",
    "\n",
    "    filename='ens_forc.%d.%03d.nc'%(yr,mb)\n",
    "    file = os.path.join(nldas_ens_bc_dir, filename)\n",
    "    f=xr.open_dataset(file)\n",
    "    time = f['time'].values[:]\n",
    "    pcp = f['pcp'].values[:]\n",
    "    tmean = f['t_mean'].values[:]\n",
    "    trange = f['t_range'].values[:]\n",
    "    tmin = f['t_min'].values[:]\n",
    "    tmax = f['t_max'].values[:]\n",
    "\n",
    "    if yr == start_yr:\n",
    "        time_concat = time\n",
    "        pcp_concat = pcp\n",
    "        tmean_concat = tmean\n",
    "        trange_concat = trange\n",
    "        tmin_concat = tmin\n",
    "        tmax_concat = tmax\n",
    "    else:\n",
    "        time_concat = np.concatenate((time_concat,time), axis=0) # (time)\n",
    "        pcp_concat = np.concatenate((pcp_concat, pcp), axis=0) # (time,y,x)\n",
    "        tmean_concat = np.concatenate((tmean_concat, tmean), axis=0)\n",
    "        trange_concat = np.concatenate((trange_concat, trange), axis=0)            \n",
    "        tmin_concat = np.concatenate((tmin_concat, tmin), axis=0)            \n",
    "        tmax_concat = np.concatenate((tmax_concat, tmax), axis=0)            \n",
    "\n",
    "time_concat = pd.to_datetime(time_concat)        \n",
    "time_mb_bc, pcp_mb_bc, tmean_mb_bc, trange_mb_bc, tmin_mb_bc, tmax_mb_bc = time_concat,pcp_concat,tmean_concat,trange_concat,tmin_concat,tmax_concat\n",
    "\n",
    "# #======================================================================================================\n",
    "# print('extract useful period')\n",
    "# mb_mask_t = (time_mb>=plot_date_start_obj) & (time_mb<=plot_date_end_obj)\n",
    "# pcp_mb_mean = np.nanmean(pcp_mb[mb_mask_t,:,:],axis=0) \n",
    "# tmean_mb_mean = np.nanmean(tmean_mb[mb_mask_t,:,:],axis=0) \n",
    "# trange_mb_mean = np.nanmean(trange_mb[mb_mask_t,:,:],axis=0) \n",
    "\n",
    "# pcp_mb1_mean=np.where(mask_xy==0,np.nan,pcp_mb1_mean)\n",
    "\n",
    "print('Done')"
   ]
  },
  {
   "cell_type": "code",
   "execution_count": 10,
   "metadata": {},
   "outputs": [
    {
     "name": "stderr",
     "output_type": "stream",
     "text": [
      "<ipython-input-10-b36b4e6b152b>:1: RuntimeWarning: invalid value encountered in less\n",
      "  np.where(trange_mb_bc<0),np.where(tmax_mb_bc<tmin_mb_bc)\n"
     ]
    },
    {
     "data": {
      "text/plain": [
       "((array([  0,   0,   0, ..., 365, 365, 365]),\n",
       "  array([ 0,  0,  2, ..., 12, 13, 14]),\n",
       "  array([114, 115, 102, ..., 123, 108, 106])),\n",
       " (array([  0,   0,   0, ..., 365, 365, 365]),\n",
       "  array([ 0,  0,  2, ..., 12, 13, 14]),\n",
       "  array([114, 115, 102, ..., 123, 108, 106])))"
      ]
     },
     "execution_count": 10,
     "metadata": {},
     "output_type": "execute_result"
    }
   ],
   "source": [
    "np.where(trange_mb_bc<0),np.where(tmax_mb_bc<tmin_mb_bc)"
   ]
  },
  {
   "cell_type": "code",
   "execution_count": 11,
   "metadata": {},
   "outputs": [
    {
     "name": "stderr",
     "output_type": "stream",
     "text": [
      "<ipython-input-11-8634a811da7d>:1: RuntimeWarning: invalid value encountered in less\n",
      "  np.where(trange_mb<0),np.where(tmax_mb<tmin_mb)\n"
     ]
    },
    {
     "data": {
      "text/plain": [
       "((array([], dtype=int64), array([], dtype=int64), array([], dtype=int64)),\n",
       " (array([], dtype=int64), array([], dtype=int64), array([], dtype=int64)))"
      ]
     },
     "execution_count": 11,
     "metadata": {},
     "output_type": "execute_result"
    }
   ],
   "source": [
    "np.where(trange_mb<0),np.where(tmax_mb<tmin_mb)"
   ]
  },
  {
   "cell_type": "code",
   "execution_count": 6,
   "metadata": {},
   "outputs": [
    {
     "data": {
      "text/plain": [
       "<matplotlib.image.AxesImage at 0x2b99bcef7910>"
      ]
     },
     "execution_count": 6,
     "metadata": {},
     "output_type": "execute_result"
    },
    {
     "data": {
      "image/png": "[encoded data removed]",
      "text/plain": [
       "<Figure size 432x288 with 1 Axes>"
      ]
     },
     "metadata": {
      "needs_background": "light"
     },
     "output_type": "display_data"
    }
   ],
   "source": [
    "plt.imshow(trange_mb_bc[0,:,:]==0,origin=1)"
   ]
  },
  {
   "cell_type": "code",
   "execution_count": 7,
   "metadata": {},
   "outputs": [
    {
     "data": {
      "text/plain": [
       "(array([], dtype=int64), array([], dtype=int64), array([], dtype=int64))"
      ]
     },
     "execution_count": 7,
     "metadata": {},
     "output_type": "execute_result"
    }
   ],
   "source": [
    "np.where(trange_mb_bc==0)"
   ]
  },
  {
   "cell_type": "code",
   "execution_count": 8,
   "metadata": {},
   "outputs": [
    {
     "data": {
      "text/plain": [
       "(2.0, 31.525463, -8.722699, 44.75418)"
      ]
     },
     "execution_count": 8,
     "metadata": {},
     "output_type": "execute_result"
    }
   ],
   "source": [
    "np.nanmin(trange_mb),np.nanmax(trange_mb),np.nanmin(trange_mb_bc),np.nanmax(trange_mb_bc)"
   ]
  },
  {
   "cell_type": "code",
   "execution_count": null,
   "metadata": {},
   "outputs": [],
   "source": []
  }
 ],
 "metadata": {
  "kernelspec": {
   "display_name": "conda_hongli",
   "language": "python",
   "name": "conda_hongli"
  },
  "language_info": {
   "codemirror_mode": {
    "name": "ipython",
    "version": 3
   },
   "file_extension": ".py",
   "mimetype": "text/x-python",
   "name": "python",
   "nbconvert_exporter": "python",
   "pygments_lexer": "ipython3",
   "version": "3.8.3"
  }
 },
 "nbformat": 4,
 "nbformat_minor": 4
}
