{
 "cells": [
  {
   "cell_type": "code",
   "execution_count": 4,
   "metadata": {},
   "outputs": [
    {
     "data": {
      "text/plain": [
       "(<xarray.DataArray 'tair_min' ()>\n",
       " array(-2.009979, dtype=float32)\n",
       " Coordinates:\n",
       "     time     datetime64[ns] 2015-01-01\n",
       "     lon_110  float32 -122.063\n",
       "     lat_110  float32 48.313, <xarray.Variable ()>\n",
       " array(0.690002, dtype=float32))"
      ]
     },
     "execution_count": 4,
     "metadata": {},
     "output_type": "execute_result"
    }
   ],
   "source": [
    "# check NLDAS conversion (tmin, tmax)\n",
    "import xarray as xr\n",
    "\n",
    "file = '/glade/u/home/hongli/scratch/2020_04_21nldas_gmet/data/nldas_daily_utc/NLDAS_2015.nc'\n",
    "f=xr.open_dataset(file)\n",
    "tair_min = f['tair_min'][:]\n",
    "tair_max = f.variables['tair_max'][:]\n",
    "\n",
    "tair_min = tair_min-273.15\n",
    "tair_max = tair_max-273.15\n",
    "\n",
    "tair_min[0,186,23],tair_max[0,197,21]"
   ]
  },
  {
   "cell_type": "code",
   "execution_count": null,
   "metadata": {},
   "outputs": [],
   "source": []
  }
 ],
 "metadata": {
  "kernelspec": {
   "display_name": "Python [conda env:ENTER]",
   "language": "python",
   "name": "conda-env-ENTER-py"
  },
  "language_info": {
   "codemirror_mode": {
    "name": "ipython",
    "version": 3
   },
   "file_extension": ".py",
   "mimetype": "text/x-python",
   "name": "python",
   "nbconvert_exporter": "python",
   "pygments_lexer": "ipython3",
   "version": "3.7.0"
  }
 },
 "nbformat": 4,
 "nbformat_minor": 4
}
