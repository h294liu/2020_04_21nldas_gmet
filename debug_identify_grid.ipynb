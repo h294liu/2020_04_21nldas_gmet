{
 "cells": [
  {
   "cell_type": "code",
   "execution_count": 1,
   "metadata": {},
   "outputs": [
    {
     "name": "stderr",
     "output_type": "stream",
     "text": [
      "/glade/u/home/hongli/tools/miniconda/ENTER/lib/python3.7/site-packages/xarray/core/merge.py:17: FutureWarning: The Panel class is removed from pandas. Accessing it from the top-level namespace will also be removed in the next version\n",
      "  PANDAS_TYPES = (pd.Series, pd.DataFrame, pd.Panel)\n"
     ]
    },
    {
     "name": "stdout",
     "output_type": "stream",
     "text": [
      "Done\n"
     ]
    }
   ],
   "source": [
    "import os\n",
    "import pandas as pd\n",
    "import xarray as xr\n",
    "import datetime\n",
    "import numpy as np\n",
    "import matplotlib.pyplot as plt\n",
    "\n",
    "#----------------------------------------------------------\n",
    "# read gmet output grids\n",
    "grid_info_file = os.path.join(root_dir,'data/nldas_topo/conus_ens_grid_eighth.nc')\n",
    "f = xr.open_dataset(os.path.join(root_dir,grid_info_file))\n",
    "mask_grid_info = f['mask'].values[:] # 1 is valid. 0 is invalid. \n",
    "latitude = f['latitude'].values[:] \n",
    "longitude = f['longitude'].values[:] \n",
    "elev = f['elev'].values[:] \n",
    "gradient_n_s = f['gradient_n_s'].values[:] \n",
    "gradient_w_e = f['gradient_w_e'].values[:] \n",
    "\n",
    "print('Done')"
   ]
  },
  {
   "cell_type": "code",
   "execution_count": 27,
   "metadata": {},
   "outputs": [
    {
     "data": {
      "text/plain": [
       "(37.4375,\n",
       " -103.0625,\n",
       " 1511.4019775390625,\n",
       " 0.25196197628974915,\n",
       " 0.10644451528787613)"
      ]
     },
     "execution_count": 27,
     "metadata": {},
     "output_type": "execute_result"
    }
   ],
   "source": [
    "j=175\n",
    "i=100 #99\n",
    "latitude[i,j],longitude[i,j],elev[i,j],gradient_n_s[i,j],gradient_w_e[i,j]"
   ]
  },
  {
   "cell_type": "code",
   "execution_count": 29,
   "metadata": {},
   "outputs": [
    {
     "data": {
      "text/plain": [
       "46112"
      ]
     },
     "execution_count": 29,
     "metadata": {},
     "output_type": "execute_result"
    }
   ],
   "source": [
    "99*464+175+1"
   ]
  },
  {
   "cell_type": "code",
   "execution_count": 7,
   "metadata": {},
   "outputs": [
    {
     "name": "stdout",
     "output_type": "stream",
     "text": [
      "Done\n"
     ]
    }
   ],
   "source": [
    "# read gmet regression result\n",
    "import os\n",
    "import pandas as pd\n",
    "import xarray as xr\n",
    "import datetime\n",
    "import numpy as np\n",
    "import matplotlib.pyplot as plt\n",
    "\n",
    "#----------------------------------------------------------\n",
    "# read gmet regression output\n",
    "grid_info_file = '/glade/u/home/hongli/scratch/2020_04_21nldas_gmet/test_uniform_debug/00810grids/gmet_regr/regress_ts.weight.nc'\n",
    "f = xr.open_dataset(grid_info_file)\n",
    "latitude = f['latitude'].values[:] \n",
    "longitude = f['longitude'].values[:] \n",
    "pop = f['pop'].values[:] \n",
    "pcp = f['pcp'].values[:] \n",
    "tmean = f['tmean'].values[:] \n",
    "trange = f['trange'].values[:] \n",
    "\n",
    "print('Done')"
   ]
  },
  {
   "cell_type": "code",
   "execution_count": 28,
   "metadata": {},
   "outputs": [
    {
     "data": {
      "text/plain": [
       "(37.4375, -103.0625, 0.5, 0.0, 0.0, 0.0)"
      ]
     },
     "execution_count": 28,
     "metadata": {},
     "output_type": "execute_result"
    }
   ],
   "source": [
    "j=175\n",
    "i=99\n",
    "latitude[i,j],longitude[i,j],pop[0,i,j],pcp[0,i,j],tmean[0,i,j],trange[0,i,j]"
   ]
  },
  {
   "cell_type": "code",
   "execution_count": 1,
   "metadata": {},
   "outputs": [
    {
     "name": "stderr",
     "output_type": "stream",
     "text": [
      "/glade/u/home/hongli/tools/miniconda/ENTER/lib/python3.7/site-packages/xarray/core/merge.py:17: FutureWarning: The Panel class is removed from pandas. Accessing it from the top-level namespace will also be removed in the next version\n",
      "  PANDAS_TYPES = (pd.Series, pd.DataFrame, pd.Panel)\n"
     ]
    },
    {
     "name": "stdout",
     "output_type": "stream",
     "text": [
      "Done\n"
     ]
    }
   ],
   "source": [
    "# read gmet regression result\n",
    "import os\n",
    "import pandas as pd\n",
    "import xarray as xr\n",
    "import datetime\n",
    "import numpy as np\n",
    "import matplotlib.pyplot as plt\n",
    "\n",
    "#----------------------------------------------------------\n",
    "# read gmet regression output (problem one)\n",
    "grid_info_file = '/glade/u/home/hongli/scratch/2020_04_21nldas_gmet/test_uniform/00810grids/gmet_regr/regress_ts.weight.nc'\n",
    "f = xr.open_dataset(grid_info_file)\n",
    "latitude = f['latitude'].values[:] \n",
    "longitude = f['longitude'].values[:] \n",
    "pop = f['pop'].values[:] \n",
    "pcp = f['pcp'].values[:] \n",
    "tmean = f['tmean'].values[:] \n",
    "trange = f['trange'].values[:] \n",
    "\n",
    "print('Done')"
   ]
  },
  {
   "cell_type": "code",
   "execution_count": 18,
   "metadata": {},
   "outputs": [
    {
     "data": {
      "text/plain": [
       "(49.3125,\n",
       " -109.6875,\n",
       " 0.6201223134994507,\n",
       " -0.11529640853404999,\n",
       " -4.610972881317139,\n",
       " 5.8117356300354)"
      ]
     },
     "execution_count": 18,
     "metadata": {},
     "output_type": "execute_result"
    }
   ],
   "source": [
    "j=175\n",
    "i=100 #99\n",
    "latitude[i,j],longitude[i,j],pop[0,i,j],pcp[0,i,j],tmean[0,i,j],trange[0,i,j]"
   ]
  },
  {
   "cell_type": "code",
   "execution_count": 1,
   "metadata": {},
   "outputs": [
    {
     "name": "stderr",
     "output_type": "stream",
     "text": [
      "/glade/u/home/hongli/tools/miniconda/ENTER/lib/python3.7/site-packages/xarray/core/merge.py:17: FutureWarning: The Panel class is removed from pandas. Accessing it from the top-level namespace will also be removed in the next version\n",
      "  PANDAS_TYPES = (pd.Series, pd.DataFrame, pd.Panel)\n"
     ]
    },
    {
     "name": "stdout",
     "output_type": "stream",
     "text": [
      "Done\n"
     ]
    }
   ],
   "source": [
    "# read gmet input stndata\n",
    "import os\n",
    "import pandas as pd\n",
    "import xarray as xr\n",
    "import datetime\n",
    "import numpy as np\n",
    "import matplotlib.pyplot as plt\n",
    "\n",
    "#----------------------------------------------------------\n",
    "# read gmet regression output\n",
    "grid_info_file = '/glade/u/home/hongli/scratch/2020_04_21nldas_gmet/scripts/step2_prepare_stndata_uniform/stndata_00810grids/Row220Col460.nc'\n",
    "f = xr.open_dataset(grid_info_file)\n",
    "\n",
    "elevation = f['elevation'].values[:] \n",
    "latitude = f['latitude'].values[:] \n",
    "longitude = f['longitude'].values[:] \n",
    "prcp = f['prcp'].values[:] \n",
    "tmax = f['tmax'].values[:] \n",
    "tmin = f['tmin'].values[:] \n",
    "\n",
    "print('Done')"
   ]
  },
  {
   "cell_type": "code",
   "execution_count": 2,
   "metadata": {},
   "outputs": [
    {
     "data": {
      "text/plain": [
       "(array([52.5625], dtype=float32), array([-67.4375], dtype=float32))"
      ]
     },
     "execution_count": 2,
     "metadata": {},
     "output_type": "execute_result"
    }
   ],
   "source": [
    "latitude,longitude"
   ]
  },
  {
   "cell_type": "code",
   "execution_count": 7,
   "metadata": {},
   "outputs": [
    {
     "data": {
      "text/plain": [
       "(array([-15.149994, -15.130005, -23.87999 , -14.139984, -13.779999,\n",
       "        -20.87999 , -25.069992, -26.09999 , -17.949997, -18.509995],\n",
       "       dtype=float32),\n",
       " array([-25.419998, -23.539993, -27.759995, -27.069992, -19.519989,\n",
       "        -26.079987, -26.769989, -29.89    , -27.159988, -28.569992],\n",
       "       dtype=float32))"
      ]
     },
     "execution_count": 7,
     "metadata": {},
     "output_type": "execute_result"
    }
   ],
   "source": [
    "tmax[0:10],tmin[0:10]"
   ]
  },
  {
   "cell_type": "code",
   "execution_count": 6,
   "metadata": {},
   "outputs": [
    {
     "data": {
      "text/plain": [
       "(731,)"
      ]
     },
     "execution_count": 6,
     "metadata": {},
     "output_type": "execute_result"
    }
   ],
   "source": [
    "np.shape(tmin)"
   ]
  },
  {
   "cell_type": "code",
   "execution_count": null,
   "metadata": {},
   "outputs": [],
   "source": []
  }
 ],
 "metadata": {
  "kernelspec": {
   "display_name": "Python [conda env:ENTER]",
   "language": "python",
   "name": "conda-env-ENTER-py"
  },
  "language_info": {
   "codemirror_mode": {
    "name": "ipython",
    "version": 3
   },
   "file_extension": ".py",
   "mimetype": "text/x-python",
   "name": "python",
   "nbconvert_exporter": "python",
   "pygments_lexer": "ipython3",
   "version": "3.7.0"
  }
 },
 "nbformat": 4,
 "nbformat_minor": 4
}
