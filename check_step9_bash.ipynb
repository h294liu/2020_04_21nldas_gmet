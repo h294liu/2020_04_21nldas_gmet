{
 "cells": [
  {
   "cell_type": "code",
   "execution_count": 4,
   "metadata": {},
   "outputs": [
    {
     "name": "stdout",
     "output_type": "stream",
     "text": [
      "Done\n"
     ]
    }
   ],
   "source": [
    "import os\n",
    "import pandas as pd\n",
    "import xarray as xr\n",
    "import datetime\n",
    "import numpy as np\n",
    "\n",
    "root_dir = '/glade/u/home/hongli/work/2020_04_21nldas_gmet'   \n",
    "tmp_dir = 'data/nldas_daily_utc_convert'\n",
    "ens_dir = '/glade/u/home/hongli/scratch/2020_04_21nldas_gmet/test_uniform/05016grids'\n",
    "\n",
    "nldas_file=os.path.join(root_dir,tmp_dir,'NLDAS_2015.nc')\n",
    "ens_mean = os.path.join(ens_dir,'tmp/ens_forc.2015.mean.nc')\n",
    "ens_bias = os.path.join(ens_dir,'tmp/ens_forc.2015.bias.nc')\n",
    "\n",
    "ens_raw_mb1 = os.path.join(ens_dir,'gmet_ens/ens_forc.2015.001.nc')\n",
    "ens_crr_mb1 = os.path.join(ens_dir,'gmet_ens_bc/ens_forc.2015.001.nc')\n",
    "\n",
    "# NLDAS pre-process\n",
    "f=xr.open_dataset(nldas_file)\n",
    "pcp_nldas = f.variables['pcp'][:]\n",
    "t_mean_nldas = f.variables['t_mean'][:]\n",
    "\n",
    "# bias calculation\n",
    "f=xr.open_dataset(ens_bias)\n",
    "pcp_bias = f.variables['pcp'][:]\n",
    "tmean_bias = f.variables['t_mean'][:]\n",
    "\n",
    "# bias correction\n",
    "f=xr.open_dataset(ens_raw_mb1)\n",
    "pcp_raw_mb1 = f.variables['pcp'][:]\n",
    "tmean_raw_mb1 = f.variables['t_mean'][:]\n",
    "\n",
    "f=xr.open_dataset(ens_crr_mb1)\n",
    "pcp_crr_mb1 = f.variables['pcp'][:]\n",
    "tmean_crr_mb1 = f.variables['t_mean'][:]\n",
    "\n",
    "print('Done')"
   ]
  },
  {
   "cell_type": "code",
   "execution_count": 5,
   "metadata": {},
   "outputs": [
    {
     "data": {
      "text/plain": [
       "(<xarray.Variable (y: 3, x: 3)>\n",
       " array([[14.784988, 11.514853, 13.248152],\n",
       "        [ 7.279094, 19.149384, 17.225119],\n",
       "        [ 3.555868,  8.859698, 11.556771]], dtype=float32)\n",
       " Attributes:\n",
       "     long_name:  estimated precip in mm/day\n",
       "     units:      mm, <xarray.Variable (y: 3, x: 3)>\n",
       " array([[11.864541, 11.202087, 13.657036],\n",
       "        [ 6.601744, 14.452677, 13.37071 ],\n",
       "        [ 2.618844,  5.959377,  8.833514]], dtype=float32)\n",
       " Attributes:\n",
       "     long_name:  estimated precip in mm/day\n",
       "     units:      mm, <xarray.Variable (y: 3, x: 3)>\n",
       " array([[-2.920447, -0.312766,  0.408884],\n",
       "        [-0.67735 , -4.696707, -3.854409],\n",
       "        [-0.937024, -2.900321, -2.723257]], dtype=float32)\n",
       " Attributes:\n",
       "     long_name:  estimated precip in mm/day\n",
       "     units:      mm, <xarray.Variable (x: 3, y: 3)>\n",
       " array([[2.3338, 3.7182, 5.4174],\n",
       "        [1.8606, 2.2912, 2.644 ],\n",
       "        [1.551 , 1.5444, 1.129 ]], dtype=float32)\n",
       " Attributes:\n",
       "     cell_methods:             time: mean\n",
       "     center:                   US National Weather Service - NCEP (WMC)\n",
       "     forecast_time:            1\n",
       "     forecast_time_units:      hours\n",
       "     gds_grid_type:            0\n",
       "     initial_time:             12/31/2014 (23:00)\n",
       "     level_indicator:          1\n",
       "     long_name:                Precipitation hourly total\n",
       "     model:                    MESO ETA Model\n",
       "     parameter_number:         61\n",
       "     parameter_table_version:  130\n",
       "     sub_center:               NESDIS Office of Research and Applications\n",
       "     units:                    kg/m^2)"
      ]
     },
     "execution_count": 5,
     "metadata": {},
     "output_type": "execute_result"
    }
   ],
   "source": [
    "pcp_raw_mb1[0,100:103,100:103],pcp_crr_mb1[0,100:103,100:103],pcp_bias[0,100:103,100:103],pcp_nldas[0,100:103,100:103]"
   ]
  },
  {
   "cell_type": "code",
   "execution_count": 11,
   "metadata": {},
   "outputs": [
    {
     "data": {
      "text/plain": [
       "(<xarray.Variable (y: 3, x: 3)>\n",
       " array([[-6.336329, -7.391379, -6.190861],\n",
       "        [-6.236627, -6.667686, -6.605533],\n",
       "        [-6.454088, -6.632931, -7.480918]], dtype=float32)\n",
       " Attributes:\n",
       "     long_name:  estimated daily mean temperature\n",
       "     units:      deg_C, <xarray.Variable (y: 3, x: 3)>\n",
       " array([[-5.925921, -7.817416, -6.34739 ],\n",
       "        [-5.523961, -6.672729, -6.844819],\n",
       "        [-5.718471, -6.961451, -8.44101 ]], dtype=float32)\n",
       " Attributes:\n",
       "     long_name:  estimated daily mean temperature\n",
       "     units:      deg_C, <xarray.Variable (y: 3, x: 3)>\n",
       " array([[ 0.410407, -0.426037, -0.156529],\n",
       "        [ 0.712666, -0.005043, -0.239286],\n",
       "        [ 0.735617, -0.32852 , -0.960093]], dtype=float32)\n",
       " Attributes:\n",
       "     long_name:  estimated daily mean temperature\n",
       "     units:      deg_C)"
      ]
     },
     "execution_count": 11,
     "metadata": {},
     "output_type": "execute_result"
    }
   ],
   "source": [
    "tmean_raw_mb1[0,100:103,100:103],tmean_crr_mb1[0,100:103,100:103],tmean_bias[0,100:103,100:103]"
   ]
  },
  {
   "cell_type": "code",
   "execution_count": 12,
   "metadata": {},
   "outputs": [
    {
     "data": {
      "text/plain": [
       "-5.925922"
      ]
     },
     "execution_count": 12,
     "metadata": {},
     "output_type": "execute_result"
    }
   ],
   "source": [
    "-6.336329+0.410407"
   ]
  },
  {
   "cell_type": "code",
   "execution_count": null,
   "metadata": {},
   "outputs": [],
   "source": []
  }
 ],
 "metadata": {
  "kernelspec": {
   "display_name": "Python [conda env:ENTER]",
   "language": "python",
   "name": "conda-env-ENTER-py"
  },
  "language_info": {
   "codemirror_mode": {
    "name": "ipython",
    "version": 3
   },
   "file_extension": ".py",
   "mimetype": "text/x-python",
   "name": "python",
   "nbconvert_exporter": "python",
   "pygments_lexer": "ipython3",
   "version": "3.7.0"
  }
 },
 "nbformat": 4,
 "nbformat_minor": 4
}
