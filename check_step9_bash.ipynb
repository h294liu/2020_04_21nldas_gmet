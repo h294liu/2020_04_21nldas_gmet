{
 "cells": [
  {
   "cell_type": "code",
   "execution_count": 1,
   "metadata": {},
   "outputs": [
    {
     "name": "stderr",
     "output_type": "stream",
     "text": [
      "/glade/u/home/hongli/tools/miniconda/ENTER/lib/python3.7/site-packages/xarray/core/merge.py:17: FutureWarning: The Panel class is removed from pandas. Accessing it from the top-level namespace will also be removed in the next version\n",
      "  PANDAS_TYPES = (pd.Series, pd.DataFrame, pd.Panel)\n"
     ]
    },
    {
     "name": "stdout",
     "output_type": "stream",
     "text": [
      "Done\n"
     ]
    }
   ],
   "source": [
    "import os\n",
    "import pandas as pd\n",
    "import xarray as xr\n",
    "import datetime\n",
    "import numpy as np\n",
    "\n",
    "root_dir = '/glade/u/home/hongli/work/2020_04_21nldas_gmet'   \n",
    "tmp_dir = 'data/nldas_daily_utc_convert'\n",
    "ens_dir = '/glade/u/home/hongli/scratch/2020_04_21nldas_gmet/test_uniform/00986grids'\n",
    "\n",
    "# nldas_file=os.path.join(root_dir,tmp_dir,'NLDAS_2015.nc')\n",
    "# ens_mean = os.path.join(ens_dir,'tmp/ens_forc.2015.mean.nc')\n",
    "# ens_bias = os.path.join(ens_dir,'tmp/ens_forc.2015.bias.nc')\n",
    "\n",
    "# ens_raw_mb1 = os.path.join(ens_dir,'gmet_ens/ens_forc.2015.001.nc')\n",
    "ens_crr_mb1 = os.path.join(ens_dir,'gmet_ens_bc/ens_forc.2016.001.nc')\n",
    "ens_crr_mb2 = os.path.join(ens_dir,'gmet_ens_bc/ens_forc.2016.002.nc')\n",
    "ens_crr_mb3 = os.path.join(ens_dir,'gmet_ens_bc/ens_forc.2016.003.nc')\n",
    "ens_crr_mean = os.path.join(ens_dir,'gmet_ens_bc/test.mean.nc')\n",
    "\n",
    "# # NLDAS pre-process\n",
    "# f=xr.open_dataset(nldas_file)\n",
    "# pcp_nldas = f.variables['pcp'][:]\n",
    "# t_mean_nldas = f.variables['t_mean'][:]\n",
    "\n",
    "# # bias calculation\n",
    "# f=xr.open_dataset(ens_bias)\n",
    "# pcp_bias = f.variables['pcp'][:]\n",
    "# tmean_bias = f.variables['t_mean'][:]\n",
    "\n",
    "# # bias correction\n",
    "# f=xr.open_dataset(ens_raw_mb1)\n",
    "# pcp_raw_mb1 = f.variables['pcp'][:]\n",
    "# tmean_raw_mb1 = f.variables['t_mean'][:]\n",
    "\n",
    "f=xr.open_dataset(ens_crr_mb1)\n",
    "pcp_crr_mb1 = f.variables['pcp'][:]\n",
    "tmean_crr_mb1 = f.variables['t_mean'][:]\n",
    "\n",
    "f=xr.open_dataset(ens_crr_mb2)\n",
    "pcp_crr_mb2 = f.variables['pcp'][:]\n",
    "tmean_crr_mb2 = f.variables['t_mean'][:]\n",
    "\n",
    "f=xr.open_dataset(ens_crr_mb3)\n",
    "pcp_crr_mb3 = f.variables['pcp'][:]\n",
    "tmean_crr_mb3 = f.variables['t_mean'][:]\n",
    "\n",
    "f=xr.open_dataset(ens_crr_mean)\n",
    "pcp_crr_mean = f.variables['pcp'][:]\n",
    "tmean_crr_mean = f.variables['t_mean'][:]\n",
    "\n",
    "print('Done')"
   ]
  },
  {
   "cell_type": "code",
   "execution_count": 3,
   "metadata": {},
   "outputs": [
    {
     "data": {
      "text/plain": [
       "(<xarray.Variable (y: 3, x: 3)>\n",
       " array([[-0.01026 , -0.009715, -0.009124],\n",
       "        [-0.012791, -0.012298, -0.010547],\n",
       "        [-0.010418, -0.009811, -0.008301]], dtype=float32)\n",
       " Attributes:\n",
       "     long_name:  estimated precip in mm/day\n",
       "     units:      mm, <xarray.Variable (y: 3, x: 3)>\n",
       " array([[-0.01026 , -0.009715, -0.009124],\n",
       "        [-0.012791, -0.012298, -0.010547],\n",
       "        [-0.010418, -0.009811, -0.008301]], dtype=float32)\n",
       " Attributes:\n",
       "     long_name:  estimated precip in mm/day\n",
       "     units:      mm, <xarray.Variable (y: 3, x: 3)>\n",
       " array([[-0.01026 , -0.009715, -0.009124],\n",
       "        [-0.012791, -0.012298, -0.010547],\n",
       "        [-0.010418, -0.009811, -0.008301]], dtype=float32)\n",
       " Attributes:\n",
       "     long_name:  estimated precip in mm/day\n",
       "     units:      mm, <xarray.Variable (y: 3, x: 3)>\n",
       " array([[-0.01026 , -0.009715, -0.009124],\n",
       "        [-0.012791, -0.012298, -0.010547],\n",
       "        [-0.010418, -0.009811, -0.008301]], dtype=float32)\n",
       " Attributes:\n",
       "     long_name:  estimated precip in mm/day\n",
       "     units:      mm)"
      ]
     },
     "execution_count": 3,
     "metadata": {},
     "output_type": "execute_result"
    }
   ],
   "source": [
    "pcp_crr_mb1[0,200:203,100:103],pcp_crr_mb2[0,200:203,100:103],pcp_crr_mb3[0,200:203,100:103],pcp_crr_mean[0,200:203,100:103]"
   ]
  },
  {
   "cell_type": "code",
   "execution_count": 4,
   "metadata": {},
   "outputs": [
    {
     "data": {
      "text/plain": [
       "(<xarray.Variable (y: 3, x: 3)>\n",
       " array([[-6.834804, -7.176668, -7.312035],\n",
       "        [-6.636008, -7.046214, -7.694464],\n",
       "        [-6.347404, -6.840133, -7.133905]], dtype=float32)\n",
       " Attributes:\n",
       "     long_name:  estimated daily mean temperature\n",
       "     units:      deg_C, <xarray.Variable (y: 3, x: 3)>\n",
       " array([[-5.106459, -5.025153, -5.365837],\n",
       "        [-5.042869, -5.474619, -5.941666],\n",
       "        [-4.798742, -5.402901, -5.559571]], dtype=float32)\n",
       " Attributes:\n",
       "     long_name:  estimated daily mean temperature\n",
       "     units:      deg_C, <xarray.Variable (y: 3, x: 3)>\n",
       " array([[-4.516784, -4.935503, -5.177114],\n",
       "        [-4.672942, -5.169597, -5.488084],\n",
       "        [-4.448508, -4.890316, -5.01643 ]], dtype=float32)\n",
       " Attributes:\n",
       "     long_name:  estimated daily mean temperature\n",
       "     units:      deg_C, <xarray.Variable (y: 3, x: 3)>\n",
       " array([[-5.486015, -5.712441, -5.951662],\n",
       "        [-5.450606, -5.89681 , -6.374738],\n",
       "        [-5.198218, -5.711117, -5.903302]], dtype=float32)\n",
       " Attributes:\n",
       "     long_name:  estimated daily mean temperature\n",
       "     units:      deg_C)"
      ]
     },
     "execution_count": 4,
     "metadata": {},
     "output_type": "execute_result"
    }
   ],
   "source": [
    "tmean_crr_mb1[0,200:203,100:103],tmean_crr_mb2[0,200:203,100:103],tmean_crr_mb3[0,200:203,100:103],tmean_crr_mean[0,200:203,100:103]"
   ]
  },
  {
   "cell_type": "code",
   "execution_count": 7,
   "metadata": {},
   "outputs": [
    {
     "data": {
      "text/plain": [
       "-5.486015666666667"
      ]
     },
     "execution_count": 7,
     "metadata": {},
     "output_type": "execute_result"
    }
   ],
   "source": [
    "(-6.834804-5.106459-4.516784)/3.0"
   ]
  },
  {
   "cell_type": "code",
   "execution_count": null,
   "metadata": {},
   "outputs": [],
   "source": []
  }
 ],
 "metadata": {
  "kernelspec": {
   "display_name": "Python [conda env:ENTER]",
   "language": "python",
   "name": "conda-env-ENTER-py"
  },
  "language_info": {
   "codemirror_mode": {
    "name": "ipython",
    "version": 3
   },
   "file_extension": ".py",
   "mimetype": "text/x-python",
   "name": "python",
   "nbconvert_exporter": "python",
   "pygments_lexer": "ipython3",
   "version": "3.7.0"
  }
 },
 "nbformat": 4,
 "nbformat_minor": 4
}
