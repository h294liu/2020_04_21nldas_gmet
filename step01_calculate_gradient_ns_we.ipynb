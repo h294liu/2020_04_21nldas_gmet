{
 "cells": [
  {
   "cell_type": "code",
   "execution_count": 2,
   "metadata": {},
   "outputs": [
    {
     "name": "stdout",
     "output_type": "stream",
     "text": [
      "Use this forcing mask only if it is consistent over time\n",
      "Done\n"
     ]
    }
   ],
   "source": [
    "# mask elevation and slope based on NLDAS forcing and elevation availability\n",
    "\n",
    "import os\n",
    "import numpy as np\n",
    "import xarray as xr\n",
    "import netCDF4 as nc\n",
    "import gdal, ogr, osr\n",
    "import subprocess\n",
    "import matplotlib.pyplot as plt\n",
    "\n",
    "#====================================================================================\n",
    "# Main script\n",
    "# root_dir = '/glade/u/home/hongli/scratch/2020_04_21nldas_gmet/data/nldas_topo'\n",
    "root_dir = '/glade/u/home/hongli/work/2020_04_21nldas_gmet/data/nldas_topo'\n",
    "nldas_elev_file = 'NLDAS_elevation.nc4' # download from https://ldas.gsfc.nasa.gov/nldas/elevation\n",
    "# nldas_force_file = '/glade/u/home/hongli/scratch/2020_04_21nldas_gmet/data/nldas_daily_utc/NLDAS_2016.nc'\n",
    "nldas_force_file = '/glade/u/home/hongli/scratch/2020_04_21nldas_gmet/data/nldas_daily_utc_convert_summary/NLDAS_t_mean.nc'\n",
    "ofile = 'NLDAS_topo.nc'\n",
    "if os.path.exists(os.path.join(root_dir,ofile)):\n",
    "    os.remove(os.path.join(root_dir,ofile))\n",
    "\n",
    "#====================================================================================\n",
    "# read NLDAS topography\n",
    "f = xr.open_dataset(os.path.join(root_dir,nldas_elev_file))\n",
    "lat = f['lat'].values[:] #(224)\n",
    "lon = f['lon'].values[:] #(464)\n",
    "NLDAS_elev = f['NLDAS_elev'].values[:] #(1,224,464)\n",
    "NLDAS_slope = f['NLDAS_slope'].values[:] \n",
    "NLDAS_aspect = f['NLDAS_aspect'].values[:] \n",
    "\n",
    "# calculate gradient\n",
    "gradient_n_s = np.multiply(NLDAS_slope,np.cos(np.radians(NLDAS_aspect)))\n",
    "gradient_w_e = np.multiply(NLDAS_slope,np.sin(np.radians(NLDAS_aspect)))\n",
    "\n",
    "#====================================================================================\n",
    "# read NLDAS forcing and check consistency of NLDAS mask over time (1979-2019)\n",
    "nldas_dir = os.path.join(root_dir,'data/nldas_daily_utc_convert_summary')\n",
    "f_nldas = xr.open_dataset(nldas_force_file)\n",
    "time = f_nldas['time'].values[:]\n",
    "t_mean = f_nldas['t_mean'].values[:] # (time, y, x). unit: degC\n",
    "\n",
    "# mask_ref = np.isnan(t_mean[0,:,:])\n",
    "for i in range(1,t_mean.shape[0]):\n",
    "    mask_before = np.isnan(t_mean[i-1,:,:])\n",
    "    mask = np.isnan(t_mean[i,:,:])\n",
    "    \n",
    "    a=np.where(mask != mask_before)\n",
    "    if len(a[0])!=0:\n",
    "        print(time[i])\n",
    "\n",
    "print('Use this forcing mask only if it is consistent over time')\n",
    "#====================================================================================\n",
    "# exclude grids that don't have forcing values or don't have elevation\n",
    "# only keep the grid that have both forcing and elevation\n",
    "overall_mask = ((np.isnan(t_mean[0:1,:,:])) | (np.isnan(NLDAS_elev))) #shape(1,224,464)\n",
    "\n",
    "NLDAS_elev_ma = np.where(overall_mask==True,np.nan,NLDAS_elev)\n",
    "NLDAS_slope_ma = np.where(overall_mask==True,np.nan,NLDAS_slope)\n",
    "NLDAS_aspect_ma = np.where(overall_mask==True,np.nan,NLDAS_aspect)\n",
    "gradient_n_s_ma = np.where(overall_mask==True,np.nan,gradient_n_s)\n",
    "gradient_w_e_ma = np.where(overall_mask==True,np.nan,gradient_w_e)\n",
    "\n",
    "#====================================================================================\n",
    "# save\n",
    "with nc.Dataset(os.path.join(root_dir,nldas_elev_file)) as src:\n",
    "    with nc.Dataset(os.path.join(root_dir,ofile), \"w\") as dst:\n",
    "\n",
    "        # copy dimensions\n",
    "        for name, dimension in src.dimensions.items():\n",
    "             dst.createDimension(\n",
    "                name, (len(dimension) if not dimension.isunlimited() else None))\n",
    "\n",
    "        include = ['lat', 'lon', 'time', 'NLDAS_elev', 'NLDAS_slope', 'NLDAS_aspect']\n",
    "        for name, variable in src.variables.items():\n",
    "            if name in include:\n",
    "                x = dst.createVariable(name, variable.datatype, variable.dimensions)               \n",
    "                dst[name].setncatts(src[name].__dict__)\n",
    "                dst[name][:]=src[name][:] \n",
    "                \n",
    "        vars_short = ['gradient_n_s','gradient_w_e']\n",
    "        vars_standard_name = ['N_S_Slope','W_E_Slope']\n",
    "        vars_long_name = ['Smoothed Topographic Gradient (Slope) from North to South',\n",
    "                          'Smoothed Topographic Gradient (Slope) from West to East']\n",
    "\n",
    "        for i, var in enumerate(vars_short):\n",
    "            var_i = dst.createVariable(var,src['NLDAS_slope'].datatype,src['NLDAS_slope'].dimensions) # note: unlimited dimension is leftmost\n",
    "            dst[var].setncatts(src['NLDAS_slope'].__dict__) # firstly copy all attributes\n",
    "            var_i.standard_name = vars_standard_name[i] # modify some attributes\n",
    "            var_i.long_name = vars_long_name[i]\n",
    "            dst[var][:]=src['NLDAS_slope'][:] \n",
    "        \n",
    "        dst.variables['NLDAS_elev'][:] = NLDAS_elev_ma\n",
    "        dst.variables['NLDAS_slope'][:] = NLDAS_slope_ma\n",
    "        dst.variables['NLDAS_aspect'][:] = NLDAS_aspect_ma\n",
    "        \n",
    "        dst.variables['gradient_n_s'][:] = gradient_n_s_ma\n",
    "        dst.variables['gradient_w_e'][:] = gradient_w_e_ma\n",
    "        \n",
    "        dst.variables['gradient_n_s'].vmin = np.nanmin(gradient_n_s_ma)\n",
    "        dst.variables['gradient_n_s'].vmax = np.nanmax(gradient_n_s_ma)\n",
    "        \n",
    "        dst.variables['gradient_w_e'].vmin = np.nanmin(gradient_w_e_ma)\n",
    "        dst.variables['gradient_w_e'].vmax = np.nanmax(gradient_w_e_ma)        \n",
    "        \n",
    "print('Done')"
   ]
  },
  {
   "cell_type": "code",
   "execution_count": 4,
   "metadata": {},
   "outputs": [
    {
     "name": "stdout",
     "output_type": "stream",
     "text": [
      "True True\n"
     ]
    }
   ],
   "source": [
    "overall_mask = ((np.isnan(t_mean[0:1,:,:])) | (np.isnan(NLDAS_elev))) #shape(1,224,464)\n",
    "mask1 = ((~np.isnan(t_mean[0:1,:,:])) & (np.isnan(NLDAS_elev))) #shape(1,224,464)\n",
    "mask2 = ((np.isnan(t_mean[0:1,:,:])) & (~np.isnan(NLDAS_elev))) #shape(1,224,464)\n",
    "mask3 = ((~np.isnan(t_mean[0:1,:,:])) & (~np.isnan(NLDAS_elev))) #shape(1,224,464)\n",
    "print(mask1 in overall_mask, mask2 in overall_mask)\n",
    "# np.where(mask3==overall_mask),np.where(np.isnan(t_mean[0:1,:,:]) != np.isnan(NLDAS_elev))"
   ]
  },
  {
   "cell_type": "code",
   "execution_count": 7,
   "metadata": {},
   "outputs": [
    {
     "data": {
      "text/plain": [
       "<matplotlib.image.AxesImage at 0x2acb7bc38670>"
      ]
     },
     "execution_count": 7,
     "metadata": {},
     "output_type": "execute_result"
    },
    {
     "data": {
      "image/png": "[encoded data removed]",
      "text/plain": [
       "<Figure size 432x288 with 1 Axes>"
      ]
     },
     "metadata": {
      "needs_background": "light"
     },
     "output_type": "display_data"
    }
   ],
   "source": [
    "plt.imshow(np.isnan(t_mean[0,:,:]) != np.isnan(NLDAS_elev[0,:,:]))"
   ]
  },
  {
   "cell_type": "code",
   "execution_count": 8,
   "metadata": {},
   "outputs": [
    {
     "data": {
      "text/plain": [
       "<matplotlib.image.AxesImage at 0x2acb7c55cd00>"
      ]
     },
     "execution_count": 8,
     "metadata": {},
     "output_type": "execute_result"
    },
    {
     "data": {
      "image/png": "[encoded data removed]",
      "text/plain": [
       "<Figure size 432x288 with 1 Axes>"
      ]
     },
     "metadata": {
      "needs_background": "light"
     },
     "output_type": "display_data"
    }
   ],
   "source": [
    "plt.imshow(np.isnan(t_mean[0,:,:]) & ~np.isnan(NLDAS_elev[0,:,:]))"
   ]
  },
  {
   "cell_type": "code",
   "execution_count": 9,
   "metadata": {},
   "outputs": [
    {
     "data": {
      "text/plain": [
       "<matplotlib.image.AxesImage at 0x2acb7bcdba30>"
      ]
     },
     "execution_count": 9,
     "metadata": {},
     "output_type": "execute_result"
    },
    {
     "data": {
      "image/png": "[encoded data removed]",
      "text/plain": [
       "<Figure size 432x288 with 1 Axes>"
      ]
     },
     "metadata": {
      "needs_background": "light"
     },
     "output_type": "display_data"
    }
   ],
   "source": [
    "plt.imshow(~np.isnan(t_mean[0,:,:]) & np.isnan(NLDAS_elev[0,:,:]))"
   ]
  },
  {
   "cell_type": "code",
   "execution_count": 10,
   "metadata": {},
   "outputs": [
    {
     "data": {
      "text/plain": [
       "(array([], dtype=int64), array([], dtype=int64), array([], dtype=int64))"
      ]
     },
     "execution_count": 10,
     "metadata": {},
     "output_type": "execute_result"
    }
   ],
   "source": [
    "np.where(mask3==overall_mask)"
   ]
  },
  {
   "cell_type": "code",
   "execution_count": 31,
   "metadata": {},
   "outputs": [
    {
     "data": {
      "image/png": "[encoded data removed]",
      "text/plain": [
       "<Figure size 432x288 with 1 Axes>"
      ]
     },
     "metadata": {
      "needs_background": "light"
     },
     "output_type": "display_data"
    }
   ],
   "source": [
    "plt.imshow(((np.isnan(NLDAS_elev_new[0,:,:])) & (~np.isnan(tair_avg[0,:,:]))),origin='lower')\n",
    "plt.show()"
   ]
  },
  {
   "cell_type": "code",
   "execution_count": null,
   "metadata": {},
   "outputs": [],
   "source": []
  }
 ],
 "metadata": {
  "kernelspec": {
   "display_name": "conda_hongli",
   "language": "python",
   "name": "conda_hongli"
  },
  "language_info": {
   "codemirror_mode": {
    "name": "ipython",
    "version": 3
   },
   "file_extension": ".py",
   "mimetype": "text/x-python",
   "name": "python",
   "nbconvert_exporter": "python",
   "pygments_lexer": "ipython3",
   "version": "3.8.3"
  }
 },
 "nbformat": 4,
 "nbformat_minor": 4
}
