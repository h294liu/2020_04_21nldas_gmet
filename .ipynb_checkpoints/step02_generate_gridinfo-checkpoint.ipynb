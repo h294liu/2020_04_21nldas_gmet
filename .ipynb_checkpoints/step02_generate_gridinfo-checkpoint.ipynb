{
 "cells": [
  {
   "cell_type": "code",
   "execution_count": 2,
   "metadata": {},
   "outputs": [
    {
     "name": "stdout",
     "output_type": "stream",
     "text": [
      "Done\n"
     ]
    }
   ],
   "source": [
    "# Generate GMET grid (mask) based on nldas_topo and nldas_forcing files.\n",
    "\n",
    "import os\n",
    "import numpy as np\n",
    "import xarray as xr\n",
    "import netCDF4 as nc\n",
    "\n",
    "# root_dir = '/glade/u/home/hongli/scratch/2020_04_21nldas_gmet/data/nldas_topo'\n",
    "root_dir = '/glade/u/home/hongli/work/2020_04_21nldas_gmet/data/nldas_topo'\n",
    "nldas_topo_file = 'NLDAS_topo.nc' # generated from step01_calculate_gradient_ns_we\n",
    "gridinfo_tpl = 'conus_ens_grid_eighth_deg_v1p1.nc' \n",
    "# AndyN's latest CONUS topography grid file @hydro-c1 /d2/anewman/prob_qpe/version_1p1/grid/conus_ens_grid_eighth_deg_v1p1.nc\n",
    "\n",
    "ofile = 'conus_ens_grid_eighth.nc'\n",
    "if os.path.exists(os.path.join(root_dir,ofile)):\n",
    "    os.remove(os.path.join(root_dir,ofile))\n",
    "\n",
    "# read topography\n",
    "f = xr.open_dataset(os.path.join(root_dir,nldas_topo_file))\n",
    "lat_2d = f['latitude'].values[:] #(224,464)\n",
    "lon_2d = f['longitude'].values[:] #(224,464)\n",
    "elev = f['elev'].values[:,:] #(time,ny,nx)->(ny,nx)\n",
    "gradient_n_s = f['gradient_n_s'].values[:,:] \n",
    "gradient_w_e = f['gradient_w_e'].values[:,:] \n",
    "\n",
    "mask_topo = (~np.isnan(elev))\n",
    "(ny,nx) = np.shape(mask_topo)\n",
    "\n",
    "# process latitude and longitude\n",
    "dx = 1/8.0\n",
    "dy = 1/8.0\n",
    "startx = lat_2d[0,0]\n",
    "starty = lon_2d[0,0]\n",
    "\n",
    "# save\n",
    "with nc.Dataset(os.path.join(root_dir,gridinfo_tpl)) as src:\n",
    "    with nc.Dataset(os.path.join(root_dir,ofile), \"w\") as dst:\n",
    "        \n",
    "        # create dimensions\n",
    "        dst.createDimension('param', 1)\n",
    "        dst.createDimension('y', ny)\n",
    "        dst.createDimension('x', nx)\n",
    "\n",
    "        # copy variable attributes all at once via dictionary (for the included variables)\n",
    "        for name, variable in src.variables.items():\n",
    "            x = dst.createVariable(name, variable.datatype, variable.dimensions)               \n",
    "            dst[name].setncatts(src[name].__dict__)\n",
    "\n",
    "        # assign values for variables ([:] is necessary)\n",
    "        dst.variables['latitude'][:] = lat_2d\n",
    "        dst.variables['longitude'][:] = lon_2d\n",
    "        dst.variables['elev'][:] = elev\n",
    "        dst.variables['gradient_n_s'][:] = gradient_n_s \n",
    "        dst.variables['gradient_w_e'][:] = gradient_w_e \n",
    "        dst.variables['mask'][:] = mask_topo\n",
    "        dst.variables['data_mask'][:] = mask_topo\n",
    "        dst.variables['land_mask'][:] = mask_topo\n",
    "        dst.variables['dx'][:] = dx\n",
    "        dst.variables['dy'][:] = dy\n",
    "        dst.variables['startx'][:] = startx\n",
    "        dst.variables['starty'][:] = starty     \n",
    "        \n",
    "print('Done')"
   ]
  },
  {
   "cell_type": "code",
   "execution_count": 3,
   "metadata": {},
   "outputs": [
    {
     "data": {
      "image/png": "[encoded data removed]",
      "text/plain": [
       "<Figure size 432x288 with 1 Axes>"
      ]
     },
     "metadata": {
      "needs_background": "light"
     },
     "output_type": "display_data"
    }
   ],
   "source": [
    "import matplotlib.pyplot as plt\n",
    "plt.imshow(mask_topo, origin='lower')\n",
    "plt.show()"
   ]
  },
  {
   "cell_type": "code",
   "execution_count": 6,
   "metadata": {},
   "outputs": [
    {
     "data": {
      "text/plain": [
       "'/glade/u/home/hongli/work/2020_04_21nldas_gmet/data/nldas_topo/NLDAS_topo.nc'"
      ]
     },
     "execution_count": 6,
     "metadata": {},
     "output_type": "execute_result"
    }
   ],
   "source": [
    "os.path.join(root_dir,nldas_topo_file)"
   ]
  },
  {
   "cell_type": "code",
   "execution_count": null,
   "metadata": {},
   "outputs": [],
   "source": []
  }
 ],
 "metadata": {
  "kernelspec": {
   "display_name": "conda_hongli",
   "language": "python",
   "name": "conda_hongli"
  },
  "language_info": {
   "codemirror_mode": {
    "name": "ipython",
    "version": 3
   },
   "file_extension": ".py",
   "mimetype": "text/x-python",
   "name": "python",
   "nbconvert_exporter": "python",
   "pygments_lexer": "ipython3",
   "version": "3.8.3"
  }
 },
 "nbformat": 4,
 "nbformat_minor": 4
}
