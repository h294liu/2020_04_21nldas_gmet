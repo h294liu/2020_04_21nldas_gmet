{
 "cells": [
  {
   "cell_type": "code",
   "execution_count": 10,
   "metadata": {},
   "outputs": [
    {
     "name": "stdout",
     "output_type": "stream",
     "text": [
      "Done\n"
     ]
    }
   ],
   "source": [
    "import numpy as np\n",
    "import os\n",
    "import xarray as xr\n",
    "\n",
    "nldas_file='/glade/u/home/hongli/scratch/2020_04_21nldas_gmet/data/nldas_daily_utc/NLDAS_2015.nc'\n",
    "f = xr.open_dataset(nldas_file)\n",
    "tair_max=f['tair_max'].values[:] \n",
    "tair_min=f['tair_min'].values[:] \n",
    "tair_avg=f['tair_avg'].values[:] \n",
    "\n",
    "t_max_test = tair_max[0,:,:]\n",
    "t_min_test = tair_min[0,:,:]\n",
    "tair_avg_test=tair_avg[0,:,:]\n",
    "\n",
    "mask=(~np.isnan(t_max_test))\n",
    "\n",
    "t_mean=0.5*(t_max_test+t_min_test)\n",
    "a=np.where(tair_avg_test!=t_mean)\n",
    "print('Done')"
   ]
  },
  {
   "cell_type": "code",
   "execution_count": 18,
   "metadata": {},
   "outputs": [
    {
     "data": {
      "image/png": "[encoded data removed]",
      "text/plain": [
       "<Figure size 432x288 with 1 Axes>"
      ]
     },
     "metadata": {
      "needs_background": "light"
     },
     "output_type": "display_data"
    }
   ],
   "source": [
    "import matplotlib.pyplot as plt\n",
    "\n",
    "fig, ax = plt.subplots()\n",
    "# ax.imshow(t_max_test)\n",
    "# ax.imshow(t_min_test)\n",
    "ax.imshow(tair_avg_test!=t_mean)\n",
    "plt.show()"
   ]
  },
  {
   "cell_type": "code",
   "execution_count": 26,
   "metadata": {},
   "outputs": [
    {
     "data": {
      "text/plain": [
       "True"
      ]
     },
     "execution_count": 26,
     "metadata": {},
     "output_type": "execute_result"
    }
   ],
   "source": [
    "(np.isnan(tair_avg_test)==np.isnan(t_mean)).all()"
   ]
  },
  {
   "cell_type": "code",
   "execution_count": 30,
   "metadata": {},
   "outputs": [
    {
     "data": {
      "text/plain": [
       "(261.69, 254.96, 258.145, 258.32501220703125)"
      ]
     },
     "execution_count": 30,
     "metadata": {},
     "output_type": "execute_result"
    }
   ],
   "source": [
    "i=150\n",
    "j=100\n",
    "t_max_test[i,j],t_min_test[i,j],tair_avg[0,i,j],(t_max_test[i,j]+t_min_test[i,j])/2"
   ]
  },
  {
   "cell_type": "code",
   "execution_count": 31,
   "metadata": {},
   "outputs": [
    {
     "data": {
      "text/plain": [
       "(array([[      nan,       nan,       nan, ...,       nan,       nan,\n",
       "               nan],\n",
       "        [      nan,       nan,       nan, ...,       nan,       nan,\n",
       "               nan],\n",
       "        [      nan,       nan,       nan, ...,       nan,       nan,\n",
       "               nan],\n",
       "        ...,\n",
       "        [269.59375, 269.3204 , 271.08832, ..., 253.28874, 253.5075 ,\n",
       "         253.87042],\n",
       "        [271.18832, 270.99957, 271.54834, ..., 253.32709, 253.39125,\n",
       "         253.88667],\n",
       "        [273.6746 , 273.27832, 272.41666, ..., 253.79042, 253.88167,\n",
       "         253.84708]], dtype=float32),\n",
       " array([[      nan,       nan,       nan, ...,       nan,       nan,\n",
       "               nan],\n",
       "        [      nan,       nan,       nan, ...,       nan,       nan,\n",
       "               nan],\n",
       "        [      nan,       nan,       nan, ...,       nan,       nan,\n",
       "               nan],\n",
       "        ...,\n",
       "        [269.65   , 269.37   , 271.135  , ..., 252.91501, 252.68001,\n",
       "         252.59   ],\n",
       "        [271.18   , 270.97498, 271.495  , ..., 252.5    , 252.33   ,\n",
       "         252.595  ],\n",
       "        [273.66998, 273.25   , 272.39   , ..., 252.73499, 252.78   ,\n",
       "         252.56   ]], dtype=float32))"
      ]
     },
     "execution_count": 31,
     "metadata": {},
     "output_type": "execute_result"
    }
   ],
   "source": [
    "tair_avg_test,t_mean"
   ]
  },
  {
   "cell_type": "code",
   "execution_count": 47,
   "metadata": {},
   "outputs": [
    {
     "data": {
      "image/png": "[encoded data removed]",
      "text/plain": [
       "<Figure size 432x288 with 1 Axes>"
      ]
     },
     "metadata": {
      "needs_background": "light"
     },
     "output_type": "display_data"
    }
   ],
   "source": [
    "import matplotlib.pyplot as plt\n",
    "import numpy as np\n",
    "import os\n",
    "import xarray as xr\n",
    "\n",
    "nldas_file='/glade/u/home/hongli/scratch/2020_04_21nldas_gmet/data/nldas_daily_utc/NLDAS_2015.nc'\n",
    "f = xr.open_dataset(nldas_file)\n",
    "tair_max=f['tair_max'].values[:] \n",
    "tair_min=f['tair_min'].values[:] \n",
    "tair_avg=f['tair_avg'].values[:] \n",
    "\n",
    "t_max_test = tair_max[0,:,:]\n",
    "t_min_test = tair_min[0,:,:]\n",
    "tair_avg_test=tair_avg[0,:,:]\n",
    "\n",
    "mask=(~np.isnan(t_max_test))\n",
    "\n",
    "t_mean=0.5*(t_max_test+t_min_test)\n",
    "\n",
    "# plot\n",
    "fig, ax = plt.subplots()\n",
    "ax.scatter(tair_avg_test-273.15,t_mean-273.15,s=0.5)\n",
    "\n",
    "left, right = ax.get_xlim()\n",
    "bottom, top = ax.get_ylim()\n",
    "ax_min = min([left, bottom])\n",
    "ax_max = max([right, top])\n",
    "ax.set_xlim([ax_min, ax_max])\n",
    "ax.set_ylim([ax_min, ax_max])\n",
    "ax.plot([ax_min, ax_max],[ax_min, ax_max],color='red',linewidth=1.0)\n",
    "\n",
    "ax.set_xlabel('NLDAS t_mean', fontsize='small')\n",
    "ax.set_ylabel('0.5*(t_min+t_max)', fontsize='small')\n",
    "\n",
    "plt.show()\n",
    "fig.savefig('tmean_test_Jan1_2015.png', dpi=100)"
   ]
  },
  {
   "cell_type": "code",
   "execution_count": 45,
   "metadata": {},
   "outputs": [
    {
     "data": {
      "image/png": "[encoded data removed]",
      "text/plain": [
       "<Figure size 432x288 with 1 Axes>"
      ]
     },
     "metadata": {
      "needs_background": "light"
     },
     "output_type": "display_data"
    }
   ],
   "source": [
    "import matplotlib.pyplot as plt\n",
    "import numpy as np\n",
    "import os\n",
    "import xarray as xr\n",
    "\n",
    "nldas_file='/glade/u/home/hongli/scratch/2020_04_21nldas_gmet/data/nldas_daily_utc/NLDAS_2015.nc'\n",
    "f = xr.open_dataset(nldas_file)\n",
    "tair_max=f['tair_max'].values[:] \n",
    "tair_min=f['tair_min'].values[:] \n",
    "tair_avg=f['tair_avg'].values[:] \n",
    "\n",
    "t_max_test = tair_max[196,:,:]\n",
    "t_min_test = tair_min[196,:,:]\n",
    "tair_avg_test=tair_avg[196,:,:]\n",
    "\n",
    "mask=(~np.isnan(t_max_test))\n",
    "\n",
    "t_mean=0.5*(t_max_test+t_min_test)\n",
    "\n",
    "# plot\n",
    "fig, ax = plt.subplots()\n",
    "ax.scatter(tair_avg_test-273.15,t_mean-273.15,s=0.5)\n",
    "\n",
    "left, right = ax.get_xlim()\n",
    "bottom, top = ax.get_ylim()\n",
    "ax_min = min([left, bottom])\n",
    "ax_max = max([right, top])\n",
    "ax.set_xlim([ax_min, ax_max])\n",
    "ax.set_ylim([ax_min, ax_max])\n",
    "ax.plot([ax_min, ax_max],[ax_min, ax_max],color='red',linewidth=1.0)\n",
    "\n",
    "ax.set_xlabel('NLDAS t_mean', fontsize='small')\n",
    "ax.set_ylabel('0.5*(t_min+t_max)', fontsize='small')\n",
    "\n",
    "plt.show()\n",
    "fig.savefig('tmean_test_July15_2015.png', dpi=100)"
   ]
  },
  {
   "cell_type": "code",
   "execution_count": null,
   "metadata": {},
   "outputs": [],
   "source": []
  }
 ],
 "metadata": {
  "kernelspec": {
   "display_name": "Python [conda env:ENTER]",
   "language": "python",
   "name": "conda-env-ENTER-py"
  },
  "language_info": {
   "codemirror_mode": {
    "name": "ipython",
    "version": 3
   },
   "file_extension": ".py",
   "mimetype": "text/x-python",
   "name": "python",
   "nbconvert_exporter": "python",
   "pygments_lexer": "ipython3",
   "version": "3.7.0"
  }
 },
 "nbformat": 4,
 "nbformat_minor": 4
}
