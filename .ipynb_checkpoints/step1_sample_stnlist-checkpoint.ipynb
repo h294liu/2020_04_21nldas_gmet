{
 "cells": [
  {
   "cell_type": "code",
   "execution_count": 1,
   "metadata": {},
   "outputs": [
    {
     "name": "stderr",
     "output_type": "stream",
     "text": [
      "/glade/u/home/hongli/tools/miniconda/ENTER/lib/python3.7/site-packages/xarray/core/merge.py:17: FutureWarning: The Panel class is removed from pandas. Accessing it from the top-level namespace will also be removed in the next version\n",
      "  PANDAS_TYPES = (pd.Series, pd.DataFrame, pd.Panel)\n"
     ]
    },
    {
     "name": "stdout",
     "output_type": "stream",
     "text": [
      "save stnlist.txt\n",
      "index interval = 2, choice num = 20162\n",
      "index interval = 3, choice num = 9000\n",
      "index interval = 4, choice num = 5016\n",
      "index interval = 5, choice num = 3225\n",
      "index interval = 6, choice num = 2282\n",
      "index interval = 7, choice num = 1633\n",
      "index interval = 8, choice num = 1240\n",
      "index interval = 9, choice num = 986\n",
      "index interval = 10, choice num = 822\n",
      "plot distribution\n",
      "822 Grids\n"
     ]
    },
    {
     "name": "stderr",
     "output_type": "stream",
     "text": [
      "/glade/u/home/hongli/tools/miniconda/ENTER/lib/python3.7/site-packages/ipykernel_launcher.py:14: MatplotlibDeprecationWarning: \n",
      "The dedent function was deprecated in Matplotlib 3.1 and will be removed in 3.3. Use inspect.cleandoc instead.\n",
      "  \n",
      "/glade/u/home/hongli/tools/miniconda/ENTER/lib/python3.7/site-packages/ipykernel_launcher.py:18: MatplotlibDeprecationWarning: \n",
      "The dedent function was deprecated in Matplotlib 3.1 and will be removed in 3.3. Use inspect.cleandoc instead.\n",
      "/glade/u/home/hongli/tools/miniconda/ENTER/lib/python3.7/site-packages/ipykernel_launcher.py:19: MatplotlibDeprecationWarning: \n",
      "The dedent function was deprecated in Matplotlib 3.1 and will be removed in 3.3. Use inspect.cleandoc instead.\n"
     ]
    },
    {
     "name": "stdout",
     "output_type": "stream",
     "text": [
      "986 Grids\n",
      "1240 Grids\n",
      "1633 Grids\n",
      "2282 Grids\n",
      "3225 Grids\n",
      "5016 Grids\n",
      "9000 Grids\n",
      "20162 Grids\n",
      "Done\n"
     ]
    }
   ],
   "source": [
    "#!/usr/bin/env python\n",
    "# coding: utf-8\n",
    "\n",
    "from mpl_toolkits.basemap import Basemap\n",
    "import matplotlib.pyplot as plt\n",
    "from pyproj import Proj\n",
    "import os, shutil\n",
    "import numpy as np\n",
    "import xarray as xr\n",
    "from itertools import chain\n",
    "\n",
    "def plot_basemap(llcrnrlon,llcrnrlat,urcrnrlon,urcrnrlat,ax,lat_0,lon_0,ny,nx):\n",
    "\n",
    "    m = Basemap(llcrnrlon,llcrnrlat,urcrnrlon,urcrnrlat,resolution='l',projection='cyl', ax=ax)   \n",
    "#     m = Basemap(llcrnrlon,llcrnrlat,urcrnrlon,urcrnrlat,resolution='l',projection='tmerc', ax=ax,lat_0=lat_0,lon_0=lon_0)\n",
    "\n",
    "#     m.drawmapboundary(color='grey', linewidth=1.5)\n",
    "    m.drawstates(linewidth=1, linestyle='solid', color='grey')\n",
    "    m.drawcountries(linewidth=1, linestyle='solid', color='k')\n",
    "    m.drawcoastlines(linewidth=.75, linestyle='solid', color='k')\n",
    "#     m.drawrivers(linewidth=0.5, linestyle='solid', color='blue')\n",
    "   \n",
    "#     # lat and lon with lables\n",
    "#     m.drawparallels(np.arange(np.floor(llcrnrlat),np.ceil(urcrnrlat),2),labels=[True,False,False,False],dashes=[1,1], fontsize='small') # Draw parallels (latitude lines) for values (in degrees).\n",
    "#     m.drawmeridians(np.arange(np.floor(llcrnrlon),np.ceil(urcrnrlon),5),labels=[False,False,False,True],dashes=[1,1], fontsize='small') # Draw meridians (longitude lines). Label [left, right, top, bottom]\n",
    "    \n",
    "#     # draw a shaded-relief image\n",
    "#     m.shadedrelief(scale=0.5)\n",
    "    \n",
    "#     # lats and longs are returned as a dictionary\n",
    "# #     lats = m.drawparallels(np.arange(llcrnrlat,urcrnrlat,dy),labels=[False,False,False,False],dashes=[0.5,0.5]) \n",
    "# #     lons = m.drawmeridians(np.arange(llcrnrlon,urcrnrlon,dx),labels=[False,False,False,False],dashes=[0.5,0.5]) \n",
    "#     lats = m.drawparallels(np.reshape(np.linspace(llcrnrlat,urcrnrlat,ny+1),(ny+1,)),labels=[False,False,False,False],dashes=[0.5,0.5]) \n",
    "#     lons = m.drawmeridians(np.reshape(np.linspace(llcrnrlon,urcrnrlon,nx+1),(nx+1,)),labels=[False,False,False,False],dashes=[0.5,0.5]) \n",
    "\n",
    "#     lat_lines = chain(*(tup[1][0] for tup in lats.items()))\n",
    "#     lon_lines = chain(*(tup[1][0] for tup in lons.items()))\n",
    "#     all_lines = chain(lat_lines, lon_lines)\n",
    "    \n",
    "#     # cycle through these lines and set the desired style\n",
    "#     for line in all_lines:\n",
    "#         line.set(linestyle='-', alpha=0.3, color='grey')\n",
    "\n",
    "    return m\n",
    "\n",
    "# ===============================================================================\n",
    "root_dir = '/glade/u/home/hongli/scratch/2020_04_21nldas_gmet/scripts'\n",
    "grid_info_file = 'conus_ens_grid_eighth_deg_v1p1.nc'\n",
    "\n",
    "outfolder = 'step1_sample_stnlist'\n",
    "if os.path.exists(os.path.join(root_dir, outfolder)):\n",
    "    shutil.rmtree(os.path.join(root_dir, outfolder))\n",
    "os.makedirs(os.path.join(root_dir, outfolder))\n",
    "ofile_name_base = 'stnlist'\n",
    "dpi_value = 90\n",
    "\n",
    "# ==========================================================================================\n",
    "# read grid info\n",
    "f = xr.open_dataset(os.path.join(root_dir,grid_info_file))\n",
    "mask = f['mask'].values[:] # 1 is valid. 0 is invalid. \n",
    "latitude = f['latitude'].values[:] \n",
    "longitude = f['longitude'].values[:] \n",
    "elev = f['elev'].values[:] \n",
    "gradient_n_s = f['gradient_n_s'].values[:] \n",
    "gradient_w_e = f['gradient_w_e'].values[:] \n",
    "\n",
    "(ny,nx)=np.shape(mask)\n",
    "(y_ids,x_ids)=np.where(mask==1)\n",
    "total_stn_num = len(y_ids)\n",
    "\n",
    "# sampled grid interval\n",
    "index_intervals=[2,3,4,5,6,7,8,9,10] #1/4, 1/9, 1/16, 1/25,...,1/100  \n",
    "# index_intervals=[4,5] #1/4, 1/9, 1/16, 1/25  \n",
    "\n",
    "# # ==========================================================================================\n",
    "# # uniformly sample and save\n",
    "# print('save stnlist.txt')\n",
    "# choice_num_previous = 0\n",
    "# # for index_interval in index_intervals:    \n",
    "# for index_interval in index_intervals:    \n",
    "    \n",
    "#     choice_index = np.where((y_ids%index_interval==0) & (x_ids%index_interval==0))[0]\n",
    "#     choice_num = len(choice_index)\n",
    "    \n",
    "#     if choice_num!=choice_num_previous:\n",
    "#         print('index interval = '+str(index_interval)+', choice num = '+str(choice_num))\n",
    "\n",
    "# #         ofile = ofile_name_base + '_'+str('%05d' %(choice_num))+'grids.txt'\n",
    "#         ofile = ofile_name_base +'_'+str('%05d' %(choice_num))+'grids'+ '_interval'+str(index_interval)+'.txt'\n",
    "#         f_out = open(os.path.join(root_dir, outfolder, ofile), 'w') \n",
    "#         f_out.write('NSITES\\t'+str(choice_num)+'\\n') # total number line\n",
    "#         f_out.write('STA_ID LAT LON ELEV SLP_N SLP_E STA_NAME\\n') # title line\n",
    "#         for i in range(choice_num):\n",
    "#             choice_row = y_ids[choice_index[i]]\n",
    "#             choice_col = x_ids[choice_index[i]]\n",
    "            \n",
    "#             sta_id = 'Row'+str('%03d' %(choice_row))+'Col'+str('%03d' %(choice_col))\n",
    "#             lat_i=latitude[choice_row,choice_col]\n",
    "#             lon_i=longitude[choice_row,choice_col]\n",
    "#             ele_i=elev[choice_row,choice_col]\n",
    "#             gradient_n_s_i=gradient_n_s[choice_row,choice_col]\n",
    "#             gradient_w_e_i=gradient_w_e[choice_row,choice_col]\n",
    "#             stn_name = '\"'+sta_id+'\"'\n",
    "#             f_out.write('%s, %f, %f, %f, %f, %f, %s\\n' \\\n",
    "#                         % (sta_id, lat_i, lon_i, ele_i, gradient_n_s_i, gradient_w_e_i, stn_name)) \n",
    "#         f_out.close()\n",
    "#         choice_num_previous=choice_num        \n",
    "\n",
    "# # ==========================================================================================\n",
    "# print('plot distribution')\n",
    "# llcrnrlon=longitude[0,0]-1\n",
    "# llcrnrlat=latitude[0,0]-1\n",
    "# urcrnrlon=longitude[-1,-1]+1\n",
    "# urcrnrlat=latitude[-1,-1]+1\n",
    "\n",
    "# lat_0=0.5*(llcrnrlat+urcrnrlat)\n",
    "# lon_0=0.5*(llcrnrlon+urcrnrlon)\n",
    "\n",
    "# stnlist_files = [f for f in os.listdir(os.path.join(root_dir, outfolder)) if ofile_name_base in f]\n",
    "# stnlist_files = sorted(stnlist_files)\n",
    "\n",
    "# # plot\n",
    "# ncol = 3\n",
    "# nrow = int(np.ceil(len(stnlist_files)/ncol))\n",
    "\n",
    "# fig, ax = plt.subplots(nrow, ncol)\n",
    "# fig.set_figwidth(4.5*ncol) \n",
    "# fig.set_figheight(4.5*0.75*nrow)\n",
    "\n",
    "# for i in range(nrow):\n",
    "#     for j in range(ncol):\n",
    "\n",
    "#         k = i*ncol+j            \n",
    "#         if k<len(stnlist_files):  \n",
    "\n",
    "#             # read sampled stnlist.txt\n",
    "#             stnlist_file = os.path.join(root_dir, outfolder, stnlist_files[k])\n",
    "#             interval = int(stnlist_files[k].split('.')[0].split('_')[2].split('interval')[1])\n",
    "#             data = np.loadtxt(stnlist_file, skiprows=2, usecols=[1,2],delimiter=',') #STA_ID[0], LAT[1], LON[2], ELEV[3], SLP_N[4], SLP_E[5], STA_NAME[6]\n",
    "#             stn_num = len(data)\n",
    "#             stn_lons = [float(data[i][1]) for i in range(stn_num)]\n",
    "#             stn_lats = [float(data[i][0]) for i in range(stn_num)]\n",
    "#             print(str(stn_num) +' Grids')\n",
    "\n",
    "#             m = plot_basemap(llcrnrlon,llcrnrlat,urcrnrlon,urcrnrlat,ax[i,j],lat_0,lon_0,ny,nx) # plot Basemap \n",
    "\n",
    "#             x, y = m(stn_lons,stn_lats) # convert the lat/lon values to x/y projections.\n",
    "#             m.plot(x, y, 'bs', markersize=0.5) # plot sampeld grid points\n",
    "\n",
    "#             # set title\n",
    "#             ratio=str('1/')+str(interval**2)\n",
    "#             perctl=round(stn_num/total_stn_num*100,2)\n",
    "#             title_str = '('+chr(ord('a') + k) +') ' + str(stn_num)  +' samples ('+str(perctl)+'%, interval = '+str(interval)+')'\n",
    "#             ax[i,j].set_title(title_str, fontsize='small', fontweight='semibold')\n",
    "\n",
    "#         else: # blank axis\n",
    "#             ax[i,j].axis('off')\n",
    "\n",
    "# # save plot\n",
    "# fig.tight_layout()\n",
    "# ofile = 'sample_grids_dist.png'\n",
    "# fig.savefig(os.path.join(root_dir, outfolder, ofile), dpi=dpi_value)\n",
    "# plt.close(fig)    \n",
    "\n",
    "print('Done')\n"
   ]
  },
  {
   "cell_type": "code",
   "execution_count": 4,
   "metadata": {},
   "outputs": [
    {
     "data": {
      "text/plain": [
       "(33.8125, -86.1875, 209.5382, -0.8375097221367696, -0.3398695054348437)"
      ]
     },
     "execution_count": 4,
     "metadata": {},
     "output_type": "execute_result"
    }
   ],
   "source": [
    "row=70\n",
    "col=310\n",
    "latitude[row,col],longitude[row,col],elev[row,col],gradient_n_s[row,col],gradient_w_e[row,col]\n"
   ]
  },
  {
   "cell_type": "code",
   "execution_count": 23,
   "metadata": {},
   "outputs": [
    {
     "data": {
      "text/plain": [
       "array([[  25.0625, -111.9375],\n",
       "       [  25.0625, -111.4375],\n",
       "       [  25.0625, -110.9375],\n",
       "       ...,\n",
       "       [  52.5625,  -68.4375],\n",
       "       [  52.5625,  -67.9375],\n",
       "       [  52.5625,  -67.4375]])"
      ]
     },
     "execution_count": 23,
     "metadata": {},
     "output_type": "execute_result"
    }
   ],
   "source": [
    "data"
   ]
  },
  {
   "cell_type": "code",
   "execution_count": 6,
   "metadata": {},
   "outputs": [
    {
     "data": {
      "text/plain": [
       "numpy.ndarray"
      ]
     },
     "execution_count": 6,
     "metadata": {},
     "output_type": "execute_result"
    }
   ],
   "source": [
    "type(choice_index[0])"
   ]
  },
  {
   "cell_type": "code",
   "execution_count": 7,
   "metadata": {},
   "outputs": [
    {
     "data": {
      "text/plain": [
       "(5016,)"
      ]
     },
     "execution_count": 7,
     "metadata": {},
     "output_type": "execute_result"
    }
   ],
   "source": [
    "np.shape(choice_index[0])"
   ]
  },
  {
   "cell_type": "code",
   "execution_count": 10,
   "metadata": {},
   "outputs": [
    {
     "data": {
      "text/plain": [
       "array([    3,     7,    11, ..., 79467, 79471, 79475])"
      ]
     },
     "execution_count": 10,
     "metadata": {},
     "output_type": "execute_result"
    }
   ],
   "source": [
    "choice_index[0]"
   ]
  },
  {
   "cell_type": "code",
   "execution_count": null,
   "metadata": {},
   "outputs": [],
   "source": []
  }
 ],
 "metadata": {
  "kernelspec": {
   "display_name": "Python [conda env:ENTER]",
   "language": "python",
   "name": "conda-env-ENTER-py"
  },
  "language_info": {
   "codemirror_mode": {
    "name": "ipython",
    "version": 3
   },
   "file_extension": ".py",
   "mimetype": "text/x-python",
   "name": "python",
   "nbconvert_exporter": "python",
   "pygments_lexer": "ipython3",
   "version": "3.7.0"
  }
 },
 "nbformat": 4,
 "nbformat_minor": 4
}
