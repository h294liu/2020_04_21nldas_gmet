{
 "cells": [
  {
   "cell_type": "code",
   "execution_count": 19,
   "metadata": {},
   "outputs": [
    {
     "name": "stdout",
     "output_type": "stream",
     "text": [
      "Done\n"
     ]
    }
   ],
   "source": [
    "# Calulcate gradient_ns and gradient_we based on NLDAS topography netcdf.\n",
    "# NLDAS topography netcdf is from https://ldas.gsfc.nasa.gov/nldas/elevation.\n",
    "\n",
    "import os\n",
    "import numpy as np\n",
    "import xarray as xr\n",
    "import netCDF4 as nc\n",
    "\n",
    "root_dir = '/glade/u/home/hongli/scratch/2020_04_21nldas_gmet/data/nldas_topo'\n",
    "nldas_elev_file = 'NLDAS_elevation.nc4'\n",
    "ofile = 'NLDAS_topo.nc'\n",
    "if os.path.exists(os.path.join(root_dir,ofile)):\n",
    "    os.remove(os.path.join(root_dir,ofile))\n",
    "\n",
    "# read NLDAS topography\n",
    "f = xr.open_dataset(os.path.join(root_dir,nldas_elev_file))\n",
    "lat = f['lat'].values[:] #(224)\n",
    "lon = f['lon'].values[:] #(464)\n",
    "NLDAS_elev = f['NLDAS_elev'].values[:] #(1,224,464)\n",
    "NLDAS_slope = f['NLDAS_slope'].values[:] \n",
    "NLDAS_aspect = f['NLDAS_aspect'].values[:] \n",
    "\n",
    "# calculate gradient\n",
    "gradient_n_s = np.multiply(NLDAS_slope,np.cos(np.radians(NLDAS_aspect)))\n",
    "gradient_w_e = np.multiply(NLDAS_slope,np.sin(np.radians(NLDAS_aspect)))\n",
    "\n",
    "# save\n",
    "with nc.Dataset(os.path.join(root_dir,nldas_elev_file)) as src:\n",
    "    with nc.Dataset(os.path.join(root_dir,ofile), \"w\") as dst:\n",
    "\n",
    "        # copy dimensions\n",
    "        for name, dimension in src.dimensions.items():\n",
    "             dst.createDimension(\n",
    "                name, (len(dimension) if not dimension.isunlimited() else None))\n",
    "\n",
    "        include = ['lat', 'lon', 'time', 'NLDAS_elev']\n",
    "        for name, variable in src.variables.items():\n",
    "            if name in include:\n",
    "                x = dst.createVariable(name, variable.datatype, variable.dimensions)               \n",
    "                dst[name].setncatts(src[name].__dict__)\n",
    "                dst[name][:]=src[name][:] \n",
    "                \n",
    "        vars_short = ['gradient_n_s','gradient_w_e']\n",
    "        vars_standard_name = ['N_S_Slope','W_E_Slope']\n",
    "        vars_long_name = ['Smoothed Topographic Gradient (Slope) from North to South',\n",
    "                          'Smoothed Topographic Gradient (Slope) from West to East']\n",
    "\n",
    "        for i, var in enumerate(vars_short):\n",
    "            var_i = dst.createVariable(var,src['NLDAS_slope'].datatype,src['NLDAS_slope'].dimensions) # note: unlimited dimension is leftmost\n",
    "            dst[var].setncatts(src['NLDAS_slope'].__dict__) # firstly copy all attributes\n",
    "            var_i.standard_name = vars_standard_name[i] # modify some attributes\n",
    "            var_i.long_name = vars_long_name[i]\n",
    "            dst[var][:]=src['NLDAS_slope'][:] \n",
    "\n",
    "        dst.variables['gradient_n_s'][:] = gradient_n_s\n",
    "        dst.variables['gradient_w_e'][:] = gradient_w_e\n",
    "        \n",
    "        dst.variables['gradient_n_s'].vmin = np.nanmin(gradient_n_s)\n",
    "        dst.variables['gradient_n_s'].vmax = np.nanmax(gradient_n_s)\n",
    "        \n",
    "        dst.variables['gradient_w_e'].vmin = np.nanmin(gradient_w_e)\n",
    "        dst.variables['gradient_w_e'].vmax = np.nanmax(gradient_w_e)        \n",
    "        \n",
    "print('Done')"
   ]
  },
  {
   "cell_type": "code",
   "execution_count": 18,
   "metadata": {},
   "outputs": [
    {
     "data": {
      "text/plain": [
       "(-2.8849592, 3.0744457, -3.3563204, 3.8319583)"
      ]
     },
     "execution_count": 18,
     "metadata": {},
     "output_type": "execute_result"
    }
   ],
   "source": [
    "np.nanmin(gradient_n_s),np.nanmax(gradient_n_s),np.nanmin(gradient_w_e),np.nanmax(gradient_w_e)"
   ]
  },
  {
   "cell_type": "code",
   "execution_count": 6,
   "metadata": {},
   "outputs": [
    {
     "data": {
      "text/plain": [
       "(0.0, 4.091448)"
      ]
     },
     "execution_count": 6,
     "metadata": {},
     "output_type": "execute_result"
    }
   ],
   "source": [
    "np.nanmin(NLDAS_slope),np.nanmax(NLDAS_slope)"
   ]
  },
  {
   "cell_type": "code",
   "execution_count": 7,
   "metadata": {},
   "outputs": [
    {
     "data": {
      "text/plain": [
       "((1, 224, 464), (1, 224, 464))"
      ]
     },
     "execution_count": 7,
     "metadata": {},
     "output_type": "execute_result"
    }
   ],
   "source": [
    "np.shape(gradient_w_e),np.shape(gradient_n_s)"
   ]
  },
  {
   "cell_type": "code",
   "execution_count": 17,
   "metadata": {},
   "outputs": [
    {
     "data": {
      "text/plain": [
       "(0.2307729, 167.7129, 0.049110856)"
      ]
     },
     "execution_count": 17,
     "metadata": {},
     "output_type": "execute_result"
    }
   ],
   "source": [
    "NLDAS_slope[0,200,200],NLDAS_aspect[0,200,200],gradient_w_e[0,200,200]"
   ]
  },
  {
   "cell_type": "code",
   "execution_count": null,
   "metadata": {},
   "outputs": [],
   "source": []
  }
 ],
 "metadata": {
  "kernelspec": {
   "display_name": "Python [conda env:ENTER]",
   "language": "python",
   "name": "conda-env-ENTER-py"
  },
  "language_info": {
   "codemirror_mode": {
    "name": "ipython",
    "version": 3
   },
   "file_extension": ".py",
   "mimetype": "text/x-python",
   "name": "python",
   "nbconvert_exporter": "python",
   "pygments_lexer": "ipython3",
   "version": "3.7.0"
  }
 },
 "nbformat": 4,
 "nbformat_minor": 4
}
