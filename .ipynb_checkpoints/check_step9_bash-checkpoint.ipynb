{
 "cells": [
  {
   "cell_type": "code",
   "execution_count": 4,
   "metadata": {},
   "outputs": [
    {
     "name": "stdout",
     "output_type": "stream",
     "text": [
      "Done\n"
     ]
    }
   ],
   "source": [
    "import os\n",
    "import pandas as pd\n",
    "import xarray as xr\n",
    "import datetime\n",
    "import numpy as np\n",
    "\n",
    "root_dir = '/glade/u/home/hongli/work/2020_04_21nldas_gmet'   \n",
    "tmp_dir = 'data/nldas_daily_utc_convert'\n",
    "ens_dir = '/glade/u/home/hongli/scratch/2020_04_21nldas_gmet/test_uniform/02282grids'\n",
    "\n",
    "# nldas_file=os.path.join(root_dir,tmp_dir,'NLDAS_2015.nc')\n",
    "# ens_mean = os.path.join(ens_dir,'tmp/ens_forc.2015.mean.nc')\n",
    "# ens_bias = os.path.join(ens_dir,'tmp/ens_forc.2015.bias.nc')\n",
    "\n",
    "# ens_raw_mb1 = os.path.join(ens_dir,'gmet_ens/ens_forc.2015.001.nc')\n",
    "ens_crr_mb1 = os.path.join(ens_dir,'gmet_ens/ens_forc.2015.001.nc')\n",
    "# ens_crr_mb2 = os.path.join(ens_dir,'gmet_ens/ens_forc.2015.002.nc')\n",
    "# ens_crr_mb3 = os.path.join(ens_dir,'gmet_ens_bc/ens_forc.2016.003.nc')\n",
    "# ens_crr_mean = os.path.join(ens_dir,'stn_ens_summary/test.mean.nc')\n",
    "\n",
    "# # NLDAS pre-process\n",
    "# f=xr.open_dataset(nldas_file)\n",
    "# pcp_nldas = f.variables['pcp'][:]\n",
    "# t_mean_nldas = f.variables['t_mean'][:]\n",
    "\n",
    "# # bias calculation\n",
    "# f=xr.open_dataset(ens_bias)\n",
    "# pcp_bias = f.variables['pcp'][:]\n",
    "# tmean_bias = f.variables['t_mean'][:]\n",
    "\n",
    "# # bias correction\n",
    "# f=xr.open_dataset(ens_raw_mb1)\n",
    "# pcp_raw_mb1 = f.variables['pcp'][:]\n",
    "# tmean_raw_mb1 = f.variables['t_mean'][:]\n",
    "\n",
    "f=xr.open_dataset(ens_crr_mb1)\n",
    "pcp_crr_mb1 = f.variables['pcp'][:]\n",
    "tmean_crr_mb1 = f.variables['t_mean'][:]\n",
    "\n",
    "# f=xr.open_dataset(ens_crr_mb2)\n",
    "# pcp_crr_mb2 = f.variables['pcp'][:]\n",
    "# tmean_crr_mb2 = f.variables['t_mean'][:]\n",
    "\n",
    "# f=xr.open_dataset(ens_crr_mb3)\n",
    "# pcp_crr_mb3 = f.variables['pcp'][:]\n",
    "# tmean_crr_mb3 = f.variables['t_mean'][:]\n",
    "\n",
    "# f=xr.open_dataset(ens_crr_mean)\n",
    "# pcp_crr_mean = f.variables['pcp'][:]\n",
    "# tmean_crr_mean = f.variables['t_mean'][:]\n",
    "\n",
    "print('Done')"
   ]
  },
  {
   "cell_type": "code",
   "execution_count": 5,
   "metadata": {},
   "outputs": [
    {
     "data": {
      "text/plain": [
       "(<xarray.Variable (lat: 3, lon: 3)>\n",
       " array([[0., 0., 0.],\n",
       "        [0., 0., 0.],\n",
       "        [0., 0., 0.]], dtype=float32)\n",
       " Attributes:\n",
       "     long_name:  estimated precip in mm/day\n",
       "     units:      mm, <xarray.Variable (lat: 3, lon: 3)>\n",
       " array([[0., 0., 0.],\n",
       "        [0., 0., 0.],\n",
       "        [0., 0., 0.]], dtype=float32)\n",
       " Attributes:\n",
       "     long_name:  estimated precip in mm/day\n",
       "     units:      mm, <xarray.Variable (lat: 3, lon: 3)>\n",
       " array([[0., 0., 0.],\n",
       "        [0., 0., 0.],\n",
       "        [0., 0., 0.]], dtype=float32)\n",
       " Attributes:\n",
       "     long_name:  estimated precip in mm/day\n",
       "     units:      mm)"
      ]
     },
     "execution_count": 5,
     "metadata": {},
     "output_type": "execute_result"
    }
   ],
   "source": [
    "pcp_crr_mb1[0,200:203,100:103],pcp_crr_mb2[0,200:203,100:103],pcp_crr_mean[0,200:203,100:103]"
   ]
  },
  {
   "cell_type": "code",
   "execution_count": 6,
   "metadata": {},
   "outputs": [
    {
     "data": {
      "text/plain": [
       "(<xarray.Variable (lat: 3, lon: 3)>\n",
       " array([[-2.260754, -2.317753, -2.445198],\n",
       "        [-2.055662, -2.211776, -2.361637],\n",
       "        [-2.013566, -2.193542, -2.357734]], dtype=float32)\n",
       " Attributes:\n",
       "     long_name:  estimated daily mean temperature\n",
       "     units:      deg_C, <xarray.Variable (lat: 3, lon: 3)>\n",
       " array([[-2.037866, -2.116956, -2.256951],\n",
       "        [-1.862239, -2.032399, -2.078563],\n",
       "        [-1.757651, -1.904244, -1.980003]], dtype=float32)\n",
       " Attributes:\n",
       "     long_name:  estimated daily mean temperature\n",
       "     units:      deg_C, <xarray.Variable (lat: 3, lon: 3)>\n",
       " array([[-2.14931 , -2.217355, -2.351074],\n",
       "        [-1.95895 , -2.122088, -2.2201  ],\n",
       "        [-1.885608, -2.048893, -2.168869]], dtype=float32)\n",
       " Attributes:\n",
       "     long_name:  estimated daily mean temperature\n",
       "     units:      deg_C)"
      ]
     },
     "execution_count": 6,
     "metadata": {},
     "output_type": "execute_result"
    }
   ],
   "source": [
    "tmean_crr_mb1[0,200:203,100:103],tmean_crr_mb2[0,200:203,100:103],tmean_crr_mean[0,200:203,100:103]"
   ]
  },
  {
   "cell_type": "code",
   "execution_count": 7,
   "metadata": {},
   "outputs": [
    {
     "data": {
      "text/plain": [
       "-2.14931"
      ]
     },
     "execution_count": 7,
     "metadata": {},
     "output_type": "execute_result"
    }
   ],
   "source": [
    "(-2.260754-2.037866)/2"
   ]
  },
  {
   "cell_type": "code",
   "execution_count": null,
   "metadata": {},
   "outputs": [],
   "source": []
  }
 ],
 "metadata": {
  "kernelspec": {
   "display_name": "Python [conda env:ENTER]",
   "language": "python",
   "name": "conda-env-ENTER-py"
  },
  "language_info": {
   "codemirror_mode": {
    "name": "ipython",
    "version": 3
   },
   "file_extension": ".py",
   "mimetype": "text/x-python",
   "name": "python",
   "nbconvert_exporter": "python",
   "pygments_lexer": "ipython3",
   "version": "3.7.0"
  }
 },
 "nbformat": 4,
 "nbformat_minor": 4
}
