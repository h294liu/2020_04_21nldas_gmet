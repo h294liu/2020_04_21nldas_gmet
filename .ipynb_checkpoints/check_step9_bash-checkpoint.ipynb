{
 "cells": [
  {
   "cell_type": "code",
   "execution_count": 9,
   "metadata": {},
   "outputs": [
    {
     "name": "stdout",
     "output_type": "stream",
     "text": [
      "Done\n"
     ]
    }
   ],
   "source": [
    "import os\n",
    "import pandas as pd\n",
    "import xarray as xr\n",
    "import datetime\n",
    "import numpy as np\n",
    "\n",
    "root_dir = '/glade/u/home/hongli/work/2020_04_21nldas_gmet'   \n",
    "tmp_dir = 'scripts/step9_bias_correct_ens'\n",
    "\n",
    "nldas_raw_file=os.path.join(root_dir,tmp_dir,'NLDAS_2015-2016.nc')\n",
    "nldas_unit_file=os.path.join(root_dir,tmp_dir,'NLDAS_2015-2016.unit.nc')\n",
    "nldas_format_file=os.path.join(root_dir,tmp_dir,'NLDAS_2015-2016.formt.nc')\n",
    "\n",
    "ens_mean = os.path.join(root_dir,tmp_dir,'ens_forc.2015-2016.mean.00822grids.nc')\n",
    "ens_bias = os.path.join(root_dir,tmp_dir,'ens_forc.2015-2016.bias.00822grids.nc')\n",
    "\n",
    "ens_raw_mb1 = os.path.join(root_dir,'test_uniform/00822grids/gmet_ens_combine/ens_forc.2015-2016.001.nc')\n",
    "ens_crr_mb1 = os.path.join(root_dir,'test_uniform/00822grids/gmet_ens_combine_bc/ens_forc.2015-2016.001.nc')\n",
    "\n",
    "# NLDAS pre-process\n",
    "f=xr.open_dataset(nldas_raw_file)\n",
    "pcp_raw = f.variables['prcp_avg'][:]\n",
    "t_mean_raw = f.variables['tair_avg'][:]\n",
    "\n",
    "f=xr.open_dataset(nldas_unit_file)\n",
    "pcp_unit = f.variables['prcp_avg'][:]\n",
    "t_mean_unit = f.variables['tair_avg'][:]\n",
    "\n",
    "# bias calculation\n",
    "f=xr.open_dataset(ens_mean)\n",
    "pcp_ens_mean = f.variables['pcp'][:]\n",
    "tmean_ens_mean= f.variables['t_mean'][:]\n",
    "\n",
    "f=xr.open_dataset(ens_bias)\n",
    "pcp_bias = f.variables['pcp'][:]\n",
    "tmean_bias= f.variables['t_mean'][:]\n",
    "\n",
    "# bias correction\n",
    "f=xr.open_dataset(ens_raw_mb1)\n",
    "pcp_raw_mb1 = f.variables['pcp'][:]\n",
    "tmean_raw_mb1 = f.variables['t_mean'][:]\n",
    "\n",
    "f=xr.open_dataset(ens_crr_mb1)\n",
    "pcp_crr_mb1 = f.variables['pcp'][:]\n",
    "tmean_crr_mb1 = f.variables['t_mean'][:]\n",
    "\n",
    "\n",
    "print('Done')"
   ]
  },
  {
   "cell_type": "code",
   "execution_count": 10,
   "metadata": {},
   "outputs": [
    {
     "data": {
      "text/plain": [
       "(<xarray.Variable (y: 3, x: 3)>\n",
       " array([[3.632071, 4.093081, 8.845252],\n",
       "        [3.981258, 3.96838 , 4.034945],\n",
       "        [4.881179, 6.183775, 4.965822]], dtype=float32)\n",
       " Attributes:\n",
       "     long_name:  estimated precip in mm/day\n",
       "     units:      mm, <xarray.Variable (y: 3, x: 3)>\n",
       " array([[2.624489, 3.503689, 9.425621],\n",
       "        [3.700177, 3.652244, 3.040439],\n",
       "        [4.333647, 5.359425, 3.531875]], dtype=float32)\n",
       " Attributes:\n",
       "     long_name:  estimated precip in mm/day\n",
       "     units:      mm, <xarray.Variable (y: 3, x: 3)>\n",
       " array([[-1.007582, -0.589393,  0.580369],\n",
       "        [-0.28108 , -0.316136, -0.994505],\n",
       "        [-0.547532, -0.82435 , -1.433947]], dtype=float32)\n",
       " Attributes:\n",
       "     long_name:  estimated precip in mm/day\n",
       "     units:      mm)"
      ]
     },
     "execution_count": 10,
     "metadata": {},
     "output_type": "execute_result"
    }
   ],
   "source": [
    "pcp_raw_mb1[0,100:103,100:103],pcp_crr_mb1[0,100:103,100:103],pcp_bias[0,100:103,100:103]"
   ]
  },
  {
   "cell_type": "code",
   "execution_count": 11,
   "metadata": {},
   "outputs": [
    {
     "data": {
      "text/plain": [
       "(<xarray.Variable (y: 3, x: 3)>\n",
       " array([[-6.336329, -7.391379, -6.190861],\n",
       "        [-6.236627, -6.667686, -6.605533],\n",
       "        [-6.454088, -6.632931, -7.480918]], dtype=float32)\n",
       " Attributes:\n",
       "     long_name:  estimated daily mean temperature\n",
       "     units:      deg_C, <xarray.Variable (y: 3, x: 3)>\n",
       " array([[-5.925921, -7.817416, -6.34739 ],\n",
       "        [-5.523961, -6.672729, -6.844819],\n",
       "        [-5.718471, -6.961451, -8.44101 ]], dtype=float32)\n",
       " Attributes:\n",
       "     long_name:  estimated daily mean temperature\n",
       "     units:      deg_C, <xarray.Variable (y: 3, x: 3)>\n",
       " array([[ 0.410407, -0.426037, -0.156529],\n",
       "        [ 0.712666, -0.005043, -0.239286],\n",
       "        [ 0.735617, -0.32852 , -0.960093]], dtype=float32)\n",
       " Attributes:\n",
       "     long_name:  estimated daily mean temperature\n",
       "     units:      deg_C)"
      ]
     },
     "execution_count": 11,
     "metadata": {},
     "output_type": "execute_result"
    }
   ],
   "source": [
    "tmean_raw_mb1[0,100:103,100:103],tmean_crr_mb1[0,100:103,100:103],tmean_bias[0,100:103,100:103]"
   ]
  },
  {
   "cell_type": "code",
   "execution_count": 12,
   "metadata": {},
   "outputs": [
    {
     "data": {
      "text/plain": [
       "-5.925922"
      ]
     },
     "execution_count": 12,
     "metadata": {},
     "output_type": "execute_result"
    }
   ],
   "source": [
    "-6.336329+0.410407"
   ]
  },
  {
   "cell_type": "code",
   "execution_count": null,
   "metadata": {},
   "outputs": [],
   "source": []
  }
 ],
 "metadata": {
  "kernelspec": {
   "display_name": "Python [conda env:ENTER]",
   "language": "python",
   "name": "conda-env-ENTER-py"
  },
  "language_info": {
   "codemirror_mode": {
    "name": "ipython",
    "version": 3
   },
   "file_extension": ".py",
   "mimetype": "text/x-python",
   "name": "python",
   "nbconvert_exporter": "python",
   "pygments_lexer": "ipython3",
   "version": "3.7.0"
  }
 },
 "nbformat": 4,
 "nbformat_minor": 4
}
