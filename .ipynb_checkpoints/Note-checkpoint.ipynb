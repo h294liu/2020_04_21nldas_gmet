{
 "cells": [
  {
   "cell_type": "code",
   "execution_count": null,
   "metadata": {},
   "outputs": [],
   "source": [
    "Update CONUS topography with NLDAS topo netcdf\n",
    "- 1/8th degree NLDAS topography netcdf source: https://ldas.gsfc.nasa.gov/nldas/elevation\n",
    "- gradient north-south = slope*cos(aspect)\n",
    "- gradient west-east = slope*sin(aspect)\n",
    "\n",
    "Compile GMET notes\n",
    "(1) choose the right compiler: gfortran\n",
    "(2) load relevant modules:\n",
    "    - module laod gnu\n",
    "    - module load netcdf\n",
    "(3) modidy netcdf path in Makefile.local \n",
    "    - find out gnu-netcdf path by command \"echo $PATH | grep \"netcdf\"\n",
    "    - cheyenne: /glade/u/apps/ch/opt/netcdf/4.7.3/gnu/8.3.0/\n",
    "    - replace old netcdf path (e.g., \"/opt/netcdf4-gnu\") with the netcdf path on cheyenne in Makefile.\n",
    "    - Include: FCFLAGS,LDLOCAL,LDFLAGS.\n",
    "(4) modidy *.o filenames in Makefile.local (specific for download.exe compile)\n",
    "    - change 'read_station_weights.o' to 'station_weights.o'\n",
    "    - remove 'estimate_coefficients.o'\n",
    "\n"
   ]
  }
 ],
 "metadata": {
  "kernelspec": {
   "display_name": "Notebook Gallery 2019.12",
   "language": "python",
   "name": "notebook-gallery-2019.12"
  },
  "language_info": {
   "codemirror_mode": {
    "name": "ipython",
    "version": 3
   },
   "file_extension": ".py",
   "mimetype": "text/x-python",
   "name": "python",
   "nbconvert_exporter": "python",
   "pygments_lexer": "ipython3",
   "version": "3.7.3"
  }
 },
 "nbformat": 4,
 "nbformat_minor": 4
}
