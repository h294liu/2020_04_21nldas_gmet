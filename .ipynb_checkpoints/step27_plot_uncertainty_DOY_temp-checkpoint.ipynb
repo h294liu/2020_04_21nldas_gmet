{
 "cells": [
  {
   "cell_type": "code",
   "execution_count": 6,
   "metadata": {},
   "outputs": [
    {
     "name": "stdout",
     "output_type": "stream",
     "text": [
      "Plot\n",
      "Tmean\n",
      "Trange\n",
      "Done\n"
     ]
    }
   ],
   "source": [
    "#!/usr/bin/env python\n",
    "# coding: utf-8\n",
    "\n",
    "# This script is used to compare ensemble outputs with NLDAS data\n",
    "import numpy as np\n",
    "import matplotlib as mpl\n",
    "import matplotlib.pyplot as plt\n",
    "import os\n",
    "import pandas as pd\n",
    "import xarray as xr\n",
    "import datetime\n",
    "\n",
    "def read_nldas_regr(out_forc_name_base, start_yr, end_yr):\n",
    "    for yr in range(start_yr, end_yr+1):        \n",
    "        \n",
    "        file = os.path.join(out_forc_name_base + '.' + str(yr) + '.nc')\n",
    "        f=xr.open_dataset(file)\n",
    "        time = f['time'][:]\n",
    "        tmean_error_2 = f.variables['tmean_error_2'][:]\n",
    "        trange_error_2 = f.variables['trange_error_2'][:]\n",
    "        \n",
    "        if yr == start_yr:\n",
    "            time_concat = time\n",
    "            tmean_error_2_concat = tmean_error_2\n",
    "            trange_error_2_concat = trange_error_2\n",
    "        else:\n",
    "            time_concat = np.concatenate((time_concat,time), axis=0) # (time)\n",
    "            tmean_error_2_concat = np.concatenate((tmean_error_2_concat, tmean_error_2), axis=0) # (time,y,x)\n",
    "            trange_error_2_concat = np.concatenate((trange_error_2_concat, trange_error_2), axis=0) \n",
    "            \n",
    "    time_concat = pd.DatetimeIndex(time_concat)\n",
    "        \n",
    "    return time_concat, tmean_error_2_concat, trange_error_2_concat\n",
    "\n",
    "#======================================================================================================\n",
    "# main script\n",
    "root_dir = '/glade/u/home/hongli/scratch/2020_04_21nldas_gmet'   \n",
    "stn_ens_dir = os.path.join(root_dir,'data/stn_ens_summary')\n",
    "nldas_dir = os.path.join(root_dir,'data/nldas_daily_utc_convert')\n",
    "start_yr = 2013\n",
    "end_yr = 2016\n",
    "\n",
    "gridinfo_file = os.path.join(root_dir,'data/nldas_topo/conus_ens_grid_eighth.nc')\n",
    "\n",
    "result_dir = os.path.join(root_dir,'test_uniform_perturb')\n",
    "test_folders = [d for d in os.listdir(result_dir)]\n",
    "test_folders = sorted(test_folders)\n",
    "scenarios_ids = range(0,9) \n",
    "\n",
    "time_format = '%Y-%m-%d'\n",
    "plot_date_start = '2013-01-01'\n",
    "plot_date_end = '2016-12-31'\n",
    "plot_date_start_obj = datetime.datetime.strptime(plot_date_start, time_format)\n",
    "plot_date_end_obj = datetime.datetime.strptime(plot_date_end, time_format)\n",
    "\n",
    "dpi_value = 150\n",
    "output_dir=os.path.join(root_dir, 'scripts/step27_plot_uncertainty_DOY_temp')\n",
    "if not os.path.exists(output_dir):\n",
    "    os.makedirs(output_dir)\n",
    "output_filename = 'step27_plot_uncertainty_DOY_temp.png'\n",
    "   \n",
    "# #======================================================================================================\n",
    "# print('Read gridinfo mask')\n",
    "# # get xy mask from gridinfo.nc\n",
    "# f_gridinfo = xr.open_dataset(gridinfo_file)\n",
    "# mask_xy = f_gridinfo['mask'].values[:] # (y, x). 1 is valid. 0 is invalid.\n",
    "# #data_mask = f_gridinfo['data_mask'].values[:] # (y, x). 1 is valid. 0 is invalid.\n",
    "\n",
    "# #======================================================================================================\n",
    "# # read scenario ensemble results and save to dictionary\n",
    "# print('Read regression uncertainty')\n",
    "# k=7-1\n",
    "# test_folder = test_folders[scenarios_ids[k]]\n",
    "\n",
    "# print(test_folder)\n",
    "# test_dir = os.path.join(result_dir, test_folder)\n",
    "# fig_title= test_folder\n",
    "\n",
    "# print(' -- read spatial uncertainty')\n",
    "# # read\n",
    "# nldas_regr_dir = os.path.join(root_dir,'test_uniform_perturb',test_folder,'gmet_regr')\n",
    "# output_namebase = os.path.join(nldas_regr_dir,'regress_ts')\n",
    "# time_regr, tmean_error_2, trange_error_2 = read_nldas_regr(output_namebase, start_yr, end_yr)\n",
    "\n",
    "# # define plot mask for nldas regr\n",
    "# mask_nldas_t = (time_regr>=plot_date_start_obj) & (time_regr<=plot_date_end_obj)\n",
    "# tmean_error_2 = tmean_error_2[mask_nldas_t,:,:]    \n",
    "# trange_error_2 = trange_error_2[mask_nldas_t,:,:]    \n",
    "\n",
    "# print(' -- reshape')\n",
    "# # reshpae (nt,ny,nx) -> (nt,ny*nx)\n",
    "# (nt,ny,nx) = np.shape(tmean_error_2)\n",
    "# tmean_error_2 = tmean_error_2.reshape((nt,-1))\n",
    "# trange_error_2 = trange_error_2.reshape((nt,-1))\n",
    "\n",
    "# #======================================================================================================    \n",
    "# # create a white-blue linear colormap\n",
    "# print('create colormap')\n",
    "\n",
    "# # reference: https://stackoverflow.com/questions/25408393/getting-individual-colors-from-a-color-map-in-matplotlib\n",
    "# cmap = mpl.cm.get_cmap('jet') # get the blue color of jet \n",
    "# c0 = cmap(0.0)\n",
    "# top = mpl.colors.LinearSegmentedColormap.from_list(\"\", [\"white\",c0])\n",
    "\n",
    "# # combine two liner colormaps to create a\n",
    "# # reference: https://matplotlib.org/3.1.0/tutorials/colors/colormap-manipulation.html\n",
    "# bottom = mpl.cm.get_cmap('jet')\n",
    "# newcolors = np.vstack((top(np.linspace(0, 1, int(256*0.1))),bottom(np.linspace(0, 1, int(256*0.9)))))\n",
    "# newcmp = mpl.colors.LinearSegmentedColormap.from_list(\"WhiteJet\", newcolors)\n",
    "\n",
    "##======================================================================================================    \n",
    "# plot\n",
    "print('Plot')\n",
    "var_list = ['Tmean', 'Trange']\n",
    "var_units = ['($^\\circ$C)','($^\\circ$C)']\n",
    "\n",
    "# plot each varaiable seperately\n",
    "nrow = len(var_list) \n",
    "ncol = 1           \n",
    "fig, ax = plt.subplots(nrow, ncol, figsize=(5.5,5.5*0.5))\n",
    "\n",
    "bins = 100\n",
    "color_list = [ newcmp(x) for x in np.linspace(0, 1, bins) ]\n",
    "\n",
    "for i in range(nrow):\n",
    "    \n",
    "    print(var_list[i])\n",
    "\n",
    "    # data selection\n",
    "    if i == 0:\n",
    "        data = tmean_error_2\n",
    "    elif i == 1:\n",
    "        data = trange_error_2\n",
    "    \n",
    "    # vmin and vmax\n",
    "    vmin = np.nanmin(data)\n",
    "    vmax = np.nanpercentile(data,95) \n",
    "#     vmax = np.nanmax(data) \n",
    "   \n",
    "    # calculate DOY (day of year) mean uncertainty   \n",
    "    df = pd.DataFrame(data)    \n",
    "    time_month = [t.month for t in time_regr]\n",
    "    time_day = [t.day for t in time_regr]\n",
    "    df['month']=time_month\n",
    "    df['date']=time_day\n",
    "    df2 = df.groupby(['month','date']).mean()\n",
    "    \n",
    "    # calculate grid count per uncertainty\n",
    "    nt = len(df2)\n",
    "    freq_arr = np.zeros((bins,nt))\n",
    "    for d in range(nt):\n",
    "        [hist,bin_edges] = np.histogram(df2.iloc[d,:], bins=bins, range=(vmin,vmax))\n",
    "        freq_arr[:,d] = hist    \n",
    "\n",
    "    # stackplot\n",
    "    x = np.arange(1,1+nt)    \n",
    "    y = freq_arr\n",
    "    im = ax[i].imshow(y, cmap=newcmp, origin='lower')\n",
    "\n",
    "    # colorbar\n",
    "    cbar = fig.colorbar(im,ax=ax[i],cmap=newcmp,orientation='vertical',pad=0.01, shrink=1)\n",
    "    cbar.ax.tick_params(labelsize='xx-small', length=2, width=1)\n",
    "    cbar.set_label(label='Number of grids',size='xx-small')    \n",
    "\n",
    "    # limit\n",
    "    ax[i].set_xlim(1,nt)\n",
    "    ax[i].set_yticks(np.linspace(0, ax[i].get_yticks()[-1], 5))\n",
    "    ylabels = np.linspace(bin_edges[0],bin_edges[-1],5)\n",
    "    ylabels = [round(yy,1) for yy in ylabels]\n",
    "    ax[i].set_yticklabels(ylabels)\n",
    "\n",
    "    # label\n",
    "    if i == nrow-1:\n",
    "        xlabel = 'Day of Year (DOY) '\n",
    "        ax[i].set_xlabel(xlabel, fontsize='xx-small')\n",
    "    ylabel = 'Uncertainty '+var_units[i]\n",
    "    ax[i].set_ylabel(ylabel, fontsize='xx-small')\n",
    "    \n",
    "    # title\n",
    "    alpha = chr(ord('a') + i)\n",
    "    ax[i].set_title('('+alpha+') '+var_list[i], fontsize='xx-small', fontweight='semibold')\n",
    "\n",
    "    # tick\n",
    "    ax[i].tick_params(axis='both', direction='out',labelsize = 'xx-small', \n",
    "                        length=2, width=0.5, pad=1.5)\n",
    "\n",
    "   # change subplot border width\n",
    "    for axis in ['top','bottom','left','right']:\n",
    "        ax[i].spines[axis].set_linewidth(0.5)\n",
    "\n",
    "# save plot\n",
    "fig.tight_layout(pad=0.1, h_pad=0.5) \n",
    "fig.savefig(os.path.join(output_dir, output_filename), dpi=dpi_value,\n",
    "            bbox_inches = 'tight', pad_inches = 0.05)\n",
    "plt.close(fig)\n",
    "print('Done')\n"
   ]
  },
  {
   "cell_type": "code",
   "execution_count": 33,
   "metadata": {},
   "outputs": [
    {
     "data": {
      "text/plain": [
       "array([ 0.       ,  0.4132919,  0.8265838,  1.2398757,  1.6531676,\n",
       "        2.0664594,  2.4797513,  2.8930433,  3.3063352,  3.7196271,\n",
       "        4.132919 ,  4.546211 ,  4.9595027,  5.3727946,  5.7860866,\n",
       "        6.1993785,  6.6126704,  7.0259624,  7.4392543,  7.8525457,\n",
       "        8.265838 ,  8.67913  ,  9.092422 ,  9.505713 ,  9.919005 ,\n",
       "       10.332297 , 10.745589 , 11.158881 , 11.572173 , 11.985465 ,\n",
       "       12.398757 , 12.812049 , 13.225341 , 13.638633 , 14.051925 ,\n",
       "       14.465217 , 14.878509 , 15.2918005, 15.705091 , 16.118383 ,\n",
       "       16.531675 , 16.944967 , 17.35826  , 17.771551 , 18.184843 ,\n",
       "       18.598135 , 19.011427 , 19.424719 , 19.83801  , 20.251303 ,\n",
       "       20.664595 , 21.077887 , 21.491179 , 21.90447  , 22.317762 ,\n",
       "       22.731054 , 23.144346 , 23.557638 , 23.97093  , 24.384222 ,\n",
       "       24.797514 , 25.210806 , 25.624098 , 26.03739  , 26.450682 ,\n",
       "       26.863974 , 27.277266 , 27.690557 , 28.10385  , 28.517141 ,\n",
       "       28.930433 , 29.343725 , 29.757017 , 30.17031  , 30.583601 ,\n",
       "       30.996891 , 31.410183 , 31.823475 , 32.236767 , 32.65006  ,\n",
       "       33.06335  , 33.476643 , 33.889935 , 34.303226 , 34.71652  ,\n",
       "       35.12981  , 35.543102 , 35.956394 , 36.369686 , 36.782978 ,\n",
       "       37.19627  , 37.609562 , 38.022854 , 38.436146 , 38.849438 ,\n",
       "       39.26273  , 39.67602  , 40.089314 , 40.502605 , 40.915897 ,\n",
       "       41.32919  ], dtype=float32)"
      ]
     },
     "execution_count": 33,
     "metadata": {},
     "output_type": "execute_result"
    }
   ],
   "source": [
    "bin_edges"
   ]
  },
  {
   "cell_type": "code",
   "execution_count": 58,
   "metadata": {},
   "outputs": [
    {
     "data": {
      "text/plain": [
       "(array([-100.,    0.,  100.,  200.,  300.,  400.]),\n",
       " array([-50.,   0.,  50., 100.]))"
      ]
     },
     "execution_count": 58,
     "metadata": {},
     "output_type": "execute_result"
    }
   ],
   "source": [
    "locsx = ax[i].get_xticks()\n",
    "locsy = ax[i].get_yticks()\n",
    "locsx,locsy"
   ]
  },
  {
   "cell_type": "code",
   "execution_count": 60,
   "metadata": {},
   "outputs": [
    {
     "data": {
      "text/plain": [
       "400.0"
      ]
     },
     "execution_count": 60,
     "metadata": {},
     "output_type": "execute_result"
    }
   ],
   "source": [
    "ax[i].get_xticks()[-1]"
   ]
  },
  {
   "cell_type": "code",
   "execution_count": 61,
   "metadata": {},
   "outputs": [
    {
     "data": {
      "text/plain": [
       "(0.0, 3.601881980895996)"
      ]
     },
     "execution_count": 61,
     "metadata": {},
     "output_type": "execute_result"
    }
   ],
   "source": [
    "ax[i].set_yticks(np.linspace(0, ax[i].get_yticks()[-1], 5))\n",
    "ax[i].set_xticklabels(np.linspace(bin_edges[0],bin_edges[-1],5))"
   ]
  },
  {
   "cell_type": "code",
   "execution_count": 62,
   "metadata": {},
   "outputs": [
    {
     "data": {
      "text/plain": [
       "3.601881980895996"
      ]
     },
     "execution_count": 62,
     "metadata": {},
     "output_type": "execute_result"
    }
   ],
   "source": [
    "vmax"
   ]
  },
  {
   "cell_type": "code",
   "execution_count": null,
   "metadata": {},
   "outputs": [],
   "source": []
  }
 ],
 "metadata": {
  "kernelspec": {
   "display_name": "conda_hongli",
   "language": "python",
   "name": "conda_hongli"
  },
  "language_info": {
   "codemirror_mode": {
    "name": "ipython",
    "version": 3
   },
   "file_extension": ".py",
   "mimetype": "text/x-python",
   "name": "python",
   "nbconvert_exporter": "python",
   "pygments_lexer": "ipython3",
   "version": "3.8.3"
  }
 },
 "nbformat": 4,
 "nbformat_minor": 4
}
