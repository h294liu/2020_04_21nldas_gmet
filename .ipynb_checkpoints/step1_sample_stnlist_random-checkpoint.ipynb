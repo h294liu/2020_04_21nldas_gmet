{
 "cells": [
  {
   "cell_type": "code",
   "execution_count": 7,
   "metadata": {},
   "outputs": [
    {
     "name": "stdout",
     "output_type": "stream",
     "text": [
      "save stnlist.txt\n",
      "choice perctl = 0.1, choice num = 7983\n",
      "choice perctl = 0.2, choice num = 15966\n",
      "choice perctl = 0.30000000000000004, choice num = 23949\n",
      "choice perctl = 0.4, choice num = 31932\n",
      "choice perctl = 0.5, choice num = 39916\n",
      "choice perctl = 0.6, choice num = 47899\n",
      "choice perctl = 0.7000000000000001, choice num = 55882\n",
      "choice perctl = 0.8, choice num = 63865\n",
      "choice perctl = 0.9, choice num = 71848\n",
      "choice perctl = 1.0, choice num = 79831\n",
      "plot distribution\n",
      "7983 Grids\n"
     ]
    },
    {
     "name": "stderr",
     "output_type": "stream",
     "text": [
      "/glade/u/home/hongli/tools/miniconda/ENTER/lib/python3.7/site-packages/ipykernel_launcher.py:14: MatplotlibDeprecationWarning: \n",
      "The dedent function was deprecated in Matplotlib 3.1 and will be removed in 3.3. Use inspect.cleandoc instead.\n",
      "  \n",
      "/glade/u/home/hongli/tools/miniconda/ENTER/lib/python3.7/site-packages/ipykernel_launcher.py:17: MatplotlibDeprecationWarning: \n",
      "The dedent function was deprecated in Matplotlib 3.1 and will be removed in 3.3. Use inspect.cleandoc instead.\n",
      "/glade/u/home/hongli/tools/miniconda/ENTER/lib/python3.7/site-packages/ipykernel_launcher.py:18: MatplotlibDeprecationWarning: \n",
      "The dedent function was deprecated in Matplotlib 3.1 and will be removed in 3.3. Use inspect.cleandoc instead.\n"
     ]
    },
    {
     "name": "stdout",
     "output_type": "stream",
     "text": [
      "15966 Grids\n",
      "23949 Grids\n",
      "31932 Grids\n",
      "39916 Grids\n",
      "47899 Grids\n",
      "55882 Grids\n",
      "63865 Grids\n",
      "71848 Grids\n",
      "79831 Grids\n",
      "Done\n"
     ]
    }
   ],
   "source": [
    "#!/usr/bin/env python\n",
    "# coding: utf-8\n",
    "\n",
    "from mpl_toolkits.basemap import Basemap\n",
    "import matplotlib.pyplot as plt\n",
    "from pyproj import Proj\n",
    "import os, shutil\n",
    "import numpy as np\n",
    "import xarray as xr\n",
    "from itertools import chain\n",
    "\n",
    "def plot_basemap(llcrnrlon,llcrnrlat,urcrnrlon,urcrnrlat,ax,lat_0,lon_0,ny,nx):\n",
    "\n",
    "    m = Basemap(llcrnrlon,llcrnrlat,urcrnrlon,urcrnrlat,resolution='l',projection='cyl', ax=ax)   \n",
    "\n",
    "#     m.drawmapboundary(color='grey', linewidth=1.5)\n",
    "    m.drawstates(linewidth=1, linestyle='solid', color='grey')\n",
    "    m.drawcountries(linewidth=1, linestyle='solid', color='k')\n",
    "    m.drawcoastlines(linewidth=.75, linestyle='solid', color='k')\n",
    "#     m.drawrivers(linewidth=0.5, linestyle='solid', color='blue')\n",
    "   \n",
    "    return m\n",
    "\n",
    "# ===============================================================================\n",
    "root_dir = '/glade/u/home/hongli/scratch/2020_04_21nldas_gmet'\n",
    "grid_info_file = os.path.join(root_dir,'data/nldas_topo/conus_ens_grid_eighth.nc')\n",
    "\n",
    "outfolder = 'scripts/step1_sample_stnlist_random'\n",
    "if os.path.exists(os.path.join(root_dir, outfolder)):\n",
    "    shutil.rmtree(os.path.join(root_dir, outfolder))\n",
    "os.makedirs(os.path.join(root_dir, outfolder))\n",
    "ofile_name_base = 'stnlist'\n",
    "np.random.seed(40)\n",
    "dpi_value = 90\n",
    "\n",
    "# ==========================================================================================\n",
    "# read NLDAS grid info\n",
    "f = xr.open_dataset(os.path.join(root_dir,grid_info_file))\n",
    "mask = f['mask'].values[:] # 1 is valid. 0 is invalid. \n",
    "latitude = f['latitude'].values[:] \n",
    "longitude = f['longitude'].values[:] \n",
    "elev = f['elev'].values[:] \n",
    "gradient_n_s = f['gradient_n_s'].values[:] \n",
    "gradient_w_e = f['gradient_w_e'].values[:] \n",
    "\n",
    "(ny,nx)=np.shape(mask)\n",
    "(y_ids,x_ids)=np.where(mask==1)\n",
    "total_stn_num = len(y_ids)\n",
    "\n",
    "stn_index = np.arange(total_stn_num)\n",
    "choice_perctls = np.arange(0.1,1.1,0.1) # (start, end, interval)\n",
    "choice_nums = [int(round(p*total_stn_num)) for p in choice_perctls]\n",
    "\n",
    "# ==========================================================================================\n",
    "# uniformly sample and save\n",
    "print('save stnlist.txt')\n",
    "choice_num_previous = 0\n",
    "for i,choice_num in enumerate(choice_nums):\n",
    "    \n",
    "    choice_perctl = choice_perctls[i]\n",
    "    choice_index = np.random.choice(stn_index, size=choice_num, replace=False)\n",
    "    \n",
    "    if choice_num!=choice_num_previous:\n",
    "        print('choice perctl = '+str(choice_perctl)+', choice num = '+str(choice_num))\n",
    "\n",
    "        ofile = ofile_name_base +'_'+str('%05d' %(choice_num))+'grids'+ '_perctl'+str(int(choice_perctl*100))+'.txt'\n",
    "        f_out = open(os.path.join(root_dir, outfolder, ofile), 'w') \n",
    "        f_out.write('NSITES\\t'+str(choice_num)+'\\n') # total number line\n",
    "        f_out.write('STA_ID LAT LON ELEV SLP_N SLP_E STA_NAME\\n') # title line\n",
    "        for j in range(len(choice_index)):\n",
    "            choice_row = y_ids[choice_index[j]]\n",
    "            choice_col = x_ids[choice_index[j]]\n",
    "            \n",
    "            sta_id = 'Row'+str('%03d' %(choice_row))+'Col'+str('%03d' %(choice_col))\n",
    "            lat_i=latitude[choice_row,choice_col]\n",
    "            lon_i=longitude[choice_row,choice_col]\n",
    "            ele_i=elev[choice_row,choice_col]\n",
    "            gradient_n_s_i=gradient_n_s[choice_row,choice_col]\n",
    "            gradient_w_e_i=gradient_w_e[choice_row,choice_col]\n",
    "            stn_name = '\"'+sta_id+'\"'\n",
    "            f_out.write('%s, %f, %f, %f, %f, %f, %s\\n' \\\n",
    "                        % (sta_id, lat_i, lon_i, ele_i, gradient_n_s_i, gradient_w_e_i, stn_name)) \n",
    "        f_out.close()\n",
    "        choice_num_previous=choice_num        \n",
    "\n",
    "# ==========================================================================================\n",
    "print('plot distribution')\n",
    "llcrnrlon=longitude[0,0]-1\n",
    "llcrnrlat=latitude[0,0]-1\n",
    "urcrnrlon=longitude[-1,-1]+1\n",
    "urcrnrlat=latitude[-1,-1]+1\n",
    "\n",
    "lat_0=0.5*(llcrnrlat+urcrnrlat)\n",
    "lon_0=0.5*(llcrnrlon+urcrnrlon)\n",
    "\n",
    "stnlist_files = [f for f in os.listdir(os.path.join(root_dir, outfolder)) if ofile_name_base in f]\n",
    "stnlist_files = sorted(stnlist_files)\n",
    "\n",
    "# plot\n",
    "ncol = 3\n",
    "nrow = int(np.ceil(len(stnlist_files)/ncol))\n",
    "\n",
    "fig, ax = plt.subplots(nrow, ncol)\n",
    "fig.set_figwidth(4.5*ncol) \n",
    "fig.set_figheight(4.5*0.75*nrow)\n",
    "\n",
    "for i in range(nrow):\n",
    "    for j in range(ncol):\n",
    "\n",
    "        k = i*ncol+j            \n",
    "        if k<len(stnlist_files):  \n",
    "\n",
    "            # read sampled stnlist.txt\n",
    "            stnlist_file = os.path.join(root_dir, outfolder, stnlist_files[k])\n",
    "            perctl = int(stnlist_files[k].split('.')[0].split('_')[2].split('perctl')[1])\n",
    "            data = np.loadtxt(stnlist_file, skiprows=2, usecols=[1,2],delimiter=',') #STA_ID[0], LAT[1], LON[2], ELEV[3], SLP_N[4], SLP_E[5], STA_NAME[6]\n",
    "            stn_num = len(data)\n",
    "            stn_lons = [float(data[i][1]) for i in range(stn_num)]\n",
    "            stn_lats = [float(data[i][0]) for i in range(stn_num)]\n",
    "            print(str(stn_num) +' Grids')\n",
    "\n",
    "            m = plot_basemap(llcrnrlon,llcrnrlat,urcrnrlon,urcrnrlat,ax[i,j],lat_0,lon_0,ny,nx) # plot Basemap \n",
    "\n",
    "            x, y = m(stn_lons,stn_lats) # convert the lat/lon values to x/y projections.\n",
    "            m.plot(x, y, 'bs', markersize=0.5) # plot sampeld grid points\n",
    "\n",
    "            # set title\n",
    "            title_str = '('+chr(ord('a') + k) +') ' + str(stn_num)  +' samples ('+str(perctl)+'%)'\n",
    "            ax[i,j].set_title(title_str, fontsize='small', fontweight='semibold')\n",
    "\n",
    "        else: # blank axis\n",
    "            ax[i,j].axis('off')\n",
    "\n",
    "# save plot\n",
    "fig.tight_layout()\n",
    "ofile = 'sample_grids_dist.png'\n",
    "fig.savefig(os.path.join(root_dir, outfolder, ofile), dpi=dpi_value)\n",
    "plt.close(fig)    \n",
    "\n",
    "print('Done')\n"
   ]
  },
  {
   "cell_type": "code",
   "execution_count": 4,
   "metadata": {},
   "outputs": [
    {
     "data": {
      "text/plain": [
       "array([70878, 48739, 70824, ..., 19265, 60509, 57141])"
      ]
     },
     "execution_count": 4,
     "metadata": {},
     "output_type": "execute_result"
    }
   ],
   "source": [
    "choice_index"
   ]
  },
  {
   "cell_type": "code",
   "execution_count": 10,
   "metadata": {},
   "outputs": [
    {
     "data": {
      "text/plain": [
       "array([[0, 0, 0, ..., 0, 0, 0],\n",
       "       [0, 0, 0, ..., 0, 0, 0],\n",
       "       [0, 0, 0, ..., 0, 0, 0],\n",
       "       ...,\n",
       "       [1, 1, 1, ..., 1, 1, 1],\n",
       "       [1, 1, 1, ..., 1, 1, 1],\n",
       "       [1, 1, 1, ..., 1, 1, 1]], dtype=int32)"
      ]
     },
     "execution_count": 10,
     "metadata": {},
     "output_type": "execute_result"
    }
   ],
   "source": [
    "mask"
   ]
  },
  {
   "cell_type": "code",
   "execution_count": 15,
   "metadata": {},
   "outputs": [
    {
     "data": {
      "text/plain": [
       "(array([  0,   0,   0, ..., 223, 223, 223]),\n",
       " array([101, 102, 103, ..., 461, 462, 463]))"
      ]
     },
     "execution_count": 15,
     "metadata": {},
     "output_type": "execute_result"
    }
   ],
   "source": [
    "y_ids,x_ids=np.where(mask==1)\n",
    "y_ids,x_ids"
   ]
  },
  {
   "cell_type": "code",
   "execution_count": 23,
   "metadata": {},
   "outputs": [
    {
     "data": {
      "text/plain": [
       "(1, nan)"
      ]
     },
     "execution_count": 23,
     "metadata": {},
     "output_type": "execute_result"
    }
   ],
   "source": [
    "mask[72,378],elev[0,0]"
   ]
  },
  {
   "cell_type": "code",
   "execution_count": null,
   "metadata": {},
   "outputs": [],
   "source": []
  }
 ],
 "metadata": {
  "kernelspec": {
   "display_name": "Python [conda env:ENTER]",
   "language": "python",
   "name": "conda-env-ENTER-py"
  },
  "language_info": {
   "codemirror_mode": {
    "name": "ipython",
    "version": 3
   },
   "file_extension": ".py",
   "mimetype": "text/x-python",
   "name": "python",
   "nbconvert_exporter": "python",
   "pygments_lexer": "ipython3",
   "version": "3.7.0"
  }
 },
 "nbformat": 4,
 "nbformat_minor": 4
}
