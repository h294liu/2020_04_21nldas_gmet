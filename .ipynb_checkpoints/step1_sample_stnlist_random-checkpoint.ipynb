{
 "cells": [
  {
   "cell_type": "code",
   "execution_count": 1,
   "metadata": {},
   "outputs": [
    {
     "ename": "KeyError",
     "evalue": "'PROJ_LIB'",
     "output_type": "error",
     "traceback": [
      "\u001b[0;31m---------------------------------------------------------------------------\u001b[0m",
      "\u001b[0;31mKeyError\u001b[0m                                  Traceback (most recent call last)",
      "\u001b[0;32m<ipython-input-1-38554d538449>\u001b[0m in \u001b[0;36m<module>\u001b[0;34m\u001b[0m\n\u001b[1;32m      2\u001b[0m \u001b[0;31m# coding: utf-8\u001b[0m\u001b[0;34m\u001b[0m\u001b[0;34m\u001b[0m\u001b[0;34m\u001b[0m\u001b[0m\n\u001b[1;32m      3\u001b[0m \u001b[0;34m\u001b[0m\u001b[0m\n\u001b[0;32m----> 4\u001b[0;31m \u001b[0;32mfrom\u001b[0m \u001b[0mmpl_toolkits\u001b[0m\u001b[0;34m.\u001b[0m\u001b[0mbasemap\u001b[0m \u001b[0;32mimport\u001b[0m \u001b[0mBasemap\u001b[0m\u001b[0;34m\u001b[0m\u001b[0;34m\u001b[0m\u001b[0m\n\u001b[0m\u001b[1;32m      5\u001b[0m \u001b[0;32mimport\u001b[0m \u001b[0mmatplotlib\u001b[0m\u001b[0;34m.\u001b[0m\u001b[0mpyplot\u001b[0m \u001b[0;32mas\u001b[0m \u001b[0mplt\u001b[0m\u001b[0;34m\u001b[0m\u001b[0;34m\u001b[0m\u001b[0m\n\u001b[1;32m      6\u001b[0m \u001b[0;32mfrom\u001b[0m \u001b[0mpyproj\u001b[0m \u001b[0;32mimport\u001b[0m \u001b[0mProj\u001b[0m\u001b[0;34m\u001b[0m\u001b[0;34m\u001b[0m\u001b[0m\n",
      "\u001b[0;32m~/tools/miniconda3/envs/conda_hongli/lib/python3.8/site-packages/mpl_toolkits/basemap/__init__.py\u001b[0m in \u001b[0;36m<module>\u001b[0;34m\u001b[0m\n\u001b[1;32m    150\u001b[0m \u001b[0;34m\u001b[0m\u001b[0m\n\u001b[1;32m    151\u001b[0m \u001b[0;31m# create dictionary that maps epsg codes to Basemap kwargs.\u001b[0m\u001b[0;34m\u001b[0m\u001b[0;34m\u001b[0m\u001b[0;34m\u001b[0m\u001b[0m\n\u001b[0;32m--> 152\u001b[0;31m \u001b[0mpyproj_datadir\u001b[0m \u001b[0;34m=\u001b[0m \u001b[0mos\u001b[0m\u001b[0;34m.\u001b[0m\u001b[0menviron\u001b[0m\u001b[0;34m[\u001b[0m\u001b[0;34m'PROJ_LIB'\u001b[0m\u001b[0;34m]\u001b[0m\u001b[0;34m\u001b[0m\u001b[0;34m\u001b[0m\u001b[0m\n\u001b[0m\u001b[1;32m    153\u001b[0m \u001b[0mepsgf\u001b[0m \u001b[0;34m=\u001b[0m \u001b[0mopen\u001b[0m\u001b[0;34m(\u001b[0m\u001b[0mos\u001b[0m\u001b[0;34m.\u001b[0m\u001b[0mpath\u001b[0m\u001b[0;34m.\u001b[0m\u001b[0mjoin\u001b[0m\u001b[0;34m(\u001b[0m\u001b[0mbasemap_datadir\u001b[0m\u001b[0;34m,\u001b[0m\u001b[0;34m'epsg'\u001b[0m\u001b[0;34m)\u001b[0m\u001b[0;34m)\u001b[0m\u001b[0;34m\u001b[0m\u001b[0;34m\u001b[0m\u001b[0m\n\u001b[1;32m    154\u001b[0m \u001b[0mepsg_dict\u001b[0m\u001b[0;34m=\u001b[0m\u001b[0;34m{\u001b[0m\u001b[0;34m}\u001b[0m\u001b[0;34m\u001b[0m\u001b[0;34m\u001b[0m\u001b[0m\n",
      "\u001b[0;32m~/tools/miniconda3/envs/conda_hongli/lib/python3.8/os.py\u001b[0m in \u001b[0;36m__getitem__\u001b[0;34m(self, key)\u001b[0m\n\u001b[1;32m    673\u001b[0m         \u001b[0;32mexcept\u001b[0m \u001b[0mKeyError\u001b[0m\u001b[0;34m:\u001b[0m\u001b[0;34m\u001b[0m\u001b[0;34m\u001b[0m\u001b[0m\n\u001b[1;32m    674\u001b[0m             \u001b[0;31m# raise KeyError with the original key value\u001b[0m\u001b[0;34m\u001b[0m\u001b[0;34m\u001b[0m\u001b[0;34m\u001b[0m\u001b[0m\n\u001b[0;32m--> 675\u001b[0;31m             \u001b[0;32mraise\u001b[0m \u001b[0mKeyError\u001b[0m\u001b[0;34m(\u001b[0m\u001b[0mkey\u001b[0m\u001b[0;34m)\u001b[0m \u001b[0;32mfrom\u001b[0m \u001b[0;32mNone\u001b[0m\u001b[0;34m\u001b[0m\u001b[0;34m\u001b[0m\u001b[0m\n\u001b[0m\u001b[1;32m    676\u001b[0m         \u001b[0;32mreturn\u001b[0m \u001b[0mself\u001b[0m\u001b[0;34m.\u001b[0m\u001b[0mdecodevalue\u001b[0m\u001b[0;34m(\u001b[0m\u001b[0mvalue\u001b[0m\u001b[0;34m)\u001b[0m\u001b[0;34m\u001b[0m\u001b[0;34m\u001b[0m\u001b[0m\n\u001b[1;32m    677\u001b[0m \u001b[0;34m\u001b[0m\u001b[0m\n",
      "\u001b[0;31mKeyError\u001b[0m: 'PROJ_LIB'"
     ]
    }
   ],
   "source": [
    "#!/usr/bin/env python\n",
    "# coding: utf-8\n",
    "\n",
    "from mpl_toolkits.basemap import Basemap\n",
    "import matplotlib.pyplot as plt\n",
    "from pyproj import Proj\n",
    "import os, shutil\n",
    "import numpy as np\n",
    "import xarray as xr\n",
    "from itertools import chain\n",
    "\n",
    "def plot_basemap(llcrnrlon,llcrnrlat,urcrnrlon,urcrnrlat,ax,lat_0,lon_0,ny,nx):\n",
    "\n",
    "    m = Basemap(llcrnrlon,llcrnrlat,urcrnrlon,urcrnrlat,resolution='l',projection='cyl', ax=ax)   \n",
    "\n",
    "#     m.drawmapboundary(color='grey', linewidth=1.5)\n",
    "    m.drawstates(linewidth=1, linestyle='solid', color='grey')\n",
    "    m.drawcountries(linewidth=1, linestyle='solid', color='k')\n",
    "    m.drawcoastlines(linewidth=.75, linestyle='solid', color='k')\n",
    "#     m.drawrivers(linewidth=0.5, linestyle='solid', color='blue')\n",
    "   \n",
    "    return m\n",
    "\n",
    "# ===============================================================================\n",
    "root_dir = '/glade/u/home/hongli/scratch/2020_04_21nldas_gmet'\n",
    "grid_info_file = os.path.join(root_dir,'data/nldas_topo/conus_ens_grid_eighth.nc')\n",
    "\n",
    "outfolder = 'scripts/step1_sample_stnlist_random'\n",
    "if os.path.exists(os.path.join(root_dir, outfolder)):\n",
    "    shutil.rmtree(os.path.join(root_dir, outfolder))\n",
    "os.makedirs(os.path.join(root_dir, outfolder))\n",
    "ofile_name_base = 'stnlist'\n",
    "np.random.seed(40)\n",
    "dpi_value = 90\n",
    "\n",
    "# ==========================================================================================\n",
    "# read NLDAS grid info\n",
    "f = xr.open_dataset(os.path.join(root_dir,grid_info_file))\n",
    "mask = f['mask'].values[:] # 1 is valid. 0 is invalid. \n",
    "latitude = f['latitude'].values[:] \n",
    "longitude = f['longitude'].values[:] \n",
    "elev = f['elev'].values[:] \n",
    "gradient_n_s = f['gradient_n_s'].values[:] \n",
    "gradient_w_e = f['gradient_w_e'].values[:] \n",
    "\n",
    "(ny,nx)=np.shape(mask)\n",
    "(y_ids,x_ids)=np.where(mask==1)\n",
    "total_stn_num = len(y_ids)\n",
    "\n",
    "stn_index = np.arange(total_stn_num)\n",
    "choice_perctls = np.arange(0.1,1.1,0.1) # (start, end, interval)\n",
    "choice_nums = [int(round(p*total_stn_num)) for p in choice_perctls]\n",
    "\n",
    "# ==========================================================================================\n",
    "# uniformly sample and save\n",
    "print('save stnlist.txt')\n",
    "choice_num_previous = 0\n",
    "for i,choice_num in enumerate(choice_nums):\n",
    "    \n",
    "    choice_perctl = choice_perctls[i]\n",
    "    choice_index = np.random.choice(stn_index, size=choice_num, replace=False)\n",
    "    \n",
    "    if choice_num!=choice_num_previous:\n",
    "        print('choice perctl = '+str(choice_perctl)+', choice num = '+str(choice_num))\n",
    "\n",
    "        ofile = ofile_name_base +'_'+str('%05d' %(choice_num))+'grids'+ '_perctl'+str(int(choice_perctl*100))+'.txt'\n",
    "        f_out = open(os.path.join(root_dir, outfolder, ofile), 'w') \n",
    "        f_out.write('NSITES\\t'+str(choice_num)+'\\n') # total number line\n",
    "        f_out.write('STA_ID LAT LON ELEV SLP_N SLP_E STA_NAME\\n') # title line\n",
    "        for j in range(len(choice_index)):\n",
    "            choice_row = y_ids[choice_index[j]]\n",
    "            choice_col = x_ids[choice_index[j]]\n",
    "            \n",
    "            sta_id = 'Row'+str('%03d' %(choice_row))+'Col'+str('%03d' %(choice_col))\n",
    "            lat_i=latitude[choice_row,choice_col]\n",
    "            lon_i=longitude[choice_row,choice_col]\n",
    "            ele_i=elev[choice_row,choice_col]\n",
    "            gradient_n_s_i=gradient_n_s[choice_row,choice_col]\n",
    "            gradient_w_e_i=gradient_w_e[choice_row,choice_col]\n",
    "            stn_name = '\"'+sta_id+'\"'\n",
    "            f_out.write('%s, %f, %f, %f, %f, %f, %s\\n' \\\n",
    "                        % (sta_id, lat_i, lon_i, ele_i, gradient_n_s_i, gradient_w_e_i, stn_name)) \n",
    "        f_out.close()\n",
    "        choice_num_previous=choice_num        \n",
    "\n",
    "# ==========================================================================================\n",
    "print('plot distribution')\n",
    "llcrnrlon=longitude[0,0]-1\n",
    "llcrnrlat=latitude[0,0]-1\n",
    "urcrnrlon=longitude[-1,-1]+1\n",
    "urcrnrlat=latitude[-1,-1]+1\n",
    "\n",
    "lat_0=0.5*(llcrnrlat+urcrnrlat)\n",
    "lon_0=0.5*(llcrnrlon+urcrnrlon)\n",
    "\n",
    "stnlist_files = [f for f in os.listdir(os.path.join(root_dir, outfolder)) if ofile_name_base in f]\n",
    "stnlist_files = sorted(stnlist_files)\n",
    "\n",
    "# plot\n",
    "ncol = 3\n",
    "nrow = int(np.ceil(len(stnlist_files)/ncol))\n",
    "\n",
    "fig, ax = plt.subplots(nrow, ncol)\n",
    "fig.set_figwidth(4.5*ncol) \n",
    "fig.set_figheight(4.5*0.75*nrow)\n",
    "\n",
    "for i in range(nrow):\n",
    "    for j in range(ncol):\n",
    "\n",
    "        k = i*ncol+j            \n",
    "        if k<len(stnlist_files):  \n",
    "\n",
    "            # read sampled stnlist.txt\n",
    "            stnlist_file = os.path.join(root_dir, outfolder, stnlist_files[k])\n",
    "            perctl = int(stnlist_files[k].split('.')[0].split('_')[2].split('perctl')[1])\n",
    "            data = np.loadtxt(stnlist_file, skiprows=2, usecols=[1,2],delimiter=',') #STA_ID[0], LAT[1], LON[2], ELEV[3], SLP_N[4], SLP_E[5], STA_NAME[6]\n",
    "            stn_num = len(data)\n",
    "            stn_lons = [float(data[i][1]) for i in range(stn_num)]\n",
    "            stn_lats = [float(data[i][0]) for i in range(stn_num)]\n",
    "            print(str(stn_num) +' Grids')\n",
    "\n",
    "            m = plot_basemap(llcrnrlon,llcrnrlat,urcrnrlon,urcrnrlat,ax[i,j],lat_0,lon_0,ny,nx) # plot Basemap \n",
    "\n",
    "            x, y = m(stn_lons,stn_lats) # convert the lat/lon values to x/y projections.\n",
    "            m.plot(x, y, 'bs', markersize=0.5) # plot sampeld grid points\n",
    "\n",
    "            # set title\n",
    "            title_str = '('+chr(ord('a') + k) +') ' + str(stn_num)  +' samples ('+str(perctl)+'%)'\n",
    "            ax[i,j].set_title(title_str, fontsize='small', fontweight='semibold')\n",
    "\n",
    "        else: # blank axis\n",
    "            ax[i,j].axis('off')\n",
    "\n",
    "# save plot\n",
    "fig.tight_layout()\n",
    "ofile = 'sample_grids_dist.png'\n",
    "fig.savefig(os.path.join(root_dir, outfolder, ofile), dpi=dpi_value)\n",
    "plt.close(fig)    \n",
    "\n",
    "print('Done')\n"
   ]
  },
  {
   "cell_type": "code",
   "execution_count": 4,
   "metadata": {},
   "outputs": [
    {
     "data": {
      "text/plain": [
       "array([70878, 48739, 70824, ..., 19265, 60509, 57141])"
      ]
     },
     "execution_count": 4,
     "metadata": {},
     "output_type": "execute_result"
    }
   ],
   "source": [
    "choice_index"
   ]
  },
  {
   "cell_type": "code",
   "execution_count": 10,
   "metadata": {},
   "outputs": [
    {
     "data": {
      "text/plain": [
       "array([[0, 0, 0, ..., 0, 0, 0],\n",
       "       [0, 0, 0, ..., 0, 0, 0],\n",
       "       [0, 0, 0, ..., 0, 0, 0],\n",
       "       ...,\n",
       "       [1, 1, 1, ..., 1, 1, 1],\n",
       "       [1, 1, 1, ..., 1, 1, 1],\n",
       "       [1, 1, 1, ..., 1, 1, 1]], dtype=int32)"
      ]
     },
     "execution_count": 10,
     "metadata": {},
     "output_type": "execute_result"
    }
   ],
   "source": [
    "mask"
   ]
  },
  {
   "cell_type": "code",
   "execution_count": 15,
   "metadata": {},
   "outputs": [
    {
     "data": {
      "text/plain": [
       "(array([  0,   0,   0, ..., 223, 223, 223]),\n",
       " array([101, 102, 103, ..., 461, 462, 463]))"
      ]
     },
     "execution_count": 15,
     "metadata": {},
     "output_type": "execute_result"
    }
   ],
   "source": [
    "y_ids,x_ids=np.where(mask==1)\n",
    "y_ids,x_ids"
   ]
  },
  {
   "cell_type": "code",
   "execution_count": 23,
   "metadata": {},
   "outputs": [
    {
     "data": {
      "text/plain": [
       "(1, nan)"
      ]
     },
     "execution_count": 23,
     "metadata": {},
     "output_type": "execute_result"
    }
   ],
   "source": [
    "mask[72,378],elev[0,0]"
   ]
  },
  {
   "cell_type": "code",
   "execution_count": null,
   "metadata": {},
   "outputs": [],
   "source": []
  }
 ],
 "metadata": {
  "kernelspec": {
   "display_name": "conda_hongli",
   "language": "python",
   "name": "conda_hongli"
  },
  "language_info": {
   "codemirror_mode": {
    "name": "ipython",
    "version": 3
   },
   "file_extension": ".py",
   "mimetype": "text/x-python",
   "name": "python",
   "nbconvert_exporter": "python",
   "pygments_lexer": "ipython3",
   "version": "3.8.3"
  }
 },
 "nbformat": 4,
 "nbformat_minor": 4
}
