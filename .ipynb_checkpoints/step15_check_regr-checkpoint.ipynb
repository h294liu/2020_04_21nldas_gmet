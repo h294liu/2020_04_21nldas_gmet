{
 "cells": [
  {
   "cell_type": "code",
   "execution_count": 11,
   "metadata": {},
   "outputs": [
    {
     "data": {
      "image/png": "[encoded data removed]",
      "text/plain": [
       "<Figure size 432x288 with 1 Axes>"
      ]
     },
     "metadata": {
      "needs_background": "light"
     },
     "output_type": "display_data"
    },
    {
     "name": "stdout",
     "output_type": "stream",
     "text": [
      "00810grids. Zero-value points = 3309. Sample percent = 0.0\n",
      "Done\n"
     ]
    }
   ],
   "source": [
    "import os\n",
    "import pandas as pd\n",
    "import xarray as xr\n",
    "import datetime\n",
    "import numpy as np\n",
    "import matplotlib.pyplot as plt\n",
    "\n",
    "root_dir = '/glade/u/home/hongli/scratch/2020_04_21nldas_gmet'   \n",
    "SampleMode = 'uniform'\n",
    "stnlist_dir = os.path.join(root_dir, 'scripts/step1_sample_stnlist_'+SampleMode)\n",
    "stnlist_name_base = 'stnlist'\n",
    "\n",
    "outfolder = 'scripts/step15_check_regr_'+SampleMode\n",
    "if not os.path.exists(os.path.join(root_dir, outfolder)):\n",
    "    os.makedirs(os.path.join(root_dir, outfolder))\n",
    "\n",
    "#----------------------------------------------------------\n",
    "# read gmet output grids\n",
    "grid_info_file = os.path.join(root_dir,'data/nldas_topo/conus_ens_grid_eighth.nc')\n",
    "f = xr.open_dataset(os.path.join(root_dir,grid_info_file))\n",
    "mask_grid_info = f['mask'].values[:] # 1 is valid. 0 is invalid. \n",
    "latitude = f['latitude'].values[:] \n",
    "longitude = f['longitude'].values[:] \n",
    "elev = f['elev'].values[:] \n",
    "gradient_n_s = f['gradient_n_s'].values[:] \n",
    "gradient_w_e = f['gradient_w_e'].values[:] \n",
    "\n",
    "#----------------------------------------------------------\n",
    "# loop stnlists\n",
    "stnlist_files = [f for f in os.listdir(stnlist_dir) if stnlist_name_base in f]\n",
    "stnlist_files = sorted(stnlist_files)\n",
    "\n",
    "for stnlist_file in stnlist_files:\n",
    "        \n",
    "    CaseID = (stnlist_file.split('.')[0].split('_')[1])\n",
    "    regr_dir = os.path.join(root_dir,'test_'+SampleMode,CaseID)\n",
    "    regr_file = os.path.join(regr_dir,'gmet_regr/regress_ts.weight.nc')\n",
    "    \n",
    "    # read regression nc\n",
    "    f=xr.open_dataset(regr_file)\n",
    "    tmean = f.variables['tmean'][:][0,:,:]\n",
    "    tmean_2 = f.variables['tmean_2'][:][0,:,:]\n",
    "    mask_tmean_2 = (tmean_2==0)\n",
    "\n",
    "    # mask zero-value grids\n",
    "    plt.imshow(((mask_tmean_2==True) & (mask_grid_info==True)),origin='lower')\n",
    "    plt.show()\n",
    "\n",
    "    [y_ids,x_ids]=np.where((mask_tmean_2==True) & (mask_grid_info==True))\n",
    "    ids = np.transpose([y_ids,x_ids]) #(row_id, col_id)\n",
    "    isssue_grids_num = len(ids)\n",
    "\n",
    "    # test if zero-value points are stn\n",
    "    stnlist_dir = os.path.join(root_dir, 'scripts/step1_sample_stnlist_'+SampleMode)\n",
    "    stn_ids = np.loadtxt(os.path.join(stnlist_dir,stnlist_file), skiprows=2, usecols=[0], delimiter=',', dtype='str') # STA_ID[0], LAT[1], LON[2] ELEV[3], SLP_N[4], SLP_E[5], STA_NAME[6]\n",
    "    stnlist = np.loadtxt(os.path.join(stnlist_dir,stnlist_file), skiprows=2, usecols=[1,2,3,4,5], delimiter=',') \n",
    "\n",
    "    stn_lat_id = [int(stn_ids[i][3:3+3]) for i in range(len(stn_ids))] #start from zero\n",
    "    stn_lon_id = [int(stn_ids[i][9:9+3]) for i in range(len(stn_ids))] \n",
    "    stn_ids = np.transpose([stn_lat_id,stn_lon_id])\n",
    "\n",
    "    record = []\n",
    "    count = 0\n",
    "    for i in range(isssue_grids_num):\n",
    "        for j in range(len(stn_ids)):\n",
    "            if ((ids[i,0] == stn_ids[j,0]) & (ids[i,1] == stn_ids[j,1])):\n",
    "                judge = 1\n",
    "                count = count+1\n",
    "            else:\n",
    "                judge = 0\n",
    "\n",
    "        row = ids[i,0]\n",
    "        col = ids[i,1]\n",
    "        record.append([row, col, judge,\n",
    "                       latitude[row,col],\n",
    "                       longitude[row,col],\n",
    "                       elev[row,col],\n",
    "                       gradient_n_s[row,col],\n",
    "                       gradient_w_e[row,col]])\n",
    "    perct = round(count/float(isssue_grids_num),2)\n",
    "    print(CaseID+'. Zero-value points = '+str(isssue_grids_num)+'. Sample percent = '+str(perct))\n",
    "\n",
    "    ofile = os.path.join(root_dir, outfolder, CaseID+'_zero-value_'+str(perct)+'.txt')\n",
    "    np.savetxt(ofile, record, fmt='%d,%d,%d,%.4f,%.4f,%.2f,%.2f,%.2f', \n",
    "               header='y_id,x_id,Sample(Yes=1,No=0),Lat,Lon,Elev,gradient_n_s,gradient_w_e')\n",
    "\n",
    "\n",
    "print('Done')"
   ]
  },
  {
   "cell_type": "code",
   "execution_count": 4,
   "metadata": {},
   "outputs": [
    {
     "data": {
      "text/plain": [
       "array([[  0, 110],\n",
       "       [  0, 140],\n",
       "       [  0, 150],\n",
       "       ...,\n",
       "       [220, 440],\n",
       "       [220, 450],\n",
       "       [220, 460]])"
      ]
     },
     "execution_count": 4,
     "metadata": {},
     "output_type": "execute_result"
    }
   ],
   "source": [
    "stn_ids"
   ]
  },
  {
   "cell_type": "code",
   "execution_count": 7,
   "metadata": {},
   "outputs": [
    {
     "data": {
      "text/plain": [
       "(array([223, 250]), False)"
      ]
     },
     "execution_count": 7,
     "metadata": {},
     "output_type": "execute_result"
    }
   ],
   "source": [
    "ids[i,:], (ids[i,0] in stn_ids[:,0]) & (ids[i,1] in stn_ids[:,1])"
   ]
  },
  {
   "cell_type": "code",
   "execution_count": 10,
   "metadata": {},
   "outputs": [
    {
     "data": {
      "text/plain": [
       "[]"
      ]
     },
     "execution_count": 10,
     "metadata": {},
     "output_type": "execute_result"
    }
   ],
   "source": [
    "[j for j in range(len(stn_ids)) if ((ids[i,0] == stn_ids[j,0]) & (ids[i,1] == stn_ids[j,1]))]"
   ]
  },
  {
   "cell_type": "code",
   "execution_count": 6,
   "metadata": {},
   "outputs": [
    {
     "data": {
      "text/plain": [
       "(<xarray.Variable (lat: 3, lon: 3)>\n",
       " array([[-2.260754, -2.317753, -2.445198],\n",
       "        [-2.055662, -2.211776, -2.361637],\n",
       "        [-2.013566, -2.193542, -2.357734]], dtype=float32)\n",
       " Attributes:\n",
       "     long_name:  estimated daily mean temperature\n",
       "     units:      deg_C, <xarray.Variable (lat: 3, lon: 3)>\n",
       " array([[-2.037866, -2.116956, -2.256951],\n",
       "        [-1.862239, -2.032399, -2.078563],\n",
       "        [-1.757651, -1.904244, -1.980003]], dtype=float32)\n",
       " Attributes:\n",
       "     long_name:  estimated daily mean temperature\n",
       "     units:      deg_C, <xarray.Variable (lat: 3, lon: 3)>\n",
       " array([[-2.14931 , -2.217355, -2.351074],\n",
       "        [-1.95895 , -2.122088, -2.2201  ],\n",
       "        [-1.885608, -2.048893, -2.168869]], dtype=float32)\n",
       " Attributes:\n",
       "     long_name:  estimated daily mean temperature\n",
       "     units:      deg_C)"
      ]
     },
     "execution_count": 6,
     "metadata": {},
     "output_type": "execute_result"
    }
   ],
   "source": [
    "tmean_crr_mb1[0,200:203,100:103],tmean_crr_mb2[0,200:203,100:103],tmean_crr_mean[0,200:203,100:103]"
   ]
  },
  {
   "cell_type": "code",
   "execution_count": 7,
   "metadata": {},
   "outputs": [
    {
     "data": {
      "text/plain": [
       "-2.14931"
      ]
     },
     "execution_count": 7,
     "metadata": {},
     "output_type": "execute_result"
    }
   ],
   "source": [
    "(-2.260754-2.037866)/2"
   ]
  },
  {
   "cell_type": "code",
   "execution_count": null,
   "metadata": {},
   "outputs": [],
   "source": []
  }
 ],
 "metadata": {
  "kernelspec": {
   "display_name": "Python [conda env:ENTER]",
   "language": "python",
   "name": "conda-env-ENTER-py"
  },
  "language_info": {
   "codemirror_mode": {
    "name": "ipython",
    "version": 3
   },
   "file_extension": ".py",
   "mimetype": "text/x-python",
   "name": "python",
   "nbconvert_exporter": "python",
   "pygments_lexer": "ipython3",
   "version": "3.7.0"
  }
 },
 "nbformat": 4,
 "nbformat_minor": 4
}
