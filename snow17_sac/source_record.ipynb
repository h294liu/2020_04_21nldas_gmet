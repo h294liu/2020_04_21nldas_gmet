{
 "cells": [
  {
   "cell_type": "code",
   "execution_count": null,
   "metadata": {},
   "outputs": [],
   "source": [
    "# file source of snow17_sac\n",
    "forcings: /d5/anewman/basin_forcing_data/nldas/17/13310700_lump_nldas_forcing_leap.txt\n",
    "streamflow: /d2/anewman/usgs_streamflow/17/13310700_streamflow_1980_leap.txt\n",
    "parameter: /d7/anewman/basin_dataset_public_v1p2/model_output/flow_timeseries/nldas/17/13310700_05_model_parameters.txt\n",
    "weight: /d2/anewman/region_weights/nldas/region_17_lump_weights.nc\n",
    "shapefile: /d7/anewman/basin_dataset_public_v1p2/shapefiles"
   ]
  }
 ],
 "metadata": {
  "kernelspec": {
   "display_name": "Bash",
   "language": "bash",
   "name": "bash"
  },
  "language_info": {
   "codemirror_mode": "shell",
   "file_extension": ".sh",
   "mimetype": "text/x-sh",
   "name": "bash"
  }
 },
 "nbformat": 4,
 "nbformat_minor": 4
}
