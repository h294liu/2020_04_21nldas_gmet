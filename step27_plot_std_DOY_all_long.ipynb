{
 "cells": [
  {
   "cell_type": "code",
   "execution_count": 4,
   "metadata": {},
   "outputs": [
    {
     "name": "stdout",
     "output_type": "stream",
     "text": [
      "Plot\n",
      "Precip (when NLDAS-2 PoP = 0)\n",
      "Precip (when NLDAS-2 PoP ≠ 0)\n",
      "Tmean\n",
      "DTR\n",
      "Done\n"
     ]
    }
   ],
   "source": [
    "#!/usr/bin/env python\n",
    "# coding: utf-8\n",
    "\n",
    "# This script is used to compare ensemble outputs with NLDAS data\n",
    "import numpy as np\n",
    "import matplotlib as mpl\n",
    "import matplotlib.pyplot as plt\n",
    "import os\n",
    "import pandas as pd\n",
    "import xarray as xr\n",
    "import datetime\n",
    "from tqdm import tqdm\n",
    "\n",
    "def read_nldas(file_dir, start_yr, end_yr):\n",
    "    for yr in range(start_yr, end_yr+1):\n",
    "\n",
    "        nldas_file = 'NLDAS_'+str(yr)+'.nc'\n",
    "        nldas_path = os.path.join(file_dir, nldas_file)\n",
    "\n",
    "        f_nldas = xr.open_dataset(nldas_path)\n",
    "        if yr == start_yr:\n",
    "            pcp = f_nldas['pcp'].values[:] # (time, y, x). unit: mm/day\n",
    "            time = f_nldas['time'].values[:]\n",
    "        else:\n",
    "            pcp = np.concatenate((pcp, f_nldas['pcp'].values[:]), axis = 0)\n",
    "            time = np.concatenate((time, f_nldas['time'].values[:]), axis = 0)\n",
    "    return time, pcp\n",
    "\n",
    "def read_nldas_long(file_dir, nldas_file):\n",
    "\n",
    "    nldas_path = os.path.join(file_dir, nldas_file)\n",
    "\n",
    "    f_nldas = xr.open_dataset(nldas_path)\n",
    "    pcp = f_nldas['pcp'].values[:] # (time, y, x). unit: mm/day\n",
    "    time = f_nldas['time'].values[:]\n",
    "    return time, pcp\n",
    "\n",
    "def read_regress_std(file_dir, start_yr, end_yr):\n",
    "    for yr in range(start_yr, end_yr+1):        \n",
    "        \n",
    "        filename='regress_ts.%d.nc'%(yr)\n",
    "        file = os.path.join(file_dir, filename)\n",
    "        f=xr.open_dataset(file)\n",
    "        time = f['time'].values[:]\n",
    "        pcp_error = f['pcp_error'].values[:] # std\n",
    "        tmean_error_2 = f['tmean_error_2'].values[:]\n",
    "        trange_error_2 = f['trange_error_2'].values[:]\n",
    "        \n",
    "        if yr == start_yr:\n",
    "            time_concat = time\n",
    "            pcp_error_concat = pcp_error\n",
    "            tmean_error_2_concat = tmean_error_2\n",
    "            trange_error_2_concat = trange_error_2\n",
    "        else:\n",
    "            time_concat = np.concatenate((time_concat,time), axis=0) # (time)\n",
    "            pcp_error_concat = np.concatenate((pcp_error_concat, pcp_error), axis=0)\n",
    "            tmean_error_2_concat = np.concatenate((tmean_error_2_concat, tmean_error_2), axis=0)\n",
    "            trange_error_2_concat = np.concatenate((trange_error_2_concat, trange_error_2), axis=0)\n",
    "            \n",
    "    time_concat = pd.to_datetime(time_concat)        \n",
    "    return time_concat, pcp_error_concat, tmean_error_2_concat, trange_error_2_concat\n",
    "\n",
    "def read_regress_std_long(file_dir, filename, varname):\n",
    "\n",
    "    file = os.path.join(file_dir, filename)\n",
    "    f=xr.open_dataset(file)\n",
    "    time = f['time'].values[:]\n",
    "    error = f[varname].values[:] # std\n",
    "\n",
    "    time = pd.to_datetime(time)        \n",
    "    return time, error\n",
    "\n",
    "def df_DOY(data, time):\n",
    "    time_month = [t.month for t in time]\n",
    "    time_day = [t.day for t in time]\n",
    "\n",
    "    df = pd.DataFrame(data)    \n",
    "    df['month']=time_month\n",
    "    df['date']=time_day\n",
    "    df_DOY = df.groupby(['month','date']).mean()    \n",
    "    return df_DOY\n",
    "\n",
    "def DOY_hist(df,bins,perct):\n",
    "    # calculate grid count/density per error value\n",
    "    nt = len(df)\n",
    "    freq_arr = np.zeros((bins,nt))\n",
    "\n",
    "    # vmin and vmax\n",
    "    vmin = np.nanmin(df)\n",
    "    vmax = np.nanpercentile(df,perct) # vmax = np.nanmax(data) \n",
    "\n",
    "    pbar = tqdm(total=nt)\n",
    "    for d in range(nt):\n",
    "        [hist,bin_edges] = np.histogram(df.iloc[d,:], bins=bins, range=(vmin,vmax),density=True)\n",
    "        # If density=False, the result will contain the number of samples in each bin.\n",
    "        # If density=True, the result is the value of the probability density function at the bin, normalized such that the integral over the range is 1.\n",
    "        freq_arr[:,d] = hist    \n",
    "        pbar.update(1)\n",
    "    pbar.close()\n",
    "    return freq_arr,bin_edges\n",
    "\n",
    "#======================================================================================================\n",
    "# main script\n",
    "root_dir = '/glade/u/home/hongli/scratch/2020_04_21nldas_gmet'   \n",
    "nldas_dir = os.path.join(root_dir,'data/nldas_daily_utc_convert')\n",
    "# nldas_sum_dir = os.path.join(root_dir,'data/nldas_daily_utc_convert_summary_2007_2016')\n",
    "nldas_sum_dir = os.path.join(root_dir,'data/nldas_daily_utc_convert_summary')\n",
    "\n",
    "gridinfo_file = os.path.join(root_dir,'data/nldas_topo/conus_ens_grid_eighth.nc')\n",
    "\n",
    "result_dir = os.path.join(root_dir,'test_uniform_perturb')\n",
    "test_folders = [d for d in os.listdir(result_dir)]\n",
    "test_folders = sorted(test_folders)\n",
    "scenarios_ids = range(0,9) \n",
    "\n",
    "time_format = '%Y-%m-%d'\n",
    "start_yr,end_yr=1979,2019 #2007,2016\n",
    "plot_date_start = '1979-01-01'#'2007-01-01'\n",
    "plot_date_end = '2019-12-31'#'2016-12-31'\n",
    "plot_date_start_obj = datetime.datetime.strptime(plot_date_start, time_format)\n",
    "plot_date_end_obj = datetime.datetime.strptime(plot_date_end, time_format)\n",
    "\n",
    "bins = 100\n",
    "dpi_value = 300\n",
    "output_dir=os.path.join(root_dir, 'scripts/step27_plot_uncertainty_DOY_all')\n",
    "if not os.path.exists(output_dir):\n",
    "    os.makedirs(output_dir)\n",
    "output_filename = 'all_%d_%d.png'%(start_yr,end_yr)\n",
    "   \n",
    "# #======================================================================================================\n",
    "# print('Read gridinfo mask')\n",
    "# # get xy mask from gridinfo.nc\n",
    "# f_gridinfo = xr.open_dataset(gridinfo_file)\n",
    "# mask_xy = f_gridinfo['mask'].values[:] # (y, x). 1 is valid. 0 is invalid.\n",
    "\n",
    "# #======================================================================================================\n",
    "# # read historical nldas data\n",
    "# print('Read nldas data')\n",
    "# # time,pcp_3d=read_nldas(nldas_dir,start_yr, end_yr)\n",
    "# time,pcp_3d=read_nldas_long(nldas_sum_dir,'NLDAS_pcp.nc')\n",
    "\n",
    "# # get time mask from nldas data\n",
    "# time_obj = pd.to_datetime(time)\n",
    "# mask_t  = (time_obj >= plot_date_start_obj) & (time_obj <= plot_date_end_obj) \n",
    "# time_nldas = time_obj[mask_t]\n",
    "\n",
    "# nt_nldas = len(time_nldas)\n",
    "# mask_xy_3d_nldas = np.repeat(mask_xy[np.newaxis,:,:],nt_nldas,axis=0)\n",
    "\n",
    "# pcp = (pcp_3d[mask_xy_3d_nldas!=0]).reshape((nt_nldas,-1))    \n",
    "\n",
    "# # calculate DOY (day of year) mean IQR    \n",
    "# df_nlds = pd.DataFrame(pcp)    \n",
    "# time_month = [t.month for t in time_nldas]\n",
    "# time_day = [t.day for t in time_nldas]\n",
    "# df_nlds['month']=time_month\n",
    "# df_nlds['date']=time_day  \n",
    "# df_nlds2 = df_nlds.groupby(['month','date']).mean()\n",
    "\n",
    "# del pcp_3d,pcp,df_nlds\n",
    "\n",
    "# #======================================================================================================\n",
    "# # read scenario ensemble results and save to dictionary\n",
    "# print('Read regression error')\n",
    "# k=-2 #-1\n",
    "# test_folder = test_folders[scenarios_ids[k]]\n",
    "\n",
    "# print(test_folder)\n",
    "# test_dir = os.path.join(result_dir, test_folder)\n",
    "# fig_title= test_folder\n",
    "\n",
    "# print(' -- read spatial error')\n",
    "# # read\n",
    "# nldas_regr_dir = os.path.join(root_dir,'test_uniform_perturb',test_folder,'gmet_regr_summary')\n",
    "# # time_regr, pcp_error_3d, tmean_error_2_3d, trange_error_2_3d = read_regress_std(nldas_regr_dir, start_yr, end_yr)\n",
    "# time_regr, pcp_error_3d, = read_regress_std_long(nldas_regr_dir, 'regress_ts_pcp_error.nc', 'pcp_error')\n",
    "# time_regr, tmean_error_2_3d = read_regress_std_long(nldas_regr_dir, 'regress_ts_tmean_error_2.nc', 'tmean_error_2')\n",
    "# time_regr, trange_error_2_3d = read_regress_std_long(nldas_regr_dir, 'regress_ts_trange_error_2.nc', 'trange_error_2')\n",
    "\n",
    "# # define plot mask for nldas regr\n",
    "# mask_regr_t = (time_regr>=plot_date_start_obj) & (time_regr<=plot_date_end_obj)\n",
    "# nt_regr = len(mask_regr_t)\n",
    "# mask_xy_3d_nt_regr = np.repeat(mask_xy[np.newaxis,:,:],nt_regr,axis=0)\n",
    "\n",
    "# print(' -- reshape')\n",
    "# # reshpae (nt,ny,nx) -> (nt,ny*nx)\n",
    "# pcp_error = (pcp_error_3d[mask_xy_3d_nt_regr!=0]).reshape((nt_regr,-1))    \n",
    "# tmean_error_2 = (tmean_error_2_3d[mask_xy_3d_nt_regr!=0]).reshape((nt_regr,-1))    \n",
    "# trange_error_2 = (trange_error_2_3d[mask_xy_3d_nt_regr!=0]).reshape((nt_regr,-1))    \n",
    "\n",
    "# ##======================================================================================================    \n",
    "# # group regression error for DOY\n",
    "# print('group by DOY')\n",
    "# df_pcp = df_DOY(pcp_error, time_regr)\n",
    "# df_pcp_zero = df_pcp[df_nlds2==0]\n",
    "# df_pcp_nonzero = df_pcp[df_nlds2!=0]\n",
    "\n",
    "# df_tmean = df_DOY(tmean_error_2, time_regr)\n",
    "# df_trange = df_DOY(trange_error_2, time_regr)\n",
    "\n",
    "# print('histogram for DOY')\n",
    "# freq_pcp_zero,bin_edges_pcp_zero=DOY_hist(df_pcp_zero,bins,99.5)\n",
    "# freq_pcp_nonzero,bin_edges_pcp_nonzero=DOY_hist(df_pcp_nonzero,bins,99.5)\n",
    "# freq_tmean,bin_edges_tmean=DOY_hist(df_tmean,bins,99.5)\n",
    "# freq_trange,bin_edges_trange=DOY_hist(df_trange,bins,99.5)\n",
    "\n",
    "# #======================================================================================================    \n",
    "# # create a white-blue linear colormap\n",
    "# print('create colormap')\n",
    "\n",
    "# # reference: https://stackoverflow.com/questions/25408393/getting-individual-colors-from-a-color-map-in-matplotlib\n",
    "# cmap = mpl.cm.get_cmap('jet') # get the blue color of jet \n",
    "# c0 = cmap(0.0)\n",
    "# top = mpl.colors.LinearSegmentedColormap.from_list(\"\", [\"white\",c0])\n",
    "\n",
    "# # combine two liner colormaps to create a\n",
    "# # reference: https://matplotlib.org/3.1.0/tutorials/colors/colormap-manipulation.html\n",
    "# bottom = mpl.cm.get_cmap('jet')\n",
    "# newcolors = np.vstack((top(np.linspace(0, 1, int(256*0.2))),bottom(np.linspace(0, 1, int(256*0.8)))))\n",
    "# newcmp = mpl.colors.LinearSegmentedColormap.from_list(\"WhiteJet\", newcolors)\n",
    "\n",
    "##======================================================================================================    \n",
    "# plot\n",
    "print('Plot')\n",
    "\n",
    "title_list = ['Precip (when NLDAS-2 PoP = 0)', 'Precip (when NLDAS-2 PoP ≠ 0)', 'Tmean', 'DTR']\n",
    "ylabel_list = ['Std Dev (mm$\\,$day$^{-1}$)', 'Std Dev (mm$\\,$day$^{-1}$)', \n",
    "               'Std Dev ($^\\circ$C)','Std Dev ($^\\circ$C)']\n",
    "\n",
    "# plot each varaiable seperately\n",
    "nrow = len(title_list) \n",
    "ncol = 1           \n",
    "fig, ax = plt.subplots(nrow, ncol, figsize=(5.5,5.5*100/365.0*4))\n",
    "color_list = [ newcmp(x) for x in np.linspace(0, 1, bins) ]\n",
    "\n",
    "for i in range(nrow):\n",
    "    \n",
    "    print(title_list[i])\n",
    "\n",
    "    # calculate precip when nldas=0 and nldas!=0\n",
    "    if i == 0:\n",
    "        data = freq_pcp_zero\n",
    "        bin_edges = bin_edges_pcp_zero\n",
    "    elif i == 1:\n",
    "        data = freq_pcp_nonzero\n",
    "        bin_edges = bin_edges_pcp_nonzero\n",
    "    elif i == 2:\n",
    "        data = freq_tmean\n",
    "        bin_edges = bin_edges_tmean\n",
    "    elif i == 3:\n",
    "        data = freq_trange\n",
    "        bin_edges = bin_edges_trange\n",
    "   \n",
    "    # stackplot\n",
    "    im = ax[i].imshow(data, cmap=newcmp, origin='lower')\n",
    "\n",
    "    # limit\n",
    "    ax[i].set_xlim(1,np.shape(data)[1])\n",
    "#     ax[i].set_ylim(bin_edges[0],bin_edges[-1])\n",
    "\n",
    "    ax[i].set_yticks(np.linspace(0, ax[i].get_yticks()[-1], 5))\n",
    "    ylabels = np.linspace(bin_edges[0],bin_edges[-1],5)\n",
    "    ylabels = [round(yy,1) for yy in ylabels]\n",
    "    ax[i].set_yticklabels(ylabels)\n",
    "\n",
    "    # label\n",
    "    if i == nrow-1:\n",
    "        xlabel = 'Day of Year (DOY) '\n",
    "        ax[i].set_xlabel(xlabel, fontsize='xx-small')\n",
    "    ax[i].set_ylabel(ylabel_list[i], fontsize='xx-small')\n",
    "    \n",
    "    # title\n",
    "    alpha = chr(ord('a') + i)\n",
    "    ax[i].set_title('('+alpha+') '+title_list[i], fontsize='xx-small', fontweight='semibold', pad=2)\n",
    "\n",
    "    # tick\n",
    "    ax[i].tick_params(axis='both', direction='out',labelsize = 'xx-small', \n",
    "                        length=2, width=0.5, pad=1.5)\n",
    "\n",
    "   # change subplot border width\n",
    "    for axis in ['top','bottom','left','right']:\n",
    "        ax[i].spines[axis].set_linewidth(0.5)\n",
    "\n",
    "    # colorbar\n",
    "    if i == nrow-1:\n",
    "        fig.subplots_adjust(bottom=0.08, top=1, left = 0, right=1, hspace=0.25)\n",
    "        cax = fig.add_axes([0.25, 0.001, 0.5, 0.015]) #[left, bottom, width, height]\n",
    "        cbar = fig.colorbar(im, cax=cax, orientation='horizontal')\n",
    "\n",
    "        tick1 = np.nanmax(data)*0.5\n",
    "        tick2 = np.nanmax(data)\n",
    "        cbar.set_ticks([0, tick1, tick2]) \n",
    "        cbar.set_ticklabels(['Low', 'Medium', 'High'])  \n",
    "        cbar.ax.tick_params(labelsize='xx-small', length=2, width=1)#, rotation=90)\n",
    "        cbar.set_label(label='Probability density',size='xx-small')    \n",
    "\n",
    "# save plot\n",
    "fig.tight_layout \n",
    "fig.savefig(os.path.join(output_dir, output_filename), dpi=dpi_value,\n",
    "            bbox_inches = 'tight', pad_inches = 0.05)\n",
    "plt.close(fig)\n",
    "\n",
    "print('Done')"
   ]
  },
  {
   "cell_type": "markdown",
   "metadata": {},
   "source": [
    "### 2. Calculate Pearson correlation between NLDAS precip and estimates ###"
   ]
  },
  {
   "cell_type": "code",
   "execution_count": null,
   "metadata": {},
   "outputs": [
    {
     "name": "stdout",
     "output_type": "stream",
     "text": [
      "(0.7721429168658684, 1.1322589940816914e-73)\n"
     ]
    }
   ],
   "source": [
    "# calculate Pearson correlation between NLDAS precip and estimates\n",
    "import scipy\n",
    "from scipy import stats\n",
    "df_nlds2_nonzero = df_nlds2[df_nlds2!=0]\n",
    "\n",
    "df_nlds2_mean = np.nanmean(df_nlds2_nonzero,axis=1)\n",
    "df_pcp_mean = np.nanmean(df_pcp_nonzero,axis=1)\n",
    "\n",
    "print(scipy.stats.pearsonr(df_nlds2_mean,df_pcp_mean))"
   ]
  },
  {
   "cell_type": "markdown",
   "metadata": {},
   "source": [
    "### 3. Calculate overall mean standard deviation of all grids and 1979-2019 ###"
   ]
  },
  {
   "cell_type": "code",
   "execution_count": 2,
   "metadata": {},
   "outputs": [
    {
     "name": "stdout",
     "output_type": "stream",
     "text": [
      "0.38119325281902755\n",
      "0.3372103404655208\n",
      "0.5878341539898558\n"
     ]
    }
   ],
   "source": [
    "# calculate overall mean standard deviation of all grids and 1979-2019\n",
    "print(np.nanmean(df_pcp))\n",
    "print(np.nanmean(df_tmean))\n",
    "print(np.nanmean(df_trange))"
   ]
  },
  {
   "cell_type": "code",
   "execution_count": 12,
   "metadata": {},
   "outputs": [
    {
     "data": {
      "text/plain": [
       "<matplotlib.collections.PathCollection at 0x2b916bf46ca0>"
      ]
     },
     "execution_count": 12,
     "metadata": {},
     "output_type": "execute_result"
    },
    {
     "data": {
      "image/png": "[encoded data removed]",
      "text/plain": [
       "<Figure size 432x288 with 1 Axes>"
      ]
     },
     "metadata": {
      "needs_background": "light"
     },
     "output_type": "display_data"
    }
   ],
   "source": [
    "plt.scatter(df_nlds2_mean,df_pcp_mean)"
   ]
  },
  {
   "cell_type": "code",
   "execution_count": 7,
   "metadata": {},
   "outputs": [
    {
     "data": {
      "text/plain": [
       "(80439,)"
      ]
     },
     "execution_count": 7,
     "metadata": {},
     "output_type": "execute_result"
    }
   ],
   "source": [
    "np.shape(df_nlds2_mean)"
   ]
  },
  {
   "cell_type": "code",
   "execution_count": 62,
   "metadata": {},
   "outputs": [
    {
     "data": {
      "text/plain": [
       "3.601881980895996"
      ]
     },
     "execution_count": 62,
     "metadata": {},
     "output_type": "execute_result"
    }
   ],
   "source": [
    "vmax"
   ]
  },
  {
   "cell_type": "code",
   "execution_count": null,
   "metadata": {},
   "outputs": [],
   "source": []
  }
 ],
 "metadata": {
  "kernelspec": {
   "display_name": "conda_hongli",
   "language": "python",
   "name": "conda_hongli"
  },
  "language_info": {
   "codemirror_mode": {
    "name": "ipython",
    "version": 3
   },
   "file_extension": ".py",
   "mimetype": "text/x-python",
   "name": "python",
   "nbconvert_exporter": "python",
   "pygments_lexer": "ipython3",
   "version": "3.8.3"
  }
 },
 "nbformat": 4,
 "nbformat_minor": 4
}
