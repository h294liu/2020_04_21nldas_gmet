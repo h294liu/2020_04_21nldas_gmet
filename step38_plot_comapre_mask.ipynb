{
 "cells": [
  {
   "cell_type": "code",
   "execution_count": 1,
   "metadata": {},
   "outputs": [
    {
     "name": "stdout",
     "output_type": "stream",
     "text": [
      "Plot\n",
      "Done\n"
     ]
    }
   ],
   "source": [
    "#!/usr/bin/env python\n",
    "# coding: utf-8\n",
    "\n",
    "# This script is used to compare ensemble outputs with NLDAS data\n",
    "import os\n",
    "os.environ[\"PROJ_LIB\"] = '/glade/u/home/hongli/tools/miniconda3/envs/conda_hongli/share/proj'\n",
    "\n",
    "from mpl_toolkits.basemap import Basemap\n",
    "from mpl_toolkits.axes_grid1 import make_axes_locatable\n",
    "from pyproj import Proj\n",
    "import numpy as np\n",
    "import matplotlib as mpl\n",
    "import matplotlib.pyplot as plt\n",
    "import os\n",
    "import pandas as pd\n",
    "import xarray as xr\n",
    "import datetime\n",
    "\n",
    "def plot_basemap(llcrnrlon,llcrnrlat,urcrnrlon,urcrnrlat,ax,lat_0,lon_0,ny,nx):\n",
    "\n",
    "    m = Basemap(llcrnrlon,llcrnrlat,urcrnrlon,urcrnrlat,resolution='l',projection='cyl', ax=ax)   \n",
    "#     m = Basemap(llcrnrlon,llcrnrlat,urcrnrlon,urcrnrlat,resolution='l',projection='tmerc', ax=ax,lat_0=lat_0,lon_0=lon_0)\n",
    "\n",
    "    m.drawstates(linewidth=0.5, linestyle='solid', color='grey')\n",
    "    m.drawcountries(linewidth=0.5, linestyle='solid', color='k')\n",
    "    m.drawcoastlines(linewidth=.25, linestyle='solid', color='k')\n",
    "    # lat and lon with lables\n",
    "    m.drawparallels(np.arange(np.floor(llcrnrlat),np.ceil(urcrnrlat),10),labels=[True,False,False,False],\n",
    "                    dashes=[1,1], fontsize='xx-small', linewidth=0.2, color='grey') # Draw parallels (latitude lines)\n",
    "    m.drawmeridians(np.arange(np.floor(llcrnrlon),np.ceil(urcrnrlon),15),labels=[False,False,False,True],\n",
    "                    dashes=[1,1], fontsize='xx-small', linewidth=0.2, color='grey') # Draw meridians (longitude lines). Label [left, right, top, bottom]\n",
    "    return m\n",
    "\n",
    "#======================================================================================================\n",
    "# main script\n",
    "root_dir = '/glade/u/home/hongli/scratch/2020_04_21nldas_gmet'   \n",
    "output_dir=os.path.join(root_dir, 'scripts/step38_plot_comapre_mask')\n",
    "if not os.path.exists(output_dir):\n",
    "    os.makedirs(output_dir)\n",
    "    \n",
    "#======================================================================================================\n",
    "# read\n",
    "file = '/glade/u/home/hongli/work/2020_04_21nldas_gmet/data/nldas_topo/NLDAS_elevation.nc4'\n",
    "f=xr.open_dataset(file)\n",
    "NLDAS_elev = f['NLDAS_elev'].values[:]\n",
    "mask_topo = ~np.isnan(NLDAS_elev[0,:,:])\n",
    "(ny,nx) = np.shape(mask_topo)\n",
    "lat = f['lat'].values[:] #(224)\n",
    "lon = f['lon'].values[:] #(464)\n",
    "latitude = lat.reshape(ny,1).repeat(nx,axis=1)\n",
    "longitude = lon.reshape(1,nx).repeat(ny,axis=0)\n",
    "\n",
    "# file = '/glade/u/home/hongli/work/2020_04_21nldas_gmet/data/nldas_topo/conus_ens_grid_eighth_deg_v1p1.nc'\n",
    "# f=xr.open_dataset(file)\n",
    "# elev = f['elev'].values[:]\n",
    "# mask_topo = ~np.isnan(elev)\n",
    "# latitude = f['latitude'].values[:] #(224,464)\n",
    "# longitude = f['longitude'].values[:] #(224,464)\n",
    "\n",
    "file = '/glade/u/home/hongli/scratch/2020_04_21nldas_gmet/data/nldas_daily_utc/NLDAS_2013.nc'\n",
    "f=xr.open_dataset(file)\n",
    "tair_min = f['tair_min'].values[:]\n",
    "tair_avg = f['tair_avg'].values[:] #(365,224,464)\n",
    "mask_force = ~np.isnan(tair_min[0,:,:])\n",
    "\n",
    "file = '/glade/u/home/hongli/work/2020_04_21nldas_gmet/data/nldas_topo/conus_ens_grid_eighth.nc'\n",
    "f=xr.open_dataset(file)\n",
    "elev = f['elev'].values[:]\n",
    "mask = f['mask'].values[:]\n",
    "mask_both = (mask==1)\n",
    "\n",
    "#======================================================================================================\n",
    "print('Plot')\n",
    "nrow = 1 # mask\n",
    "ncol = 3 # nldas elevation, nldas forcing, common grids\n",
    "fig, ax = plt.subplots(nrow, ncol, figsize=(7.08,7.08*0.85*0.25))\n",
    "fig.subplots_adjust(left=0.1, bottom=0.1, right=1, top=0.9)#, wspace=None, hspace=None)\n",
    "\n",
    "llcrnrlon = longitude[0,0]\n",
    "urcrnrlon = longitude[-1,-1]\n",
    "llcrnrlat = latitude[0,0]\n",
    "urcrnrlat = latitude[-1,-1]\n",
    "lat_0=0.5*(llcrnrlat+urcrnrlat)\n",
    "lon_0=0.5*(llcrnrlon+urcrnrlon)\n",
    "(ny,nx)=np.shape(longitude)\n",
    "\n",
    "for j in range(ncol):\n",
    "\n",
    "    # select data for each subplot\n",
    "    cmap=plt.cm.terrain_r #plt.cm.jet_r\n",
    "    if j == 0:\n",
    "        data,title_str=mask_topo,'(a) NLDAS topography coverage'\n",
    "    elif j==1:\n",
    "        data,title_str=mask_force,'(b) NLDAS forcing coverage'\n",
    "    elif j==(ncol-1):\n",
    "        data,title_str=mask_both,'(c) Commonly available coverage'               \n",
    "\n",
    "    # plot Basemap\n",
    "    m = plot_basemap(llcrnrlon,llcrnrlat,urcrnrlon,urcrnrlat,ax[j],lat_0,lon_0,ny,nx) # plot Basemap \n",
    "\n",
    "    # plot data\n",
    "    im = m.pcolormesh(longitude,latitude,data,shading='flat',latlon=True,cmap=cmap)\n",
    "\n",
    "#     # set colorbar\n",
    "#     cbar = fig.colorbar(im,ax=ax[j],pad=0.03,orientation=\"horizontal\")  \n",
    "#     cbar.ax.tick_params(labelsize='xx-small',pad=0.05, length=2)             \n",
    "\n",
    "    # set title\n",
    "    ax[j].set_title(title_str, fontsize='xx-small', fontweight='semibold')\n",
    "\n",
    "# save plot\n",
    "fig.tight_layout(pad=0.2)\n",
    "output_filename = 'compare_mask.png'\n",
    "fig.savefig(os.path.join(output_dir, output_filename), dpi=100)\n",
    "plt.close(fig)\n",
    "\n",
    "print('Done')\n"
   ]
  },
  {
   "cell_type": "code",
   "execution_count": 7,
   "metadata": {},
   "outputs": [
    {
     "data": {
      "text/plain": [
       "array([[False, False, False, ..., False, False, False],\n",
       "       [False, False, False, ..., False, False, False],\n",
       "       [False, False, False, ..., False, False, False],\n",
       "       ...,\n",
       "       [ True,  True,  True, ...,  True,  True,  True],\n",
       "       [ True,  True,  True, ...,  True,  True,  True],\n",
       "       [ True,  True,  True, ...,  True,  True,  True]])"
      ]
     },
     "execution_count": 7,
     "metadata": {},
     "output_type": "execute_result"
    }
   ],
   "source": [
    "mask_force"
   ]
  },
  {
   "cell_type": "code",
   "execution_count": 10,
   "metadata": {},
   "outputs": [
    {
     "data": {
      "text/plain": [
       "<matplotlib.image.AxesImage at 0x2ad4ccf66ac0>"
      ]
     },
     "execution_count": 10,
     "metadata": {},
     "output_type": "execute_result"
    },
    {
     "data": {
      "image/png": "[encoded data removed]",
      "text/plain": [
       "<Figure size 432x288 with 1 Axes>"
      ]
     },
     "metadata": {
      "needs_background": "light"
     },
     "output_type": "display_data"
    }
   ],
   "source": [
    "plt.imshow((mask_topo==True) & (mask_force==False),origin='lower')"
   ]
  },
  {
   "cell_type": "code",
   "execution_count": 11,
   "metadata": {},
   "outputs": [
    {
     "data": {
      "text/plain": [
       "<matplotlib.image.AxesImage at 0x2ad4cf5903d0>"
      ]
     },
     "execution_count": 11,
     "metadata": {},
     "output_type": "execute_result"
    },
    {
     "data": {
      "image/png": "[encoded data removed]",
      "text/plain": [
       "<Figure size 432x288 with 1 Axes>"
      ]
     },
     "metadata": {
      "needs_background": "light"
     },
     "output_type": "display_data"
    }
   ],
   "source": [
    "plt.imshow((mask_topo==False) & (mask_force==True),origin='lower')"
   ]
  },
  {
   "cell_type": "code",
   "execution_count": null,
   "metadata": {},
   "outputs": [],
   "source": []
  }
 ],
 "metadata": {
  "kernelspec": {
   "display_name": "conda_hongli",
   "language": "python",
   "name": "conda_hongli"
  },
  "language_info": {
   "codemirror_mode": {
    "name": "ipython",
    "version": 3
   },
   "file_extension": ".py",
   "mimetype": "text/x-python",
   "name": "python",
   "nbconvert_exporter": "python",
   "pygments_lexer": "ipython3",
   "version": "3.8.3"
  }
 },
 "nbformat": 4,
 "nbformat_minor": 4
}
