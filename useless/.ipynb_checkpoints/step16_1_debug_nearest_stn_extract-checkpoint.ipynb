{
 "cells": [
  {
   "cell_type": "code",
   "execution_count": 7,
   "metadata": {},
   "outputs": [
    {
     "name": "stdout",
     "output_type": "stream",
     "text": [
      "Done\n"
     ]
    }
   ],
   "source": [
    "import numpy as np\n",
    "import os\n",
    "\n",
    "# main script\n",
    "# extract each grid's 30 nearest stns.\n",
    "\n",
    "log_file = '/glade/u/home/hongli/scratch/2020_04_21nldas_gmet/test_uniform_debug/00810grids/tmp/log2'\n",
    "root_dir = '/glade/u/home/hongli/scratch/2020_04_21nldas_gmet/scripts'\n",
    "ofolder = 'step16_debug_nearet_stn_character'\n",
    "if not os.path.exists(os.path.join(root_dir,ofolder)):\n",
    "    os.makedirs(os.path.join(root_dir,ofolder))\n",
    "ofolder_subs = ['invalid','valid']\n",
    "for ofolder_sub in ofolder_subs:\n",
    "    if not os.path.exists(os.path.join(root_dir,ofolder,ofolder_sub)):\n",
    "        os.makedirs(os.path.join(root_dir,ofolder,ofolder_sub))    \n",
    "\n",
    "# # identify useful time period lines (time=1, one time step)\n",
    "# print('identify useful time period lines')\n",
    "# with open(log_file) as f:\n",
    "#     for i, line in enumerate(f):\n",
    "#         line=line.strip()\n",
    "#         if line and \"TIME STEP =    1420070400.0000000       (           1 /          31 )\" in line:\n",
    "#             time_start_line = i\n",
    "#         if line and \"TIME STEP =    1420156800.0000000       (           2 /          31 )\" in line:\n",
    "#             time_end_line = i\n",
    "#             break\n",
    "\n",
    "# # You can also obstain them from linux command 'grep -nr 'TIME STEP = ' log2'\n",
    "# # time_start_line = 16233-1\n",
    "# # time_end_line = 1299399-1 \n",
    "            \n",
    "# # identify useful grid lines (grid_id, start_line_num)\n",
    "# print('identify useful grid lines')\n",
    "# non_masked_grid_lines = []\n",
    "# with open(log_file) as f:\n",
    "#     for i, line in enumerate(f):\n",
    "#         line=line.strip()                \n",
    "#         if line  and i>time_start_line and i<time_end_line:\n",
    "#             if 'Grid lat & lon' in line: # ignore masked grid\n",
    "#                 non_masked_grid_lines.append(i-1)\n",
    "#         elif i>time_end_line:\n",
    "#             break\n",
    "            \n",
    "records = []           \n",
    "f_out=open(os.path.join(root_dir,ofolder,'GridID_StartLine.txt'),'w')\n",
    "f_out.write('GridID,StartLine\\n')\n",
    "with open(log_file) as f:\n",
    "    for i, line in enumerate(f):\n",
    "        line=line.strip()\n",
    "        if i in non_masked_grid_lines:         \n",
    "#             print(i,line)\n",
    "            grid_id = line.split('=')[1]\n",
    "#             records.append([grid_id,i]) #grid_id, start_line_number\n",
    "            f_out.write('%s,%d\\n'%(grid_id,i))\n",
    "        elif i>time_end_line:\n",
    "            break\n",
    "f_out.close()\n",
    "# np.savetxt(os.path.join(root_dir,ofolder,'GridID_StartLine.txt'),records,\n",
    "#            fmt='%s,%d',header='GridID,StartLine')\n",
    "            \n",
    "print('Done')"
   ]
  },
  {
   "cell_type": "code",
   "execution_count": 14,
   "metadata": {},
   "outputs": [
    {
     "data": {
      "text/plain": [
       "(16234, 16236)"
      ]
     },
     "execution_count": 14,
     "metadata": {},
     "output_type": "execute_result"
    }
   ],
   "source": [
    "grid_start_line,grid_end_line"
   ]
  },
  {
   "cell_type": "code",
   "execution_count": 2,
   "metadata": {},
   "outputs": [
    {
     "data": {
      "text/plain": [
       "79831"
      ]
     },
     "execution_count": 2,
     "metadata": {},
     "output_type": "execute_result"
    }
   ],
   "source": [
    "len(non_masked_grid_lines)"
   ]
  },
  {
   "cell_type": "code",
   "execution_count": null,
   "metadata": {},
   "outputs": [],
   "source": []
  }
 ],
 "metadata": {
  "kernelspec": {
   "display_name": "Python [conda env:ENTER]",
   "language": "python",
   "name": "conda-env-ENTER-py"
  },
  "language_info": {
   "codemirror_mode": {
    "name": "ipython",
    "version": 3
   },
   "file_extension": ".py",
   "mimetype": "text/x-python",
   "name": "python",
   "nbconvert_exporter": "python",
   "pygments_lexer": "ipython3",
   "version": "3.7.0"
  }
 },
 "nbformat": 4,
 "nbformat_minor": 4
}
