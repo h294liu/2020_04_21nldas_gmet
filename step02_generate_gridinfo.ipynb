{
 "cells": [
  {
   "cell_type": "code",
   "execution_count": 1,
   "metadata": {},
   "outputs": [
    {
     "name": "stdout",
     "output_type": "stream",
     "text": [
      "Done\n"
     ]
    }
   ],
   "source": [
    "# Generate GMET grid (mask) based on nldas_topo and nldas_forcing files.\n",
    "\n",
    "import os\n",
    "import numpy as np\n",
    "import xarray as xr\n",
    "import netCDF4 as nc\n",
    "\n",
    "root_dir = '/glade/u/home/hongli/scratch/2020_04_21nldas_gmet/data'\n",
    "nldas_force_file = 'nldas_daily_utc/NLDAS_2016.nc'\n",
    "\n",
    "nldas_topo_file = 'nldas_topo/NLDAS_topo.nc'\n",
    "# generated from step01_calculate_gradient_ns_we\n",
    "\n",
    "gridinfo_tpl = 'nldas_topo/conus_ens_grid_eighth_deg_v1p1.nc' \n",
    "# AndyN's latest CONUS topography grid file @hydro-c1 /d2/anewman/prob_qpe/version_1p1/grid/conus_ens_grid_eighth_deg_v1p1.nc\n",
    "\n",
    "ofile = 'nldas_topo/conus_ens_grid_eighth.nc'\n",
    "if os.path.exists(os.path.join(root_dir,ofile)):\n",
    "    os.remove(os.path.join(root_dir,ofile))\n",
    "\n",
    "# read NLDAS topography\n",
    "f = xr.open_dataset(os.path.join(root_dir,nldas_topo_file))\n",
    "lat = f['lat'].values[:] #(224)\n",
    "lon = f['lon'].values[:] #(464)\n",
    "NLDAS_elev = f['NLDAS_elev'].values[:][0,:,:] #(time,ny,nx)->(ny,nx)\n",
    "gradient_n_s = f['gradient_n_s'].values[:][0,:,:] \n",
    "gradient_w_e = f['gradient_w_e'].values[:][0,:,:] \n",
    "mask_topo = (~np.isnan(NLDAS_elev))\n",
    "\n",
    "# read NLDAS forcing\n",
    "f = xr.open_dataset(os.path.join(root_dir,nldas_force_file))\n",
    "lat_110 = f['lat_110'].values[:] #(224)\n",
    "lon_110 = f['lon_110'].values[:] #(464)\n",
    "tair_min = f['tair_min'].values[:] #(365,224,464)\n",
    "mask_force = (~np.isnan(tair_min[0,:,:]))\n",
    "\n",
    "# gmet mask\n",
    "# reminder: step01_calculate_gradient_ns_we ensures nldas_topo has no less coverage than nldas_forcing\n",
    "mask = (mask_force==True) \n",
    "elev_mask = np.where(mask==True,NLDAS_elev,np.nan)\n",
    "gradient_n_s_mask = np.where(mask==True,gradient_n_s,np.nan) \n",
    "gradient_w_e_mask = np.where(mask==True,gradient_w_e,np.nan)\n",
    "(ny,nx) = np.shape(mask)\n",
    "\n",
    "# process latitude and longitude\n",
    "lat_2d = lat.reshape(ny,1).repeat(nx,axis=1)\n",
    "lon_2d = lon.reshape(1,nx).repeat(ny,axis=0)\n",
    "dx = 1/8.0\n",
    "dy = 1/8.0\n",
    "startx = lat[0]\n",
    "starty = lon[0]\n",
    "\n",
    "# save\n",
    "with nc.Dataset(os.path.join(root_dir,gridinfo_tpl)) as src:\n",
    "    with nc.Dataset(os.path.join(root_dir,ofile), \"w\") as dst:\n",
    "        \n",
    "        # create dimensions\n",
    "        dst.createDimension('param', 1)\n",
    "        dst.createDimension('y', ny)\n",
    "        dst.createDimension('x', nx)\n",
    "\n",
    "        # copy variable attributes all at once via dictionary (for the included variables)\n",
    "        for name, variable in src.variables.items():\n",
    "            x = dst.createVariable(name, variable.datatype, variable.dimensions)               \n",
    "            dst[name].setncatts(src[name].__dict__)\n",
    "\n",
    "        # assign values for variables ([:] is necessary)\n",
    "        dst.variables['latitude'][:] = lat_2d\n",
    "        dst.variables['longitude'][:] = lon_2d\n",
    "        dst.variables['elev'][:] = elev_mask\n",
    "        dst.variables['gradient_n_s'][:] = gradient_n_s_mask \n",
    "        dst.variables['gradient_w_e'][:] = gradient_w_e_mask \n",
    "        dst.variables['mask'][:] = mask\n",
    "        dst.variables['data_mask'][:] = mask\n",
    "        dst.variables['land_mask'][:] = mask\n",
    "        dst.variables['dx'][:] = dx\n",
    "        dst.variables['dy'][:] = dy\n",
    "        dst.variables['startx'][:] = startx\n",
    "        dst.variables['starty'][:] = starty     \n",
    "        \n",
    "print('Done')"
   ]
  },
  {
   "cell_type": "code",
   "execution_count": 2,
   "metadata": {},
   "outputs": [
    {
     "data": {
      "image/png": "[encoded data removed]",
      "text/plain": [
       "<Figure size 432x288 with 1 Axes>"
      ]
     },
     "metadata": {
      "needs_background": "light"
     },
     "output_type": "display_data"
    }
   ],
   "source": [
    "import matplotlib.pyplot as plt\n",
    "plt.imshow((mask_topo!=True) & (mask_force==True), origin='lower')\n",
    "plt.show()"
   ]
  },
  {
   "cell_type": "code",
   "execution_count": null,
   "metadata": {},
   "outputs": [],
   "source": []
  }
 ],
 "metadata": {
  "kernelspec": {
   "display_name": "conda_hongli",
   "language": "python",
   "name": "conda_hongli"
  },
  "language_info": {
   "codemirror_mode": {
    "name": "ipython",
    "version": 3
   },
   "file_extension": ".py",
   "mimetype": "text/x-python",
   "name": "python",
   "nbconvert_exporter": "python",
   "pygments_lexer": "ipython3",
   "version": "3.8.3"
  }
 },
 "nbformat": 4,
 "nbformat_minor": 4
}
