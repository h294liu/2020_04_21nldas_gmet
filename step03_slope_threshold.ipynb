{
 "cells": [
  {
   "cell_type": "code",
   "execution_count": 2,
   "metadata": {},
   "outputs": [
    {
     "name": "stdout",
     "output_type": "stream",
     "text": [
      "85.22623259035697 80.24763129901294\n",
      "85.22623259035697 80.24763129901294\n",
      "3.612898145492106 3.6046542730064046\n",
      "3.608776209249255\n",
      "Done\n"
     ]
    }
   ],
   "source": [
    "# Find slope threshold for ensemble generation\n",
    "\n",
    "import os\n",
    "import numpy as np\n",
    "import xarray as xr\n",
    "from scipy import stats\n",
    "\n",
    "root_dir = '/glade/u/home/hongli/scratch/2020_04_21nldas_gmet/data'\n",
    "stn_grid_file = 'nldas_topo/conus_ens_grid_eighth_deg_v1p1.nc' \n",
    "nldsa_grid_file = 'nldas_topo/conus_ens_grid_eighth.nc'\n",
    "\n",
    "# read stn grid\n",
    "f = xr.open_dataset(os.path.join(root_dir,stn_grid_file))\n",
    "stn_mask = f['mask'].values[:]\n",
    "stn_gradient_n_s = f['gradient_n_s'].values[:] \n",
    "stn_gradient_w_e = f['gradient_w_e'].values[:]\n",
    "\n",
    "# read NLDAS grid\n",
    "f = xr.open_dataset(os.path.join(root_dir,nldsa_grid_file))\n",
    "nldas_mask = f['mask'].values[:]\n",
    "nldas_gradient_n_s = f['gradient_n_s'].values[:]\n",
    "nldas_gradient_w_e = f['gradient_w_e'].values[:] \n",
    "\n",
    "# find percentile of 3.6 relative to stn_grid slope\n",
    "stn_p1=stats.percentileofscore(np.absolute(stn_gradient_n_s[(stn_mask==1)]), 3.6)\n",
    "stn_p2=stats.percentileofscore(np.absolute(stn_gradient_w_e[(stn_mask==1)]), 3.6)\n",
    "print(stn_p1,stn_p2)\n",
    "\n",
    "# find slope threshold\n",
    "thrsh1 = np.percentile(np.absolute(nldas_gradient_n_s[(nldas_mask==1)]),stn_p1)\n",
    "thrsh2 = np.percentile(np.absolute(nldas_gradient_w_e[(nldas_mask==1)]),stn_p2)\n",
    "print(stn_p1,stn_p2)\n",
    "print(thrsh1,thrsh2)\n",
    "print((thrsh1+thrsh2)*0.5)\n",
    "\n",
    "print('Done')"
   ]
  },
  {
   "cell_type": "code",
   "execution_count": 19,
   "metadata": {},
   "outputs": [
    {
     "data": {
      "text/plain": [
       "((80846,), (224, 464))"
      ]
     },
     "execution_count": 19,
     "metadata": {},
     "output_type": "execute_result"
    }
   ],
   "source": [
    "85.22623259035697 80.24763129901294\n",
    "85.22623259035697 80.24763129901294\n",
    "0.34849836616838975 0.2507613942930606\n",
    "0.2996298802307252"
   ]
  },
  {
   "cell_type": "code",
   "execution_count": 14,
   "metadata": {},
   "outputs": [
    {
     "data": {
      "image/png": "[encoded data removed]",
      "text/plain": [
       "<Figure size 432x288 with 1 Axes>"
      ]
     },
     "metadata": {
      "needs_background": "light"
     },
     "output_type": "display_data"
    }
   ],
   "source": [
    "import matplotlib.pyplot as plt\n",
    "plt.imshow((stn_mask==1),origin='lower')\n",
    "plt.show()"
   ]
  },
  {
   "cell_type": "code",
   "execution_count": null,
   "metadata": {},
   "outputs": [],
   "source": []
  }
 ],
 "metadata": {
  "kernelspec": {
   "display_name": "conda_hongli",
   "language": "python",
   "name": "conda_hongli"
  },
  "language_info": {
   "codemirror_mode": {
    "name": "ipython",
    "version": 3
   },
   "file_extension": ".py",
   "mimetype": "text/x-python",
   "name": "python",
   "nbconvert_exporter": "python",
   "pygments_lexer": "ipython3",
   "version": "3.8.3"
  }
 },
 "nbformat": 4,
 "nbformat_minor": 4
}
